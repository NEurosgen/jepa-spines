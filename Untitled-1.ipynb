{
 "cells": [
  {
   "cell_type": "code",
   "execution_count": 1,
   "id": "aa33b899",
   "metadata": {},
   "outputs": [],
   "source": [
    "from omegaconf import DictConfig\n",
    "from graph import GetDatasetGrap\n",
    "from PathcesDataset import PatchGroupDataset\n",
    "from ExperimentalDataset import SpineGraphDataset\n"
   ]
  },
  {
   "cell_type": "code",
   "execution_count": 2,
   "id": "9b9259d8",
   "metadata": {},
   "outputs": [
    {
     "name": "stdout",
     "output_type": "stream",
     "text": [
      "\n",
      "=== TRAIN ===\n",
      "Graphs: 1000\n",
      "Nodes/graph: mean 8.73 | med 8.00 | min 2 | max 19\n",
      "Edges/graph: mean 20.83 | med 20.00 | min 2 | max 44\n",
      "Mean graph density (≈undirected): 0.9365\n",
      "x dims → counts: {(13,): 1000}\n",
      "edge_attr dims → counts: {}\n",
      "has_y graphs: 1000, y shapes → counts: {(1,): 1000}\n",
      "Degree mean 2.39 | med 3.00 | max 3\n",
      "Degree hist (0..10): [82, 1025, 3057, 4565, 0, 0, 0, 0, 0, 0, 0]\n",
      "\n",
      "=== val ===\n",
      "Graphs: 132\n",
      "Nodes/graph: mean 10.75 | med 10.00 | min 7 | max 16\n",
      "Edges/graph: mean 25.33 | med 24.00 | min 18 | max 40\n",
      "Mean graph density (≈undirected): 0.5266\n",
      "x dims → counts: {(13,): 132}\n",
      "edge_attr dims → counts: {}\n",
      "has_y graphs: 132, y shapes → counts: {(1,): 132}\n",
      "Degree mean 2.36 | med 3.00 | max 3\n",
      "Degree hist (0..10): [22, 165, 517, 715, 0, 0, 0, 0, 0, 0, 0]\n",
      "\n",
      "=== test ===\n",
      "Graphs: 20\n",
      "Nodes/graph: mean 11.80 | med 11.00 | min 5 | max 22\n",
      "Edges/graph: mean 27.80 | med 26.00 | min 12 | max 50\n",
      "Mean graph density (≈undirected): 0.5080\n",
      "x dims → counts: {(13,): 20}\n",
      "edge_attr dims → counts: {}\n",
      "has_y graphs: 20, y shapes → counts: {(1,): 20}\n",
      "Degree mean 2.36 | med 3.00 | max 3\n",
      "Degree hist (0..10): [5, 30, 77, 124, 0, 0, 0, 0, 0, 0, 0]\n",
      "\n",
      "=== QUICK DIFFS ===\n",
      "Nodes/graph mean: TRAIN=8.729000091552734 | MAIN=10.75\n",
      "Edges/graph mean: TRAIN=20.833999633789062 | MAIN=25.33333396911621\n",
      "Density mean: TRAIN=0.9365118741989136 | MAIN=0.5266465544700623\n",
      "Degree mean: TRAIN=2.3867568969726562 | MAIN=2.3565890789031982\n"
     ]
    }
   ],
   "source": [
    "from collections import Counter, defaultdict\n",
    "import math\n",
    "import torch\n",
    "from torch_geometric.utils import degree\n",
    "\n",
    "def dataset_stats(ds, max_deg_show=10):\n",
    "    n_graphs = len(ds)\n",
    "    node_counts, edge_counts = [], []\n",
    "    x_dims, y_shapes, edge_attr_dims = Counter(), Counter(), Counter()\n",
    "    has_y = 0\n",
    "    num_classes_guess = Counter()\n",
    "\n",
    "    # degree stats\n",
    "    deg_all = []\n",
    "\n",
    "    for data in ds:\n",
    "        # Basic counts\n",
    "        N = int(data.num_nodes)\n",
    "        E = int(data.num_edges)\n",
    "        node_counts.append(N)\n",
    "        edge_counts.append(E)\n",
    "\n",
    "        # Features\n",
    "        if hasattr(data, 'x') and data.x is not None:\n",
    "            x_dims[tuple(data.x.shape[1:])] += 1  # (F,) typically\n",
    "\n",
    "        # Targets\n",
    "        if hasattr(data, 'y') and data.y is not None:\n",
    "            has_y += 1\n",
    "            y_shapes[tuple(data.y.shape)] += 1\n",
    "            # crude guess of classes for 1D integer labels\n",
    "            y_flat = data.y.view(-1)\n",
    "            if y_flat.dtype in (torch.long, torch.int64, torch.int32, torch.int16, torch.uint8):\n",
    "                num_classes_guess[int(y_flat.max().item()) + 1] += 1\n",
    "\n",
    "        # Edge attributes\n",
    "        if hasattr(data, 'edge_attr') and data.edge_attr is not None:\n",
    "            edge_attr_dims[tuple(data.edge_attr.shape[1:])] += 1\n",
    "\n",
    "        # Degree distribution (undirected-safe)\n",
    "        if hasattr(data, 'edge_index') and data.edge_index is not None:\n",
    "            deg = degree(data.edge_index[0], num_nodes=N, dtype=torch.float)\n",
    "            deg_all.append(deg)\n",
    "\n",
    "    def _agg(lst):\n",
    "        if not lst:\n",
    "            return dict(count=0)\n",
    "        t = torch.tensor(lst, dtype=torch.float)\n",
    "        return dict(\n",
    "            count=len(lst),\n",
    "            mean=float(t.mean()),\n",
    "            std=float(t.std(unbiased=False)) if len(lst) > 1 else 0.0,\n",
    "            min=int(t.min()),\n",
    "            p25=float(t.quantile(0.25)) if len(lst) > 1 else float(t[0]),\n",
    "            median=float(t.median()),\n",
    "            p75=float(t.quantile(0.75)) if len(lst) > 1 else float(t[0]),\n",
    "            max=int(t.max()),\n",
    "        )\n",
    "\n",
    "    # Degree summary\n",
    "    if deg_all:\n",
    "        deg_concat = torch.cat(deg_all)\n",
    "        deg_hist = torch.bincount(deg_concat.long())\n",
    "        deg_summary = {\n",
    "            'mean': float(deg_concat.mean()),\n",
    "            'std': float(deg_concat.std(unbiased=False)) if deg_concat.numel() > 1 else 0.0,\n",
    "            'min': float(deg_concat.min()),\n",
    "            'median': float(deg_concat.median()),\n",
    "            'max': float(deg_concat.max()),\n",
    "            'hist_0..{}:counts'.format(max_deg_show): [int(deg_hist[i]) if i < len(deg_hist) else 0 for i in range(max_deg_show+1)]\n",
    "        }\n",
    "    else:\n",
    "        deg_summary = {}\n",
    "\n",
    "    return {\n",
    "        'num_graphs': n_graphs,\n",
    "        'nodes_per_graph': _agg(node_counts),\n",
    "        'edges_per_graph': _agg(edge_counts),\n",
    "        'x_feature_dims_counts': dict(x_dims),       # e.g. {(F,): count}\n",
    "        'edge_attr_dims_counts': dict(edge_attr_dims),\n",
    "        'has_y_graphs': has_y,\n",
    "        'y_shapes_counts': dict(y_shapes),\n",
    "        'num_classes_guess(from y max+1)': dict(num_classes_guess),  # heuristic\n",
    "        'degree_summary': deg_summary,\n",
    "        'density_mean': (\n",
    "            float(torch.tensor([\n",
    "                0.0 if n <= 1 else (2*e)/(n*(n-1))  # undirected density heuristic\n",
    "                for n, e in zip(node_counts, edge_counts)\n",
    "            ]).mean()) if node_counts else None\n",
    "        )\n",
    "    }\n",
    "\n",
    "def pretty_print_stats(name, stats):\n",
    "    print(f\"\\n=== {name} ===\")\n",
    "    print(f\"Graphs: {stats['num_graphs']}\")\n",
    "    n = stats['nodes_per_graph']\n",
    "    e = stats['edges_per_graph']\n",
    "    print(f\"Nodes/graph: mean {n.get('mean'):.2f} | med {n.get('median'):.2f} | min {n.get('min')} | max {n.get('max')}\")\n",
    "    print(f\"Edges/graph: mean {e.get('mean'):.2f} | med {e.get('median'):.2f} | min {e.get('min')} | max {e.get('max')}\")\n",
    "    if stats['density_mean'] is not None:\n",
    "        print(f\"Mean graph density (≈undirected): {stats['density_mean']:.4f}\")\n",
    "    print(f\"x dims → counts: {stats['x_feature_dims_counts']}\")\n",
    "    print(f\"edge_attr dims → counts: {stats['edge_attr_dims_counts']}\")\n",
    "    print(f\"has_y graphs: {stats['has_y_graphs']}, y shapes → counts: {stats['y_shapes_counts']}\")\n",
    "    if stats['num_classes_guess(from y max+1)']:\n",
    "        print(f\"num_classes (guess) → counts: {stats['num_classes_guess(from y max+1)']}\")\n",
    "    if stats['degree_summary']:\n",
    "        d = stats['degree_summary']\n",
    "        print(f\"Degree mean {d['mean']:.2f} | med {d['median']:.2f} | max {d['max']:.0f}\")\n",
    "        print(f\"Degree hist (0..10): {d['hist_0..10:counts']}\")\n",
    "\n",
    "# ---- Your datasets ----\n",
    "from get_data import create_dataset\n",
    "train_dataset,val_dataset,test_dataset = create_dataset(cfg)\n",
    "\n",
    "# ---- Compute & compare ----\n",
    "train_stats = dataset_stats(train_dataset)\n",
    "val_stats  = dataset_stats(val_dataset)\n",
    "test_stats  = dataset_stats(test_dataset)\n",
    "\n",
    "pretty_print_stats(\"TRAIN\", train_stats)\n",
    "pretty_print_stats(\"val\",  val_stats)\n",
    "pretty_print_stats(\"test\",  test_stats)\n",
    "# Quick side-by-side highlights\n",
    "def diff(a, b, key_chain):\n",
    "    v1, v2 = a, b\n",
    "    for k in key_chain: v1, v2 = v1.get(k, {}), v2.get(k, {})\n",
    "    return v1, v2\n",
    "\n",
    "print(\"\\n=== QUICK DIFFS ===\")\n",
    "for label, path in [\n",
    "    (\"Nodes/graph mean\",        (\"nodes_per_graph\",\"mean\")),\n",
    "    (\"Edges/graph mean\",        (\"edges_per_graph\",\"mean\")),\n",
    "    (\"Density mean\",            (\"density_mean\",)),\n",
    "    (\"Degree mean\",             (\"degree_summary\",\"mean\")),\n",
    "]:\n",
    "    v1, v2 = diff(train_stats, val_stats, path)\n",
    "    print(f\"{label}: TRAIN={v1} | MAIN={v2}\")\n"
   ]
  },
  {
   "cell_type": "code",
   "execution_count": 2,
   "id": "c8a43984",
   "metadata": {},
   "outputs": [],
   "source": [
    "from datasets.labid_data import WightlessDS,SpineGraphDataset\n",
    "root_ds = '/home/eugen/Desktop/CodeWork/Projects/Diplom/notebooks/JepaAE/out'\n",
    "from omegaconf import OmegaConf\n",
    "\n",
    "cfg = OmegaConf.load(\"train/configs/zinc.yaml\")\n",
    "tr_dataset = WightlessDS(root = 'Test')\n",
    "train_dataset = SpineGraphDataset(\n",
    "            ds=tr_dataset,\n",
    "            knn=cfg.data.knn,\n",
    "            count_per_item=0,\n",
    "            mode=cfg.data.mode,\n",
    "            gamma=cfg.data.gamma,\n",
    "        \n",
    "        )\n",
    "main_dataset = WightlessDS(root = 'data')\n",
    "main_dataset = SpineGraphDataset(\n",
    "            ds=main_dataset,\n",
    "            knn=cfg.data.knn,\n",
    "            count_per_item=0,\n",
    "            mode=cfg.data.mode,\n",
    "            gamma=cfg.data.gamma,\n",
    "        \n",
    "        )"
   ]
  },
  {
   "cell_type": "code",
   "execution_count": 8,
   "id": "7a5ce569",
   "metadata": {},
   "outputs": [],
   "source": [
    "import datasets.labid_data\n",
    "root_ds = 'exp_data'\n",
    "dataset =  datasets.labid_data.WightlessDS(root = root_ds)"
   ]
  },
  {
   "cell_type": "code",
   "execution_count": 11,
   "id": "c8a89be9",
   "metadata": {},
   "outputs": [],
   "source": [
    "import torch\n",
    "from torch.utils.data import DataLoader,random_split\n",
    "n_total = len(dataset)\n",
    "n_val = int(0.2 * n_total)\n",
    "n_test = int(0.2 * n_total)\n",
    "n_train = n_total - n_val - n_test\n",
    "train_ds, val_ds ,test_ds= random_split(dataset, [n_train, n_val,n_test],\n",
    "                                generator=torch.Generator().manual_seed(42))"
   ]
  },
  {
   "cell_type": "code",
   "execution_count": 13,
   "id": "ada42b0e",
   "metadata": {},
   "outputs": [
    {
     "data": {
      "text/plain": [
       "12"
      ]
     },
     "execution_count": 13,
     "metadata": {},
     "output_type": "execute_result"
    }
   ],
   "source": [
    "len(test_ds)"
   ]
  },
  {
   "cell_type": "code",
   "execution_count": 14,
   "id": "52419fe6",
   "metadata": {},
   "outputs": [
    {
     "data": {
      "text/plain": [
       "12"
      ]
     },
     "execution_count": 14,
     "metadata": {},
     "output_type": "execute_result"
    }
   ],
   "source": [
    "len(val_ds)"
   ]
  },
  {
   "cell_type": "code",
   "execution_count": 15,
   "id": "360cf80e",
   "metadata": {},
   "outputs": [
    {
     "data": {
      "text/plain": [
       "36"
      ]
     },
     "execution_count": 15,
     "metadata": {},
     "output_type": "execute_result"
    }
   ],
   "source": [
    "len(train_ds)"
   ]
  },
  {
   "cell_type": "code",
   "execution_count": 7,
   "id": "a03e2b23",
   "metadata": {},
   "outputs": [
    {
     "name": "stdout",
     "output_type": "stream",
     "text": [
      "tensor([0.])\n",
      "tensor([0.])\n",
      "tensor([0.])\n",
      "tensor([0.])\n",
      "tensor([0.])\n",
      "tensor([0.])\n",
      "tensor([0.])\n",
      "tensor([0.])\n",
      "tensor([0.])\n",
      "tensor([0.])\n",
      "tensor([1.])\n",
      "tensor([1.])\n",
      "tensor([1.])\n",
      "tensor([1.])\n",
      "tensor([1.])\n",
      "tensor([1.])\n",
      "tensor([1.])\n",
      "tensor([1.])\n",
      "tensor([1.])\n",
      "tensor([1.])\n"
     ]
    }
   ],
   "source": [
    "for iter in train_dataset:\n",
    "    print(iter.y)"
   ]
  },
  {
   "cell_type": "code",
   "execution_count": 2,
   "id": "c1954b85",
   "metadata": {},
   "outputs": [],
   "source": [
    "el = SpineGraphDataset(dataset)[60]"
   ]
  },
  {
   "cell_type": "code",
   "execution_count": 13,
   "id": "401e06c5",
   "metadata": {},
   "outputs": [],
   "source": [
    "from torch_geometric.data import Dataset, Data\n",
    "import torch\n",
    "from pathlib import Path\n",
    "from datasets.labid_spheric_data import pyg_data_to_nx,knn_graph\n",
    "knn = 4\n",
    "path = \"/home/eugen/Desktop/CodeWork/Projects/Diplom/notebooks/TranslateToSpherical/out/Ab/ab41-1_processed/graph/graph.pt\"\n",
    "data: Data = torch.load(path, map_location=\"cpu\",  weights_only=False)\n",
    "G = pyg_data_to_nx(data)\n",
    "if knn and knn > 0:\n",
    "    G = knn_graph(G, k=knn, mutual=True,weight='attr')"
   ]
  },
  {
   "cell_type": "code",
   "execution_count": 15,
   "id": "13266be5",
   "metadata": {},
   "outputs": [
    {
     "data": {
      "image/png": "[encoded data removed]",
      "text/plain": [
       "<Figure size 640x480 with 1 Axes>"
      ]
     },
     "metadata": {},
     "output_type": "display_data"
    }
   ],
   "source": [
    "import networkx as nx\n",
    "nx.draw(G)"
   ]
  },
  {
   "cell_type": "code",
   "execution_count": 14,
   "id": "913505f0",
   "metadata": {},
   "outputs": [],
   "source": [
    "import networkx as nx\n",
    "G.get_edge_data(0,1)"
   ]
  },
  {
   "cell_type": "code",
   "execution_count": 2,
   "id": "6d0472bb",
   "metadata": {},
   "outputs": [
    {
     "name": "stdout",
     "output_type": "stream",
     "text": [
      "Size dataset 41\n"
     ]
    }
   ],
   "source": [
    "base_ds = SpineGraphDataset(\n",
    "        root='data',\n",
    "        knn=5,\n",
    "        count_per_item=1,\n",
    "        mode='CopiedGraphs',\n",
    "        gamma=0.5\n",
    "    )\n",
    "print(\"Size dataset\", len(base_ds))"
   ]
  },
  {
   "cell_type": "code",
   "execution_count": 3,
   "id": "3ce9aef8",
   "metadata": {},
   "outputs": [],
   "source": [
    "train_patch_ds = PatchGroupDataset(\n",
    "        base_graphs=base_ds,\n",
    "        p= 3 ,\n",
    "        rwse_k=2,\n",
    "        khop=1,\n",
    "        targets_per_ctx=4,\n",
    "        min_patch_nodes=2,\n",
    "        use_metis=False,\n",
    "        context_mode=\"patch\"\n",
    "    )"
   ]
  },
  {
   "cell_type": "code",
   "execution_count": null,
   "id": "605237ba",
   "metadata": {},
   "outputs": [
    {
     "data": {
      "text/plain": [
       "(Data(edge_index=[2, 62], num_nodes=15, x=[15, 13]),\n",
       " [Data(edge_index=[2, 62], num_nodes=15, x=[15, 13]),\n",
       "  Data(edge_index=[2, 62], num_nodes=15, x=[15, 13]),\n",
       "  Data(edge_index=[2, 62], num_nodes=15, x=[15, 13])],\n",
       " [tensor([[0.0000, 0.2750]]),\n",
       "  tensor([[0.0000, 0.3167]]),\n",
       "  tensor([[0.0000, 0.3167]])])"
      ]
     },
     "execution_count": 16,
     "metadata": {},
     "output_type": "execute_result"
    }
   ],
   "source": [
    "train_patch_ds[2]"
   ]
  },
  {
   "cell_type": "code",
   "execution_count": 33,
   "id": "c1baf42e",
   "metadata": {},
   "outputs": [
    {
     "data": {
      "text/plain": [
       "tensor([0.0000e+00, 0.0000e+00, 0.0000e+00, 0.0000e+00, 0.0000e+00, 0.0000e+00,\n",
       "        0.0000e+00, 0.0000e+00, 1.8738e+00, 1.2117e-01, 1.4791e+00, 1.1947e-04,\n",
       "        1.0847e-01, 2.6048e+00, 9.2435e-02, 2.0599e+00, 2.6249e-06, 7.8119e-07,\n",
       "        5.7180e+00, 6.6143e-01, 3.4733e+00, 2.9796e-01, 5.5164e-01, 1.9059e+00,\n",
       "        1.5958e+00, 1.6180e+00, 4.4577e-03, 6.7553e-03, 4.2175e-01, 0.0000e+00,\n",
       "        0.0000e+00])"
      ]
     },
     "execution_count": 33,
     "metadata": {},
     "output_type": "execute_result"
    }
   ],
   "source": [
    "train_patch_ds[2][1][0].x[train_patch_ds[2][1][0].x != train_patch_ds[2][1][1].x]"
   ]
  },
  {
   "cell_type": "code",
   "execution_count": null,
   "id": "89e25b50",
   "metadata": {},
   "outputs": [],
   "source": []
  },
  {
   "cell_type": "code",
   "execution_count": null,
   "id": "6ed8583e",
   "metadata": {},
   "outputs": [],
   "source": [
    "train_patch_ds[2][0].x"
   ]
  },
  {
   "cell_type": "code",
   "execution_count": 4,
   "id": "a0873f6f",
   "metadata": {},
   "outputs": [
    {
     "name": "stdout",
     "output_type": "stream",
     "text": [
      "Size dataset 1000\n"
     ]
    }
   ],
   "source": [
    "base_ds = SpineGraphDataset(\n",
    "        root='data',\n",
    "        knn=5,\n",
    "        count_per_item=30,\n",
    "        mode='MarkovGraphs',\n",
    "        gamma=0.8\n",
    "    )\n",
    "print(\"Size dataset\", len(base_ds))"
   ]
  },
  {
   "cell_type": "code",
   "execution_count": 4,
   "id": "6b2f72b9",
   "metadata": {},
   "outputs": [
    {
     "data": {
      "text/plain": [
       "Data(edge_index=[2, 6], weight=[6], x=[3, 13], y=[1], group_id='data/Ab/ab18-1_graph.pkl')"
      ]
     },
     "execution_count": 4,
     "metadata": {},
     "output_type": "execute_result"
    }
   ],
   "source": [
    "base_ds[0]"
   ]
  },
  {
   "cell_type": "code",
   "execution_count": 4,
   "id": "eb323735",
   "metadata": {},
   "outputs": [],
   "source": [
    "from KkopPatchDataset import KHopPatchDataset\n",
    "ps = KHopPatchDataset(       base_graphs=base_ds,\n",
    "        p= 3 ,\n",
    "        rwse_k=2,\n",
    "        khop=1,\n",
    "        min_patch_nodes=2,\n",
    "        use_metis=False)\n"
   ]
  },
  {
   "cell_type": "code",
   "execution_count": 7,
   "id": "195d70b5",
   "metadata": {},
   "outputs": [
    {
     "data": {
      "text/plain": [
       "Data(edge_index=[2, 72], weight=[72], x=[17, 13], y=[1])"
      ]
     },
     "execution_count": 7,
     "metadata": {},
     "output_type": "execute_result"
    }
   ],
   "source": [
    "base_ds[10]"
   ]
  },
  {
   "cell_type": "code",
   "execution_count": 8,
   "id": "79cbfe36",
   "metadata": {},
   "outputs": [
    {
     "data": {
      "text/plain": [
       "(Data(edge_index=[2, 64], num_nodes=15, x=[15, 13]),\n",
       " [Data(edge_index=[2, 68], num_nodes=16, x=[16, 13]),\n",
       "  Data(edge_index=[2, 50], num_nodes=13, x=[13, 13])],\n",
       " [tensor([[0.0000, 0.2750]]), tensor([[0.0000, 0.3611]])],\n",
       " 0)"
      ]
     },
     "execution_count": 8,
     "metadata": {},
     "output_type": "execute_result"
    }
   ],
   "source": [
    "ps[10]"
   ]
  },
  {
   "cell_type": "code",
   "execution_count": null,
   "id": "c973f5e1",
   "metadata": {},
   "outputs": [],
   "source": [
    "\n",
    "def _load_base_graph(path: Path, knn: int) -> nx.Graph:\n",
    "    with open(path, \"rb\") as fh:\n",
    "        G = pickle.load(fh)\n",
    "    if knn and knn > 0:\n",
    "        G = knn_graph(G, k=knn, mutual=True)\n",
    "    return G"
   ]
  },
  {
   "cell_type": "code",
   "execution_count": 12,
   "id": "fe1eb40e",
   "metadata": {},
   "outputs": [],
   "source": [
    "from pathlib import Path\n",
    "import pickle\n",
    "import networkx as nx\n",
    "import pickle, copy, itertools, heapq\n",
    "def graph_density(G: nx.Graph) -> float:\n",
    "    n = G.number_of_nodes()\n",
    "    if n <= 1: return 0.0\n",
    "    return 2.0 * G.number_of_edges() / (n * (n - 1))\n",
    "\n",
    "def knn_graph(G: nx.Graph, k: int, weight: str = \"weight\", mutual: bool = False) -> nx.Graph:\n",
    "    H = nx.DiGraph()\n",
    "    H.add_nodes_from(G.nodes(data=True))\n",
    "    for u in G.nodes:\n",
    "        # k лучших соседей по минимальному весу\n",
    "        k_best = heapq.nsmallest(\n",
    "            k, G[u].items(),\n",
    "            key=lambda item: item[1].get(weight, 1.0)\n",
    "        )\n",
    "        for v, edata in k_best:\n",
    "            H.add_edge(u, v, **edata)\n",
    "    if mutual:\n",
    "        to_remove = [(u, v) for u, v in H.edges if not H.has_edge(v, u)]\n",
    "        H.remove_edges_from(to_remove)\n",
    "        H = nx.Graph(H)\n",
    "    else:\n",
    "        # если нужен неориентированный kNN, раскомментируй:\n",
    "        # H = nx.Graph(H)\n",
    "        pass\n",
    "    return H\n",
    "def load_graphs(path,knn=0):\n",
    "    with open(path, 'rb') as fh:\n",
    "        G = pickle.load(fh)\n",
    "    if knn > 0:\n",
    "        G = knn_graph(G=G,k=knn)\n",
    "    return G\n",
    "\n",
    "def GetGraphs(root , knn = 0):\n",
    "    root = root\n",
    "    files = sorted(Path(root).glob(\"*.pkl\"))\n",
    "    all_graphs = []\n",
    "    for path in files:\n",
    "        all_graphs.append(load_graphs(path,knn = knn))\n",
    "    return all_graphs\n",
    "\n",
    "\n",
    "k = 3\n",
    "ab_graphs = GetGraphs(root = 'data/Ab',knn = k)\n",
    "wt_graphs = GetGraphs(root = 'data/Wt',knn = k)\n",
    "\n"
   ]
  },
  {
   "cell_type": "code",
   "execution_count": 14,
   "id": "cd5555cb",
   "metadata": {},
   "outputs": [],
   "source": [
    "G = load_graphs('/home/eugen/Desktop/CodeWork/Projects/Diplom/notebooks/JepaAE/Test/Ab/ab24-1_processed_graph.pkl')"
   ]
  },
  {
   "cell_type": "code",
   "execution_count": 20,
   "id": "17ac069a",
   "metadata": {},
   "outputs": [
    {
     "data": {
      "text/plain": [
       "{'pos': array([5.02877685, 3.95642182, 1.4330947 ]),\n",
       " 'head_area': np.float64(8.020631879326908),\n",
       " 'head_volume': np.float64(1.162634864670102),\n",
       " 'head_skeletal_length': 2.777685862975188,\n",
       " 'head_width_ray': np.float64(0.2434164053924769),\n",
       " 'head_width_ray_80_perc': np.float64(0.645930317206994),\n",
       " 'head_bbox_max': np.float64(2.569821),\n",
       " 'head_bbox_min': np.float64(1.0294999999999987),\n",
       " 'head_bbox_middle': np.float64(1.7764000000000006),\n",
       " 'neck_area': np.float64(0.0),\n",
       " 'neck_volume': 0,\n",
       " 'neck_skeletal_length': 0.39359650788206807,\n",
       " 'neck_width_ray': 0,\n",
       " 'neck_width_ray_80_perc': 0,\n",
       " 'neck_bbox_max': np.float64(0.38980000000000015),\n",
       " 'neck_bbox_min': np.float64(0.0218999999999987),\n",
       " 'neck_bbox_middle': np.float64(0.027200000000000557),\n",
       " 'spine_n_faces': 1338,\n",
       " 'spine_volume': np.float64(1.1626348646701017),\n",
       " 'spine_sdf_mean': 0,\n",
       " 'spine_bbox_volume': 0,\n",
       " 'spine_center': array([5.02877685, 3.95642182, 1.4330947 ]),\n",
       " 'spine_base_coordinate': None,\n",
       " 'spine_skeletal_length': 2.777685862975188}"
      ]
     },
     "execution_count": 20,
     "metadata": {},
     "output_type": "execute_result"
    }
   ],
   "source": [
    "G.nodes[4]"
   ]
  },
  {
   "cell_type": "code",
   "execution_count": 18,
   "id": "36409001",
   "metadata": {},
   "outputs": [
    {
     "data": {
      "text/plain": [
       "{'pos': array([6.75108262, 5.04548499, 0.56689578]),\n",
       " 'head_area': np.float64(3.4601400726238234),\n",
       " 'head_volume': np.float64(0.3634058105452014),\n",
       " 'head_skeletal_length': 1.8770205940480353,\n",
       " 'head_width_ray': np.float64(0.0774783177187717),\n",
       " 'head_width_ray_80_perc': np.float64(0.17022166683147683),\n",
       " 'head_bbox_max': np.float64(1.4035600000000001),\n",
       " 'head_bbox_min': np.float64(0.5095999999999989),\n",
       " 'head_bbox_middle': np.float64(1.1860999999999997),\n",
       " 'neck_area': np.float64(0.0),\n",
       " 'neck_volume': 0,\n",
       " 'neck_skeletal_length': 0.15907675213281242,\n",
       " 'neck_width_ray': 0,\n",
       " 'neck_width_ray_80_perc': 0,\n",
       " 'neck_bbox_max': np.float64(0.13073999999999986),\n",
       " 'neck_bbox_min': np.float64(0.03529999999999944),\n",
       " 'neck_bbox_middle': np.float64(0.07730000000000103),\n",
       " 'spine_n_faces': 840,\n",
       " 'spine_volume': np.float64(0.3634058105452014),\n",
       " 'spine_sdf_mean': 0,\n",
       " 'spine_bbox_volume': 0,\n",
       " 'spine_center': array([6.75108262, 5.04548499, 0.56689578]),\n",
       " 'spine_base_coordinate': None,\n",
       " 'spine_skeletal_length': 1.8770205940480353}"
      ]
     },
     "execution_count": 18,
     "metadata": {},
     "output_type": "execute_result"
    }
   ],
   "source": [
    "load_graphs('/home/eugen/Desktop/CodeWork/Projects/Diplom/notebooks/JepaAE/data/Ab/ab20-1_processed_graph.pkl').nodes[0]"
   ]
  },
  {
   "cell_type": "code",
   "execution_count": 9,
   "id": "2e45cd42",
   "metadata": {},
   "outputs": [
    {
     "name": "stdout",
     "output_type": "stream",
     "text": [
      "Data(x=[15, 225], edge_index=[2, 210], pos=[15, 3], edge_attr=[210, 1], node_names=[15], file_paths=[15])\n",
      "torch.Size([15, 225])\n",
      "torch.Size([2, 210])\n",
      "['spine_0.off', 'spine_1.off', 'spine_10.off', 'spine_11.off', 'spine_12.off', 'spine_13.off', 'spine_14.off', 'spine_2.off', 'spine_3.off', 'spine_4.off', 'spine_5.off', 'spine_6.off', 'spine_7.off', 'spine_8.off', 'spine_9.off']\n",
      "['/home/eugen/Desktop/CodeWork/Projects/Diplom/notebooks/Spine_proj/data/Ab/ab41-1_processed/spine_0.off', '/home/eugen/Desktop/CodeWork/Projects/Diplom/notebooks/Spine_proj/data/Ab/ab41-1_processed/spine_1.off', '/home/eugen/Desktop/CodeWork/Projects/Diplom/notebooks/Spine_proj/data/Ab/ab41-1_processed/spine_10.off', '/home/eugen/Desktop/CodeWork/Projects/Diplom/notebooks/Spine_proj/data/Ab/ab41-1_processed/spine_11.off', '/home/eugen/Desktop/CodeWork/Projects/Diplom/notebooks/Spine_proj/data/Ab/ab41-1_processed/spine_12.off', '/home/eugen/Desktop/CodeWork/Projects/Diplom/notebooks/Spine_proj/data/Ab/ab41-1_processed/spine_13.off', '/home/eugen/Desktop/CodeWork/Projects/Diplom/notebooks/Spine_proj/data/Ab/ab41-1_processed/spine_14.off', '/home/eugen/Desktop/CodeWork/Projects/Diplom/notebooks/Spine_proj/data/Ab/ab41-1_processed/spine_2.off', '/home/eugen/Desktop/CodeWork/Projects/Diplom/notebooks/Spine_proj/data/Ab/ab41-1_processed/spine_3.off', '/home/eugen/Desktop/CodeWork/Projects/Diplom/notebooks/Spine_proj/data/Ab/ab41-1_processed/spine_4.off', '/home/eugen/Desktop/CodeWork/Projects/Diplom/notebooks/Spine_proj/data/Ab/ab41-1_processed/spine_5.off', '/home/eugen/Desktop/CodeWork/Projects/Diplom/notebooks/Spine_proj/data/Ab/ab41-1_processed/spine_6.off', '/home/eugen/Desktop/CodeWork/Projects/Diplom/notebooks/Spine_proj/data/Ab/ab41-1_processed/spine_7.off', '/home/eugen/Desktop/CodeWork/Projects/Diplom/notebooks/Spine_proj/data/Ab/ab41-1_processed/spine_8.off', '/home/eugen/Desktop/CodeWork/Projects/Diplom/notebooks/Spine_proj/data/Ab/ab41-1_processed/spine_9.off']\n"
     ]
    }
   ],
   "source": [
    "import torch\n",
    "from torch_geometric.data import Data\n",
    "\n",
    "path = \"/home/eugen/Desktop/CodeWork/Projects/Diplom/notebooks/TranslateToSpherical/out/Ab/ab41-1_processed/graph/graph.pt\"\n",
    "data: Data = torch.load(path, map_location=\"cpu\",  weights_only=False)   # или \"cuda\" если нужно\n",
    "print(data)                    # краткая сводка\n",
    "print(data.x.shape)            # (N, F)\n",
    "print(data.edge_index.shape)   # (2, E)\n",
    "print(getattr(data, \"node_names\", None))\n",
    "print(getattr(data, \"file_paths\", None))"
   ]
  },
  {
   "cell_type": "code",
   "execution_count": 11,
   "id": "10944cf6",
   "metadata": {},
   "outputs": [
    {
     "name": "stdout",
     "output_type": "stream",
     "text": [
      "tensor([[4.2267],\n",
      "        [4.8091],\n",
      "        [7.3048],\n",
      "        [4.2267],\n",
      "        [4.8091],\n",
      "        [7.3048]])\n"
     ]
    }
   ],
   "source": [
    "print(data.edge_attr)"
   ]
  },
  {
   "cell_type": "code",
   "execution_count": 6,
   "id": "76f8e584",
   "metadata": {},
   "outputs": [],
   "source": [
    "import networkx as nx\n",
    "import numpy as np\n",
    "import torch\n",
    "\n",
    "def pyg_data_to_nx(data) -> nx.Graph:\n",
    "    \"\"\"\n",
    "    Конвертирует PyG Data -> nx.Graph.\n",
    "    Переносит:\n",
    "      - x[i]  -> атрибут узла 'x' (np.ndarray)\n",
    "      - node_names[i] -> 'name'\n",
    "      - file_paths[i] -> 'path'\n",
    "    \"\"\"\n",
    "    G = nx.Graph()\n",
    "\n",
    "    # Узлы с атрибутами\n",
    "    N = data.num_nodes\n",
    "    has_x = hasattr(data, \"x\") and data.x is not None\n",
    "    has_names = hasattr(data, \"node_names\")\n",
    "    has_paths = hasattr(data, \"file_paths\")\n",
    "\n",
    "    for i in range(N):\n",
    "        attrs = {}\n",
    "        if has_x:\n",
    "            attrs[\"x\"] = data.x[i].detach().cpu().numpy()\n",
    "        if has_names:\n",
    "            attrs[\"name\"] = data.node_names[i]\n",
    "        if has_paths:\n",
    "            attrs[\"path\"] = data.file_paths[i]\n",
    "        G.add_node(int(i), **attrs)\n",
    "\n",
    "    # Рёбра (убираем дубли, self-loops)\n",
    "    ei = data.edge_index.detach().cpu().numpy()\n",
    "    for u, v in ei.T:\n",
    "        u, v = int(u), int(v)\n",
    "        if u == v:\n",
    "            continue\n",
    "        if u < v:  # оставляем одно ребро на пару\n",
    "            G.add_edge(u, v)\n",
    "\n",
    "    # Если есть edge_attr — перенеси при желании:\n",
    "    if hasattr(data, \"edge_attr\") and data.edge_attr is not None:\n",
    "        edge_attr = data.edge_attr.detach().cpu().numpy()\n",
    "        for (u, v), w in zip(ei.T, edge_attr):\n",
    "            if u != v and u < v:\n",
    "                G[u][v][\"attr\"] = w\n",
    "\n",
    "    return G\n"
   ]
  },
  {
   "cell_type": "code",
   "execution_count": null,
   "id": "c9aef9f6",
   "metadata": {},
   "outputs": [],
   "source": [
    "G = pyg_data_to_nx(el)"
   ]
  },
  {
   "cell_type": "code",
   "execution_count": 15,
   "id": "9ea26534",
   "metadata": {},
   "outputs": [
    {
     "data": {
      "text/plain": [
       "{'attr': array([4.226654], dtype=float32)}"
      ]
     },
     "execution_count": 15,
     "metadata": {},
     "output_type": "execute_result"
    }
   ],
   "source": [
    "G.get_edge_data(1,0)"
   ]
  },
  {
   "cell_type": "code",
   "execution_count": 58,
   "id": "6cbee178",
   "metadata": {},
   "outputs": [
    {
     "data": {
      "text/plain": [
       "3"
      ]
     },
     "execution_count": 58,
     "metadata": {},
     "output_type": "execute_result"
    }
   ],
   "source": [
    "len(ab_graphs[0].nodes)"
   ]
  },
  {
   "cell_type": "code",
   "execution_count": 86,
   "id": "ff10aac1",
   "metadata": {},
   "outputs": [
    {
     "data": {
      "text/plain": [
       "'sdsd,eferw,wrw'"
      ]
     },
     "execution_count": 86,
     "metadata": {},
     "output_type": "execute_result"
    }
   ],
   "source": [
    "stro = \"  sdsd eferw wrw  \"\n",
    "','.join(stro.split())\n"
   ]
  },
  {
   "cell_type": "code",
   "execution_count": 76,
   "id": "bc7aaee3",
   "metadata": {},
   "outputs": [
    {
     "data": {
      "text/plain": [
       "tensor([[0., -inf, -inf, -inf, -inf],\n",
       "        [0., 0., -inf, -inf, -inf],\n",
       "        [0., 0., 0., -inf, -inf],\n",
       "        [0., 0., 0., 0., -inf],\n",
       "        [0., 0., 0., 0., 0.]])"
      ]
     },
     "execution_count": 76,
     "metadata": {},
     "output_type": "execute_result"
    }
   ],
   "source": [
    "import torch\n",
    "def causal_mask(S: int, device=None):\n",
    "    m = torch.full((S, S), float('-inf'), device=device)\n",
    "    m = torch.triu(m, diagonal=1)\n",
    "    return m\n",
    "causal_mask(5)"
   ]
  },
  {
   "cell_type": "code",
   "execution_count": 83,
   "id": "ff059bbe",
   "metadata": {},
   "outputs": [
    {
     "data": {
      "text/plain": [
       "tensor([[-inf, -inf, -inf, -inf],\n",
       "        [0., -inf, -inf, -inf],\n",
       "        [0., 0., -inf, -inf],\n",
       "        [0., 0., 0., -inf]])"
      ]
     },
     "execution_count": 83,
     "metadata": {},
     "output_type": "execute_result"
    }
   ],
   "source": [
    "m = torch.full((4,4),float('-inf'))\n",
    "torch.triu(m , diagonal=0)"
   ]
  },
  {
   "cell_type": "code",
   "execution_count": 31,
   "id": "f5e12921",
   "metadata": {},
   "outputs": [
    {
     "name": "stdout",
     "output_type": "stream",
     "text": [
      "torch.Size([8, 3])\n",
      "tensor([1, 1, 3, 3])\n",
      "tensor([0, 1, 2, 5, 8])\n"
     ]
    }
   ],
   "source": [
    "batch = next(iter(loader))\n",
    "print(batch[\"encoded\"].shape)  # -> [sum_T, k]\n",
    "print(batch[\"sizes\"])          # -> [B]\n",
    "print(batch[\"ptr\"]) "
   ]
  },
  {
   "cell_type": "code",
   "execution_count": 3,
   "id": "73d63310",
   "metadata": {},
   "outputs": [],
   "source": [
    "import matplotlib.pyplot as plt\n",
    "import networkx as nx\n",
    "from torch_geometric.utils.convert import to_networkx\n",
    "from torch_geometric.data import Data\n",
    "\n",
    "def visualize_graph(data: Data, title: str = \"Graph\", with_labels: bool = True):\n",
    "    \"\"\"\n",
    "    Простая визуализация графа PyG Data:\n",
    "    - узлы: кружки\n",
    "    - рёбра: линии\n",
    "    - подписи: индексы узлов (опционально)\n",
    "    \"\"\"\n",
    "    # Переводим в networkx-граф\n",
    "    G = to_networkx(data, to_undirected=True, remove_self_loops=True)\n",
    "    pos = nx.spring_layout(G, seed=42)  # расположение узлов\n",
    "\n",
    "    plt.figure(figsize=(5, 5))\n",
    "    nx.draw_networkx_edges(G, pos, alpha=0.8, width=1.5)\n",
    "    nx.draw_networkx_nodes(G, pos, node_size=300, edgecolors=\"black\", linewidths=1.0)\n",
    "    if with_labels:\n",
    "        nx.draw_networkx_labels(G, pos, font_size=8)\n",
    "    plt.title(title)\n",
    "    plt.axis(\"off\")\n",
    "    plt.show()\n"
   ]
  },
  {
   "cell_type": "code",
   "execution_count": 10,
   "id": "27bc02b4",
   "metadata": {},
   "outputs": [
    {
     "data": {
      "image/png": "[encoded data removed]",
      "text/plain": [
       "<Figure size 500x500 with 1 Axes>"
      ]
     },
     "metadata": {},
     "output_type": "display_data"
    }
   ],
   "source": [
    "visualize_graph(train_dataset[6])"
   ]
  },
  {
   "cell_type": "code",
   "execution_count": 21,
   "id": "d8275052",
   "metadata": {},
   "outputs": [
    {
     "data": {
      "text/plain": [
       "tensor([[ 6.4828e+00,  5.0768e-01,  3.4938e+00,  1.6803e-01,  4.1471e-01,\n",
       "          2.2624e+00,  1.5945e+00,  1.6638e+00,  2.9792e-01,  1.3328e-01,\n",
       "          1.5316e+00,  3.6421e-19,  9.0365e-20],\n",
       "        [ 3.3938e+00,  1.6393e+00,  2.0494e+00,  2.2736e-01,  3.8567e-01,\n",
       "          1.6473e+00,  8.4100e-01,  9.2150e-01,  1.1357e+00, -1.1205e+00,\n",
       "          3.3452e+00,  5.0933e-01,  4.0737e-01],\n",
       "        [ 8.8818e+00,  2.4576e+00,  2.9472e+00,  3.3153e-01,  7.8498e-01,\n",
       "          2.0275e+00,  1.3775e+00,  1.9490e+00,  1.6026e+00, -8.0394e-01,\n",
       "          2.2378e+00,  1.0974e-01,  2.5368e-01],\n",
       "        [ 1.1357e+01,  1.3535e+00,  3.6621e+00,  3.9488e-01,  6.3542e-01,\n",
       "          2.4618e+00,  1.8620e+00,  1.9019e+00,  0.0000e+00,  0.0000e+00,\n",
       "          2.3625e-01,  0.0000e+00,  0.0000e+00],\n",
       "        [ 7.6001e+00,  7.1947e+00,  4.2696e+00,  3.6282e-01,  6.4822e-01,\n",
       "          2.7810e+00,  1.7652e+00,  1.8453e+00,  3.5551e-01, -6.3651e+00,\n",
       "          1.4949e+00,  0.0000e+00,  0.0000e+00],\n",
       "        [ 3.7572e+00, -1.9123e+00,  2.5917e+00,  2.4593e-01,  3.3192e-01,\n",
       "          1.6119e+00,  8.0200e-01,  1.3616e+00,  1.1122e+00,  2.4253e+00,\n",
       "          1.6235e+00,  1.7589e-02,  2.1094e-02],\n",
       "        [ 1.2103e+01,  2.3902e+00,  4.1000e+00,  3.7264e-01,  5.9314e-01,\n",
       "          2.4485e+00,  1.4770e+00,  2.3630e+00,  7.1025e-01, -2.8647e-01,\n",
       "          1.4062e+00,  0.0000e+00,  0.0000e+00],\n",
       "        [ 4.5100e+00,  5.0490e-01,  2.3788e+00,  1.6308e-01,  2.5137e-01,\n",
       "          1.5622e+00,  9.2000e-01,  1.3761e+00,  0.0000e+00,  0.0000e+00,\n",
       "          2.0985e-01,  0.0000e+00,  0.0000e+00],\n",
       "        [ 0.0000e+00,  0.0000e+00,  0.0000e+00,  0.0000e+00,  0.0000e+00,\n",
       "          0.0000e+00,  0.0000e+00,  0.0000e+00,  3.8508e+00,  4.1877e-01,\n",
       "          2.2495e+00,  1.6592e-01,  4.7752e-01],\n",
       "        [ 2.2939e+00, -4.7894e-02,  1.6302e+00,  3.5131e-01,  4.1899e-01,\n",
       "          1.5090e+00,  6.4200e-01,  8.0140e-01,  5.0025e-02,  2.7293e-01,\n",
       "          4.0700e-01,  5.3740e-18,  5.0395e-17],\n",
       "        [ 5.0898e+00,  5.5498e-01,  2.4807e+00,  2.4449e-01,  5.6770e-01,\n",
       "          2.1590e+00,  8.9140e-01,  1.3870e+00,  0.0000e+00,  0.0000e+00,\n",
       "          4.4978e-01,  0.0000e+00,  0.0000e+00],\n",
       "        [ 4.5597e+00,  4.9477e-01,  1.6914e+00,  2.5634e-01,  3.0352e-01,\n",
       "          1.7526e+00,  8.8090e-01,  1.3760e+00,  0.0000e+00,  0.0000e+00,\n",
       "          1.5707e-01,  0.0000e+00,  0.0000e+00],\n",
       "        [ 1.8309e+00,  4.1671e+00,  1.6840e+00,  0.0000e+00,  0.0000e+00,\n",
       "          1.0928e+00,  6.1000e-01,  1.0217e+00,  1.0027e+00, -3.9858e+00,\n",
       "          1.2483e+00,  0.0000e+00,  0.0000e+00],\n",
       "        [ 2.7432e+00,  3.8607e+00,  1.6834e+00,  8.0641e-02,  1.3674e-01,\n",
       "          1.2572e+00,  7.8900e-01,  8.8320e-01,  1.6177e+00, -3.3617e+00,\n",
       "          1.4207e+00,  4.6851e-02,  3.7527e-02]])"
      ]
     },
     "execution_count": 21,
     "metadata": {},
     "output_type": "execute_result"
    }
   ],
   "source": [
    "train_dataset[6].x"
   ]
  },
  {
   "cell_type": "code",
   "execution_count": null,
   "id": "586d8008",
   "metadata": {},
   "outputs": [
    {
     "data": {
      "text/plain": [
       "[Data(edge_index=[2, 36], num_nodes=11, x=[11, 13], y=[1]),\n",
       " Data(edge_index=[2, 4], num_nodes=5, x=[5, 13], y=[1]),\n",
       " Data(edge_index=[2, 38], num_nodes=11, x=[11, 13], y=[1])]"
      ]
     },
     "execution_count": 119,
     "metadata": {},
     "output_type": "execute_result"
    }
   ],
   "source": [
    "def get_list_patches(element):\n",
    "    gl =[]\n",
    "    gl.append(element[0])\n",
    "    gl.extend(element[1])\n",
    "    return gl\n",
    "\n",
    "\n",
    "\n",
    "\n"
   ]
  },
  {
   "cell_type": "code",
   "execution_count": 123,
   "id": "cf08e126",
   "metadata": {},
   "outputs": [
    {
     "data": {
      "image/png": "[encoded data removed]",
      "text/plain": [
       "<Figure size 500x500 with 1 Axes>"
      ]
     },
     "metadata": {},
     "output_type": "display_data"
    },
    {
     "data": {
      "image/png": "[encoded data removed]",
      "text/plain": [
       "<Figure size 500x500 with 1 Axes>"
      ]
     },
     "metadata": {},
     "output_type": "display_data"
    },
    {
     "data": {
      "image/png": "[encoded data removed]",
      "text/plain": [
       "<Figure size 500x500 with 1 Axes>"
      ]
     },
     "metadata": {},
     "output_type": "display_data"
    }
   ],
   "source": [
    "for graph in get_list_patches(patches_set[4]):\n",
    "    visualize_graph(graph)"
   ]
  },
  {
   "cell_type": "code",
   "execution_count": null,
   "id": "0607de82",
   "metadata": {},
   "outputs": [],
   "source": [
    "# demo.py\n",
    "import torch\n",
    "from torch_geometric.data import Data\n",
    "from GraphCut.graphcutter import (\n",
    "    GraphCutter, KHop, BFSBudget, RandomWalk,\n",
    "    NodeBudget, EnsureConnected, Unique,\n",
    "    InduceEdges, Relabel, save_patch_npz\n",
    ")\n",
    "\n",
    "# 1) Make a small toy graph (two chains connected by a bridge)\n",
    "# 0-1-2-3-4-5-6 , and \n",
    "\n",
    "# 2) Configure a cutter: three strategies + constraints + post-processing\n",
    "cutter = GraphCutter(\n",
    "    strategies=[\n",
    "        BFSBudget(4),                 # k-hop neighborhood around each seed\n",
    "       # BFS until we collect up to 5 nodes\n",
    " # walk-induced subgraph\n",
    "    ],\n",
    "    constraints=[\n",
    "        NodeBudget(5),             # hard cap to avoid runaway growth\n",
    "        EnsureConnected(),         # keep only largest connected component\n",
    "        Unique()                   # drop duplicates by node set\n",
    "    ],\n",
    "    post=[\n",
    "        InduceEdges(),             # induce edges for the chosen node set\n",
    "        Relabel()                  # reindex nodes to 0..m-1 and slice x/y\n",
    "    ],\n",
    "    rng_seed=0\n",
    ")\n",
    "\n",
    "# 3) Run cutting from a few seeds\n",
    "seeds = [0, 3]\n",
    "patches = cutter.cut(graph_set[4], seeds=seeds)\n",
    "\n",
    "\n"
   ]
  },
  {
   "cell_type": "code",
   "execution_count": 5,
   "id": "4c5ea15d",
   "metadata": {},
   "outputs": [
    {
     "data": {
      "text/plain": [
       "Patch(nodes_orig=tensor([ 0,  1,  4,  5,  6,  7, 11, 12]), edge_index=tensor([[0, 0, 0, 0, 1, 1, 2, 2, 2, 3, 3, 3, 4, 4, 4, 4, 5, 5, 6, 6, 6, 6, 7, 7,\n",
       "         7, 7],\n",
       "        [3, 4, 6, 7, 3, 5, 4, 6, 7, 0, 1, 5, 0, 2, 6, 7, 1, 3, 0, 2, 4, 7, 0, 2,\n",
       "         4, 6]]), num_nodes=8, x=tensor([[ 3.4601e+00,  3.6341e-01,  1.8770e+00,  7.7478e-02,  1.7022e-01,\n",
       "          1.4036e+00,  5.0960e-01,  1.1861e+00,  0.0000e+00,  0.0000e+00,\n",
       "          1.5908e-01,  0.0000e+00,  0.0000e+00],\n",
       "        [ 0.0000e+00,  0.0000e+00,  0.0000e+00,  0.0000e+00,  0.0000e+00,\n",
       "          0.0000e+00,  0.0000e+00,  0.0000e+00,  7.4276e-01,  1.6617e-02,\n",
       "          9.5360e-01,  0.0000e+00,  0.0000e+00],\n",
       "        [ 4.0371e+00,  2.9056e-01,  2.5313e+00,  2.4293e-01,  5.9707e-01,\n",
       "          1.4983e+00,  1.2706e+00,  1.3015e+00,  4.2126e-01,  1.1818e-01,\n",
       "          1.6037e+00,  0.0000e+00,  0.0000e+00],\n",
       "        [ 7.0750e+00,  1.0829e+00,  2.8753e+00,  1.7938e-01,  4.0967e-01,\n",
       "          1.8721e+00,  1.2186e+00,  1.5617e+00,  0.0000e+00,  0.0000e+00,\n",
       "          1.7280e-01,  0.0000e+00,  0.0000e+00],\n",
       "        [ 1.8447e+00,  2.0309e-01,  1.4356e+00,  0.0000e+00,  0.0000e+00,\n",
       "          1.0227e+00,  7.3810e-01,  7.6030e-01,  1.0302e+00,  8.5017e-02,\n",
       "          1.0564e+00,  9.3886e-06,  1.5640e-05],\n",
       "        [ 3.1426e+00,  3.2475e-01,  1.9393e+00,  8.5764e-02,  1.8290e-01,\n",
       "          1.3941e+00,  6.0200e-01,  1.1453e+00,  0.0000e+00,  0.0000e+00,\n",
       "          4.4665e-01,  0.0000e+00,  0.0000e+00],\n",
       "        [ 3.4038e+00,  6.0860e-01,  1.6388e+00,  1.1416e-01,  1.6568e-01,\n",
       "          1.6333e+00,  7.6060e-01,  1.0873e+00,  5.1941e-01, -9.1855e-02,\n",
       "          9.6250e-01,  1.9194e-19,  2.8009e-05],\n",
       "        [ 2.2906e+00, -1.8328e-02,  1.9282e+00,  9.5552e-02,  1.2483e-01,\n",
       "          1.2924e+00,  6.9760e-01,  9.6500e-01,  1.0729e+00,  3.4437e-01,\n",
       "          1.9700e+00,  6.3939e-02,  1.1060e-01]]), y=tensor([0.]), node_mapping={0: 0, 1: 1, 4: 2, 5: 3, 6: 4, 7: 5, 11: 6, 12: 7})"
      ]
     },
     "execution_count": 5,
     "metadata": {},
     "output_type": "execute_result"
    }
   ],
   "source": [
    "patches[0]"
   ]
  },
  {
   "cell_type": "code",
   "execution_count": 8,
   "id": "98d506d5",
   "metadata": {},
   "outputs": [
    {
     "name": "stdout",
     "output_type": "stream",
     "text": [
      "Patch 0: |V|=4, |E|=4\n",
      "  nodes_orig: [0, 3, 4, 5]\n",
      "  mapping: {0: 0, 3: 1, 4: 2, 5: 3}\n",
      "\n",
      "Patch 1: |V|=4, |E|=6\n",
      "  nodes_orig: [0, 3, 4, 9]\n",
      "  mapping: {0: 0, 3: 1, 4: 2, 9: 3}\n",
      "\n"
     ]
    }
   ],
   "source": [
    "for i, p in enumerate(patches):\n",
    "    print(f\"Patch {i}: |V|={p.num_nodes}, |E|={p.edge_index.size(1)}\")\n",
    "    print(\"  nodes_orig:\", p.nodes_orig.tolist())\n",
    "    if p.node_mapping is not None:\n",
    "        print(\"  mapping:\", p.node_mapping)\n",
    "    print()\n"
   ]
  },
  {
   "cell_type": "code",
   "execution_count": 9,
   "id": "617880df",
   "metadata": {},
   "outputs": [
    {
     "data": {
      "image/png": "[encoded data removed]",
      "text/plain": [
       "<Figure size 640x480 with 1 Axes>"
      ]
     },
     "metadata": {},
     "output_type": "display_data"
    },
    {
     "data": {
      "image/png": "[encoded data removed]",
      "text/plain": [
       "<Figure size 640x480 with 1 Axes>"
      ]
     },
     "metadata": {},
     "output_type": "display_data"
    }
   ],
   "source": [
    "import networkx as nx\n",
    "import matplotlib.pyplot as plt\n",
    "\n",
    "for i, p in enumerate(patches):  # первые 3 патча\n",
    "    G = nx.Graph()\n",
    "    G.add_nodes_from(range(p.num_nodes))\n",
    "    G.add_edges_from(p.edge_index.t().tolist())\n",
    "\n",
    "    plt.figure()\n",
    "    nx.draw(G, with_labels=True, node_color=\"lightblue\", edge_color=\"gray\")\n",
    "    plt.title(f\"Patch {i} (|V|={p.num_nodes}, |E|={p.edge_index.size(1)})\")\n",
    "plt.show()\n"
   ]
  },
  {
   "cell_type": "code",
   "execution_count": 17,
   "id": "05dc64f0",
   "metadata": {},
   "outputs": [
    {
     "data": {
      "image/png": "[encoded data removed]",
      "text/plain": [
       "<Figure size 500x500 with 1 Axes>"
      ]
     },
     "metadata": {},
     "output_type": "display_data"
    }
   ],
   "source": [
    "visualize_graph(graph_set[4])"
   ]
  },
  {
   "cell_type": "code",
   "execution_count": 1,
   "id": "e5e16557",
   "metadata": {},
   "outputs": [],
   "source": [
    "from typing import Iterable, Literal, Optional, Tuple, Dict, Any, Union\n",
    "import math\n",
    "import torch\n",
    "from torch import Tensor\n",
    "from torch_geometric.data import Data, InMemoryDataset\n",
    "\n",
    "NormMethod = Literal[\"zscore\", \"minmax\", \"robust\", \"l2\"]\n",
    "\n",
    "@torch.no_grad()\n",
    "def _stack_all_features(\n",
    "    dataset: Iterable[Data],\n",
    "    attr: str = \"x\",\n",
    ") -> Tensor:\n",
    "    xs = []\n",
    "    for data in dataset:\n",
    "        if not hasattr(data, attr):\n",
    "            continue\n",
    "        x = getattr(data, attr)\n",
    "        if x is None or x.numel() == 0:\n",
    "            continue\n",
    "        xs.append(x.detach().float().reshape(-1, x.size(-1)))\n",
    "    return torch.cat(xs, dim=0) if xs else torch.empty(0)\n",
    "\n",
    "def _finite_mask(t: Tensor) -> Tensor:\n",
    "    return torch.isfinite(t).all(dim=-1) if t.ndim == 2 else torch.isfinite(t)\n",
    "\n",
    "@torch.no_grad()\n",
    "def compute_feature_stats(\n",
    "    dataset: Iterable[Data],\n",
    "    method: NormMethod = \"zscore\",\n",
    "    attr: str = \"x\",\n",
    "    eps: float = 1e-8,\n",
    ") -> Dict[str, Tensor]:\n",
    "    \"\"\"\n",
    "    Считает по-столбцово статистику на всем датасете для выбранного метода.\n",
    "    Возвращает словарь параметров нормализации.\n",
    "    \"\"\"\n",
    "    X = _stack_all_features(dataset, attr=attr)\n",
    "    if X.numel() == 0:\n",
    "        return {}\n",
    "\n",
    "    mask = _finite_mask(X)\n",
    "    X = X[mask]\n",
    "\n",
    "    if X.numel() == 0:\n",
    "        return {}\n",
    "\n",
    "    if method == \"zscore\":\n",
    "        mean = X.mean(dim=0)\n",
    "        std = X.std(dim=0, unbiased=False).clamp_min(eps)\n",
    "        return {\"mean\": mean, \"std\": std}\n",
    "    elif method == \"minmax\":\n",
    "        xmin = X.min(dim=0).values\n",
    "        xmax = X.max(dim=0).values\n",
    "        scale = (xmax - xmin).clamp_min(eps)\n",
    "        return {\"min\": xmin, \"scale\": scale}\n",
    "    elif method == \"robust\":\n",
    "        q1 = X.quantile(0.25, dim=0)\n",
    "        q3 = X.quantile(0.75, dim=0)\n",
    "        med = X.median(dim=0).values\n",
    "        iqr = (q3 - q1).clamp_min(eps)\n",
    "        return {\"median\": med, \"iqr\": iqr}\n",
    "    elif method == \"l2\":\n",
    "        # для l2 глобальные параметры не нужны\n",
    "        return {}\n",
    "    else:\n",
    "        raise ValueError(f\"Unknown method: {method}\")\n",
    "\n",
    "@torch.no_grad()\n",
    "def _apply_norm(\n",
    "    x: Tensor,\n",
    "    method: NormMethod,\n",
    "    params: Dict[str, Tensor],\n",
    "    eps: float,\n",
    "    per_graph: bool,\n",
    "    clip: Optional[Tuple[float, float]],\n",
    ") -> Tensor:\n",
    "    x = x.float()\n",
    "    mask = torch.isfinite(x)\n",
    "    # временно заменим нечисла на нули, вернем после\n",
    "    x_safe = x.clone()\n",
    "    x_safe[~mask] = 0.0\n",
    "\n",
    "    if method == \"zscore\":\n",
    "        mean = params[\"mean\"]\n",
    "        std = params[\"std\"]\n",
    "        out = (x_safe - mean) / std\n",
    "    elif method == \"minmax\":\n",
    "        xmin = params[\"min\"]\n",
    "        scale = params[\"scale\"]\n",
    "        out = (x_safe - xmin) / scale\n",
    "    elif method == \"robust\":\n",
    "        med = params[\"median\"]\n",
    "        iqr = params[\"iqr\"]\n",
    "        out = (x_safe - med) / iqr\n",
    "    elif method == \"l2\":\n",
    "        # по-строчно: ||x_i||_2 = 1 (если строка не нулевая)\n",
    "        norms = x_safe.norm(dim=-1, keepdim=True).clamp_min(eps)\n",
    "        out = x_safe / norms\n",
    "    else:\n",
    "        raise ValueError(method)\n",
    "\n",
    "    # Вернём NaN/Inf туда, где исходно были нечисла\n",
    "    out[~mask] = float(\"nan\")\n",
    "\n",
    "    if clip is not None:\n",
    "        lo, hi = clip\n",
    "        out = out.clamp(min=lo, max=hi)\n",
    "\n",
    "    return out.to(x.dtype)\n",
    "\n",
    "@torch.no_grad()\n",
    "def normalize_dataset_node_features(\n",
    "    dataset: Union[InMemoryDataset, Iterable[Data]],\n",
    "    method: NormMethod = \"zscore\",\n",
    "    *,\n",
    "    attr: str = \"x\",\n",
    "    per_graph: bool = False,\n",
    "    eps: float = 1e-8,\n",
    "    clip: Optional[Tuple[float, float]] = None,\n",
    "    inplace: bool = True,\n",
    "    return_stats: bool = False,\n",
    ") -> Union[None, Tuple[Union[InMemoryDataset, Iterable[Data]], Dict[str, Any]]]:\n",
    "    \"\"\"\n",
    "    Нормализует признаки узлов в датасете PyG.\n",
    "\n",
    "    Параметры:\n",
    "      - dataset: InMemoryDataset или любой итерируемый набор Data\n",
    "      - method: \"zscore\" | \"minmax\" | \"robust\" | \"l2\"\n",
    "      - attr: имя атрибута с признаками (по умолчанию \"x\")\n",
    "      - per_graph: если True — считать статистику отдельно для каждого графа\n",
    "      - eps: числ. стабилизация\n",
    "      - clip: (low, high) — опциональное обрезание\n",
    "      - inplace: менять объекты на месте или вернуть копии\n",
    "      - return_stats: вернуть использованные параметры нормировки\n",
    "\n",
    "    Возвращает:\n",
    "      - если not inplace: (нормализованный_набор, stats_or_list)\n",
    "      - если inplace: None (и опционально stats)\n",
    "    \"\"\"\n",
    "    # Приведём к простому списку для одноразового прохода при not inplace\n",
    "    is_inmemory = isinstance(dataset, InMemoryDataset)\n",
    "    data_iter = dataset if not is_inmemory else list(dataset)\n",
    "\n",
    "    # Глобальные параметры (если нужны)\n",
    "    global_params = None if per_graph else compute_feature_stats(\n",
    "        data_iter, method=method, attr=attr, eps=eps\n",
    "    )\n",
    "\n",
    "    if not inplace:\n",
    "        new_list = []\n",
    "\n",
    "    collected_stats = [] if (per_graph and return_stats) else None\n",
    "\n",
    "    for data in (dataset if not is_inmemory else data_iter):\n",
    "        if not hasattr(data, attr) or getattr(data, attr) is None:\n",
    "            if not inplace:\n",
    "                new_list.append(data)\n",
    "            continue\n",
    "\n",
    "        x: Tensor = getattr(data, attr)\n",
    "        if x.numel() == 0:\n",
    "            if not inplace:\n",
    "                new_list.append(data)\n",
    "            continue\n",
    "\n",
    "        if per_graph:\n",
    "            params = compute_feature_stats([data], method=method, attr=attr, eps=eps)\n",
    "            if collected_stats is not None:\n",
    "                collected_stats.append(params)\n",
    "        else:\n",
    "            params = global_params or {}\n",
    "\n",
    "        x_norm = _apply_norm(x, method=method, params=params, eps=eps, per_graph=per_graph, clip=clip)\n",
    "\n",
    "        if inplace:\n",
    "            setattr(data, attr, x_norm)\n",
    "        else:\n",
    "            d = data.clone()\n",
    "            setattr(d, attr, x_norm)\n",
    "            new_list.append(d)\n",
    "\n",
    "    if inplace:\n",
    "        if return_stats:\n",
    "            return None if not per_graph else (None, collected_stats)  # тип-совместимость\n",
    "        return None\n",
    "\n",
    "    # Если dataset был InMemoryDataset, вернём просто список Data\n",
    "    stats_out: Any\n",
    "    if return_stats:\n",
    "        stats_out = collected_stats if per_graph else global_params\n",
    "        return new_list, stats_out\n",
    "    else:\n",
    "        return new_list, {}\n",
    "\n",
    "# -------- Пример использования --------\n",
    "# 1) По всему датасету (z-score), меняем на месте:\n",
    "# normalize_dataset_node_features(train_dataset, method=\"zscore\", inplace=True)\n",
    "\n",
    "# 2) Пер-графово (min-max), получить новый список + статистики на каждый граф:\n",
    "# new_graphs, per_graph_stats = normalize_dataset_node_features(\n",
    "#     train_dataset, method=\"minmax\", per_graph=True, inplace=False, return_stats=True\n",
    "# )\n",
    "\n",
    "# 3) Робастная нормализация с обрезанием экстремумов:\n",
    "# normalize_dataset_node_features(train_dataset, method=\"robust\", clip=(-5, 5))\n",
    "\n",
    "# 4) L2-нормализация строк (каждый узел -> единичная норма), обычно как последний шаг:\n",
    "# normalize_dataset_node_features(train_dataset, method=\"l2\", inplace=True)\n"
   ]
  },
  {
   "cell_type": "code",
   "execution_count": 4,
   "id": "47a91c2b",
   "metadata": {},
   "outputs": [
    {
     "data": {
      "text/plain": [
       "{'mean': tensor([3.4424, 0.3511, 1.7538, 0.1228, 0.2347, 1.3439, 0.6985, 0.9165, 1.1810,\n",
       "         0.2316, 1.3504, 0.0615, 0.1001]),\n",
       " 'std': tensor([2.8253, 2.2827, 1.1627, 0.1197, 0.2143, 0.8918, 0.4781, 0.6102, 1.2121,\n",
       "         2.2510, 0.8750, 0.1436, 0.2027])}"
      ]
     },
     "execution_count": 4,
     "metadata": {},
     "output_type": "execute_result"
    }
   ],
   "source": [
    "compute_feature_stats(graph_set)"
   ]
  },
  {
   "cell_type": "code",
   "execution_count": 1,
   "id": "3da06bea",
   "metadata": {},
   "outputs": [
    {
     "data": {
      "text/html": [
       "<div>\n",
       "<style scoped>\n",
       "    .dataframe tbody tr th:only-of-type {\n",
       "        vertical-align: middle;\n",
       "    }\n",
       "\n",
       "    .dataframe tbody tr th {\n",
       "        vertical-align: top;\n",
       "    }\n",
       "\n",
       "    .dataframe thead th {\n",
       "        text-align: right;\n",
       "    }\n",
       "</style>\n",
       "<table border=\"1\" class=\"dataframe\">\n",
       "  <thead>\n",
       "    <tr style=\"text-align: right;\">\n",
       "      <th></th>\n",
       "      <th>exp_id</th>\n",
       "      <th>overrides</th>\n",
       "      <th>metrics</th>\n",
       "      <th>hparams</th>\n",
       "      <th>best_ckpt</th>\n",
       "      <th>notes</th>\n",
       "    </tr>\n",
       "  </thead>\n",
       "  <tbody>\n",
       "    <tr>\n",
       "      <th>0</th>\n",
       "      <td>0</td>\n",
       "      <td>{'model.predictor_hidden_dim': 1, 'data.mode':...</td>\n",
       "      <td>{'acc': 0.7333333333333331, 'f1_macro': 0.6590...</td>\n",
       "      <td>{'seed': 42, 'data': {'root': '/home/eugen/Des...</td>\n",
       "      <td></td>\n",
       "      <td>{'latent_rule': 'shift+6', 'predictor_hidden_d...</td>\n",
       "    </tr>\n",
       "    <tr>\n",
       "      <th>1</th>\n",
       "      <td>0</td>\n",
       "      <td>{'model.predictor_hidden_dim': 1, 'data.mode':...</td>\n",
       "      <td>{'acc': 0.7419354838709671, 'f1_macro': 0.6868...</td>\n",
       "      <td>{'seed': 42, 'data': {'root': '/home/eugen/Des...</td>\n",
       "      <td></td>\n",
       "      <td>{'latent_rule': 'shift+6', 'predictor_hidden_d...</td>\n",
       "    </tr>\n",
       "    <tr>\n",
       "      <th>2</th>\n",
       "      <td>1</td>\n",
       "      <td>{'model.predictor_hidden_dim': 1, 'data.mode':...</td>\n",
       "      <td>{'acc': 0.7333333333333331, 'f1_macro': 0.6590...</td>\n",
       "      <td>{'seed': 42, 'data': {'root': '/home/eugen/Des...</td>\n",
       "      <td></td>\n",
       "      <td>{'latent_rule': 'shift+6', 'predictor_hidden_d...</td>\n",
       "    </tr>\n",
       "    <tr>\n",
       "      <th>3</th>\n",
       "      <td>2</td>\n",
       "      <td>{'model.predictor_hidden_dim': 1, 'data.mode':...</td>\n",
       "      <td>{'acc': 0.6071428571428571, 'f1_macro': 0.4991...</td>\n",
       "      <td>{'seed': 42, 'data': {'root': '/home/eugen/Des...</td>\n",
       "      <td></td>\n",
       "      <td>{'latent_rule': 'shift+6', 'predictor_hidden_d...</td>\n",
       "    </tr>\n",
       "    <tr>\n",
       "      <th>4</th>\n",
       "      <td>3</td>\n",
       "      <td>{'model.predictor_hidden_dim': 1, 'data.mode':...</td>\n",
       "      <td>{'acc': 0.538461538461538, 'f1_macro': 0.45833...</td>\n",
       "      <td>{'seed': 42, 'data': {'root': '/home/eugen/Des...</td>\n",
       "      <td></td>\n",
       "      <td>{'latent_rule': 'shift+6', 'predictor_hidden_d...</td>\n",
       "    </tr>\n",
       "  </tbody>\n",
       "</table>\n",
       "</div>"
      ],
      "text/plain": [
       "   exp_id                                          overrides  \\\n",
       "0       0  {'model.predictor_hidden_dim': 1, 'data.mode':...   \n",
       "1       0  {'model.predictor_hidden_dim': 1, 'data.mode':...   \n",
       "2       1  {'model.predictor_hidden_dim': 1, 'data.mode':...   \n",
       "3       2  {'model.predictor_hidden_dim': 1, 'data.mode':...   \n",
       "4       3  {'model.predictor_hidden_dim': 1, 'data.mode':...   \n",
       "\n",
       "                                             metrics  \\\n",
       "0  {'acc': 0.7333333333333331, 'f1_macro': 0.6590...   \n",
       "1  {'acc': 0.7419354838709671, 'f1_macro': 0.6868...   \n",
       "2  {'acc': 0.7333333333333331, 'f1_macro': 0.6590...   \n",
       "3  {'acc': 0.6071428571428571, 'f1_macro': 0.4991...   \n",
       "4  {'acc': 0.538461538461538, 'f1_macro': 0.45833...   \n",
       "\n",
       "                                             hparams best_ckpt  \\\n",
       "0  {'seed': 42, 'data': {'root': '/home/eugen/Des...             \n",
       "1  {'seed': 42, 'data': {'root': '/home/eugen/Des...             \n",
       "2  {'seed': 42, 'data': {'root': '/home/eugen/Des...             \n",
       "3  {'seed': 42, 'data': {'root': '/home/eugen/Des...             \n",
       "4  {'seed': 42, 'data': {'root': '/home/eugen/Des...             \n",
       "\n",
       "                                               notes  \n",
       "0  {'latent_rule': 'shift+6', 'predictor_hidden_d...  \n",
       "1  {'latent_rule': 'shift+6', 'predictor_hidden_d...  \n",
       "2  {'latent_rule': 'shift+6', 'predictor_hidden_d...  \n",
       "3  {'latent_rule': 'shift+6', 'predictor_hidden_d...  \n",
       "4  {'latent_rule': 'shift+6', 'predictor_hidden_d...  "
      ]
     },
     "execution_count": 1,
     "metadata": {},
     "output_type": "execute_result"
    }
   ],
   "source": [
    "import pandas as pd\n",
    "\n",
    "# JSON Lines -> ставим lines=True\n",
    "df = pd.read_json(\"experiments/results_1.jsonl\", lines=True)\n",
    "\n",
    "df.head()    # весь файл\n"
   ]
  },
  {
   "cell_type": "code",
   "execution_count": 2,
   "id": "141af2aa",
   "metadata": {},
   "outputs": [],
   "source": [
    "notes   = pd.json_normalize(df[\"notes\"])\n",
    "metrics = pd.json_normalize(df[\"metrics\"])\n",
    "over     = pd.json_normalize(df[\"overrides\"])  # осторожно: очень много колонок\n",
    "hp      = pd.json_normalize(df[\"hparams\"]) \n",
    "out = pd.concat(\n",
    "    [\n",
    "        df.drop(columns=[\"notes\", \"metrics\", \"overrides\", \"best_ckpt\",\"hparams\"], errors=\"ignore\"),\n",
    "        notes.add_prefix(\"note.\"),\n",
    "        metrics.add_prefix(\"metric.\"),\n",
    "        hp.add_prefix(\"hp.\")  # если нужно\n",
    "    ],\n",
    "    axis=1\n",
    ")"
   ]
  },
  {
   "cell_type": "code",
   "execution_count": 3,
   "id": "30d43a81",
   "metadata": {},
   "outputs": [
    {
     "data": {
      "text/plain": [
       "Index(['exp_id', 'note.latent_rule', 'note.predictor_hidden_dim',\n",
       "       'note.latent_dim', 'metric.acc', 'metric.f1_macro', 'metric.roc_auc',\n",
       "       'hp.seed', 'hp.data.root', 'hp.data.knn', 'hp.data.count_per_item',\n",
       "       'hp.data.mode', 'hp.data.gamma', 'hp.data.val_ratio',\n",
       "       'hp.data.max_patches', 'hp.data.norm.method', 'hp.data.norm.attr',\n",
       "       'hp.model.num_features', 'hp.model.latent_dim',\n",
       "       'hp.model.predictor_hidden_dim', 'hp.model.pred_layers',\n",
       "       'hp.model.dropout', 'hp.model.pe_dim', 'hp.model.use_metis',\n",
       "       'hp.model.per_graph', 'hp.model.include_context_in_pool',\n",
       "       'hp.model.use_encoder', 'hp.model.lr', 'hp.cutter.strategy.ctx_mode',\n",
       "       'hp.cutter.strategy.ctx_param', 'hp.cutter.strategy.tgt_mode',\n",
       "       'hp.cutter.strategy.tgt_param', 'hp.trainer.batch_size',\n",
       "       'hp.trainer.max_epochs', 'hp.trainer.precision',\n",
       "       'hp.trainer.gradient_clip_val', 'hp.trainer.log_every_n_steps',\n",
       "       'hp.trainer.num_workers', 'hp.trainer.pin_memory',\n",
       "       'hp.trainer.detect_anomaly', 'hp.trainer.monitor_metric',\n",
       "       'hp.trainer.monitor_mode', 'hp.trainer.early_stopping.enabled',\n",
       "       'hp.trainer.early_stopping.patience',\n",
       "       'hp.trainer.early_stopping.min_delta',\n",
       "       'hp.experiments.grid.model.predictor_hidden_dim',\n",
       "       'hp.experiments.grid.data.mode',\n",
       "       'hp.experiments.grid.trainer.max_epochs', 'hp.experiments.latent_rules',\n",
       "       'hp.experiments.grid.data.knn'],\n",
       "      dtype='object')"
      ]
     },
     "execution_count": 3,
     "metadata": {},
     "output_type": "execute_result"
    }
   ],
   "source": [
    "out.columns"
   ]
  },
  {
   "cell_type": "code",
   "execution_count": 41,
   "id": "abba9ae8",
   "metadata": {},
   "outputs": [],
   "source": [
    "data_exp = out[['exp_id','note.predictor_hidden_dim','note.latent_dim','metric.acc','metric.f1_macro','hp.data.knn','hp.data.mode','hp.trainer.max_epochs','hp.model.lr']]"
   ]
  },
  {
   "cell_type": "code",
   "execution_count": 42,
   "id": "b65547fb",
   "metadata": {},
   "outputs": [],
   "source": [
    "import numpy as np\n",
    "data_exp = data_exp[\n",
    "    (data_exp['hp.trainer.max_epochs'] == 10) &\n",
    "    np.isclose(data_exp['hp.model.lr'], 1e-2) &(data_exp['hp.data.knn'] == 3)\n",
    "]"
   ]
  },
  {
   "cell_type": "code",
   "execution_count": 32,
   "id": "bc4b5780",
   "metadata": {},
   "outputs": [
    {
     "data": {
      "text/html": [
       "<div>\n",
       "<style scoped>\n",
       "    .dataframe tbody tr th:only-of-type {\n",
       "        vertical-align: middle;\n",
       "    }\n",
       "\n",
       "    .dataframe tbody tr th {\n",
       "        vertical-align: top;\n",
       "    }\n",
       "\n",
       "    .dataframe thead th {\n",
       "        text-align: right;\n",
       "    }\n",
       "</style>\n",
       "<table border=\"1\" class=\"dataframe\">\n",
       "  <thead>\n",
       "    <tr style=\"text-align: right;\">\n",
       "      <th></th>\n",
       "      <th>exp_id</th>\n",
       "      <th>note.predictor_hidden_dim</th>\n",
       "      <th>note.latent_dim</th>\n",
       "      <th>metric.acc</th>\n",
       "      <th>metric.f1_macro</th>\n",
       "      <th>hp.data.knn</th>\n",
       "      <th>hp.data.mode</th>\n",
       "      <th>hp.trainer.max_epochs</th>\n",
       "      <th>hp.model.lr</th>\n",
       "    </tr>\n",
       "  </thead>\n",
       "  <tbody>\n",
       "    <tr>\n",
       "      <th>1</th>\n",
       "      <td>0</td>\n",
       "      <td>1</td>\n",
       "      <td>7</td>\n",
       "      <td>0.741935</td>\n",
       "      <td>0.686869</td>\n",
       "      <td>3</td>\n",
       "      <td>MarkovGraphs</td>\n",
       "      <td>1</td>\n",
       "      <td>0.01</td>\n",
       "    </tr>\n",
       "    <tr>\n",
       "      <th>17</th>\n",
       "      <td>16</td>\n",
       "      <td>1</td>\n",
       "      <td>7</td>\n",
       "      <td>0.650000</td>\n",
       "      <td>0.610991</td>\n",
       "      <td>3</td>\n",
       "      <td>RandomPermutate</td>\n",
       "      <td>1</td>\n",
       "      <td>0.01</td>\n",
       "    </tr>\n",
       "    <tr>\n",
       "      <th>33</th>\n",
       "      <td>32</td>\n",
       "      <td>1</td>\n",
       "      <td>7</td>\n",
       "      <td>0.612903</td>\n",
       "      <td>0.530303</td>\n",
       "      <td>3</td>\n",
       "      <td>CopiedGraphs</td>\n",
       "      <td>1</td>\n",
       "      <td>0.01</td>\n",
       "    </tr>\n",
       "    <tr>\n",
       "      <th>49</th>\n",
       "      <td>48</td>\n",
       "      <td>2</td>\n",
       "      <td>8</td>\n",
       "      <td>0.677419</td>\n",
       "      <td>0.578804</td>\n",
       "      <td>3</td>\n",
       "      <td>MarkovGraphs</td>\n",
       "      <td>1</td>\n",
       "      <td>0.01</td>\n",
       "    </tr>\n",
       "    <tr>\n",
       "      <th>50</th>\n",
       "      <td>49</td>\n",
       "      <td>2</td>\n",
       "      <td>6</td>\n",
       "      <td>0.774194</td>\n",
       "      <td>0.716340</td>\n",
       "      <td>3</td>\n",
       "      <td>MarkovGraphs</td>\n",
       "      <td>1</td>\n",
       "      <td>0.01</td>\n",
       "    </tr>\n",
       "    <tr>\n",
       "      <th>...</th>\n",
       "      <td>...</td>\n",
       "      <td>...</td>\n",
       "      <td>...</td>\n",
       "      <td>...</td>\n",
       "      <td>...</td>\n",
       "      <td>...</td>\n",
       "      <td>...</td>\n",
       "      <td>...</td>\n",
       "      <td>...</td>\n",
       "    </tr>\n",
       "    <tr>\n",
       "      <th>868</th>\n",
       "      <td>867</td>\n",
       "      <td>15</td>\n",
       "      <td>225</td>\n",
       "      <td>0.612903</td>\n",
       "      <td>0.530303</td>\n",
       "      <td>3</td>\n",
       "      <td>MarkovGraphs</td>\n",
       "      <td>1</td>\n",
       "      <td>0.01</td>\n",
       "    </tr>\n",
       "    <tr>\n",
       "      <th>929</th>\n",
       "      <td>928</td>\n",
       "      <td>15</td>\n",
       "      <td>21</td>\n",
       "      <td>0.533333</td>\n",
       "      <td>0.487179</td>\n",
       "      <td>3</td>\n",
       "      <td>RandomPermutate</td>\n",
       "      <td>1</td>\n",
       "      <td>0.01</td>\n",
       "    </tr>\n",
       "    <tr>\n",
       "      <th>930</th>\n",
       "      <td>929</td>\n",
       "      <td>15</td>\n",
       "      <td>19</td>\n",
       "      <td>0.450000</td>\n",
       "      <td>0.373219</td>\n",
       "      <td>3</td>\n",
       "      <td>RandomPermutate</td>\n",
       "      <td>1</td>\n",
       "      <td>0.01</td>\n",
       "    </tr>\n",
       "    <tr>\n",
       "      <th>931</th>\n",
       "      <td>930</td>\n",
       "      <td>15</td>\n",
       "      <td>17</td>\n",
       "      <td>0.483333</td>\n",
       "      <td>0.457884</td>\n",
       "      <td>3</td>\n",
       "      <td>RandomPermutate</td>\n",
       "      <td>1</td>\n",
       "      <td>0.01</td>\n",
       "    </tr>\n",
       "    <tr>\n",
       "      <th>932</th>\n",
       "      <td>931</td>\n",
       "      <td>15</td>\n",
       "      <td>225</td>\n",
       "      <td>0.716667</td>\n",
       "      <td>0.691936</td>\n",
       "      <td>3</td>\n",
       "      <td>RandomPermutate</td>\n",
       "      <td>1</td>\n",
       "      <td>0.01</td>\n",
       "    </tr>\n",
       "  </tbody>\n",
       "</table>\n",
       "<p>62 rows × 9 columns</p>\n",
       "</div>"
      ],
      "text/plain": [
       "     exp_id  note.predictor_hidden_dim  note.latent_dim  metric.acc  \\\n",
       "1         0                          1                7    0.741935   \n",
       "17       16                          1                7    0.650000   \n",
       "33       32                          1                7    0.612903   \n",
       "49       48                          2                8    0.677419   \n",
       "50       49                          2                6    0.774194   \n",
       "..      ...                        ...              ...         ...   \n",
       "868     867                         15              225    0.612903   \n",
       "929     928                         15               21    0.533333   \n",
       "930     929                         15               19    0.450000   \n",
       "931     930                         15               17    0.483333   \n",
       "932     931                         15              225    0.716667   \n",
       "\n",
       "     metric.f1_macro  hp.data.knn     hp.data.mode  hp.trainer.max_epochs  \\\n",
       "1           0.686869            3     MarkovGraphs                      1   \n",
       "17          0.610991            3  RandomPermutate                      1   \n",
       "33          0.530303            3     CopiedGraphs                      1   \n",
       "49          0.578804            3     MarkovGraphs                      1   \n",
       "50          0.716340            3     MarkovGraphs                      1   \n",
       "..               ...          ...              ...                    ...   \n",
       "868         0.530303            3     MarkovGraphs                      1   \n",
       "929         0.487179            3  RandomPermutate                      1   \n",
       "930         0.373219            3  RandomPermutate                      1   \n",
       "931         0.457884            3  RandomPermutate                      1   \n",
       "932         0.691936            3  RandomPermutate                      1   \n",
       "\n",
       "     hp.model.lr  \n",
       "1           0.01  \n",
       "17          0.01  \n",
       "33          0.01  \n",
       "49          0.01  \n",
       "50          0.01  \n",
       "..           ...  \n",
       "868         0.01  \n",
       "929         0.01  \n",
       "930         0.01  \n",
       "931         0.01  \n",
       "932         0.01  \n",
       "\n",
       "[62 rows x 9 columns]"
      ]
     },
     "execution_count": 32,
     "metadata": {},
     "output_type": "execute_result"
    }
   ],
   "source": [
    "data_exp"
   ]
  },
  {
   "cell_type": "code",
   "execution_count": 43,
   "id": "208d199f",
   "metadata": {},
   "outputs": [
    {
     "data": {
      "image/png": "[encoded data removed]",
      "text/plain": [
       "<Figure size 800x500 with 1 Axes>"
      ]
     },
     "metadata": {},
     "output_type": "display_data"
    }
   ],
   "source": [
    "import matplotlib.pyplot as plt\n",
    "plt.figure(figsize=(8,5))\n",
    "for mode, g in data_exp.groupby(\"hp.data.mode\"):\n",
    "    g = (g[[\"note.latent_dim\",\"metric.acc\"]]\n",
    "         .dropna()\n",
    "         .groupby(\"note.latent_dim\", as_index=False).mean()\n",
    "         .sort_values(\"note.latent_dim\"))\n",
    "    plt.errorbar(g[\"note.latent_dim\"], g[\"metric.acc\"], fmt='-o', capsize=3, label=mode)\n",
    "plt.xlabel(\"latent_dim\"); plt.ylabel(\"acc_mean\"); plt.legend(); plt.grid(True); plt.tight_layout(); plt.show()\n"
   ]
  },
  {
   "cell_type": "code",
   "execution_count": 1,
   "id": "b69237e3",
   "metadata": {},
   "outputs": [
    {
     "name": "stdout",
     "output_type": "stream",
     "text": [
      "2.6.0+cu124\n",
      "12.4\n"
     ]
    }
   ],
   "source": [
    "import torch\n",
    "print(torch.__version__)       # например, 2.3.1\n",
    "print(torch.version.cuda)      # например, 12.1\n"
   ]
  },
  {
   "cell_type": "code",
   "execution_count": null,
   "id": "f371db3b",
   "metadata": {},
   "outputs": [
    {
     "name": "stdout",
     "output_type": "stream",
     "text": [
      "2.6.0+cu124\n",
      "12.4\n"
     ]
    },
    {
     "ename": "RuntimeError",
     "evalue": "Not compiled with CUDA support",
     "output_type": "error",
     "traceback": [
      "\u001b[0;31m---------------------------------------------------------------------------\u001b[0m",
      "\u001b[0;31mRuntimeError\u001b[0m                              Traceback (most recent call last)",
      "Cell \u001b[0;32mIn[1], line 7\u001b[0m\n\u001b[1;32m      5\u001b[0m idx \u001b[38;5;241m=\u001b[39m torch\u001b[38;5;241m.\u001b[39mtensor([\u001b[38;5;241m0\u001b[39m,\u001b[38;5;241m1\u001b[39m,\u001b[38;5;241m0\u001b[39m,\u001b[38;5;241m1\u001b[39m,\u001b[38;5;241m0\u001b[39m], device\u001b[38;5;241m=\u001b[39m\u001b[38;5;124m'\u001b[39m\u001b[38;5;124mcuda\u001b[39m\u001b[38;5;124m'\u001b[39m)\n\u001b[1;32m      6\u001b[0m \u001b[38;5;28;01mfrom\u001b[39;00m\u001b[38;5;250m \u001b[39m\u001b[38;5;21;01mtorch_scatter\u001b[39;00m\u001b[38;5;250m \u001b[39m\u001b[38;5;28;01mimport\u001b[39;00m scatter\n\u001b[0;32m----> 7\u001b[0m y \u001b[38;5;241m=\u001b[39m \u001b[43mscatter\u001b[49m\u001b[43m(\u001b[49m\u001b[43mx\u001b[49m\u001b[43m,\u001b[49m\u001b[43m \u001b[49m\u001b[43midx\u001b[49m\u001b[43m,\u001b[49m\u001b[43m \u001b[49m\u001b[43mdim\u001b[49m\u001b[38;5;241;43m=\u001b[39;49m\u001b[38;5;241;43m0\u001b[39;49m\u001b[43m,\u001b[49m\u001b[43m \u001b[49m\u001b[43mreduce\u001b[49m\u001b[38;5;241;43m=\u001b[39;49m\u001b[38;5;124;43m'\u001b[39;49m\u001b[38;5;124;43mmax\u001b[39;49m\u001b[38;5;124;43m'\u001b[39;49m\u001b[43m)\u001b[49m  \u001b[38;5;66;03m# не должно падать\u001b[39;00m\n\u001b[1;32m      8\u001b[0m \u001b[38;5;28mprint\u001b[39m(y)\n",
      "File \u001b[0;32m~/.local/lib/python3.10/site-packages/torch_scatter/scatter.py:160\u001b[0m, in \u001b[0;36mscatter\u001b[0;34m(src, index, dim, out, dim_size, reduce)\u001b[0m\n\u001b[1;32m    158\u001b[0m     \u001b[38;5;28;01mreturn\u001b[39;00m scatter_min(src, index, dim, out, dim_size)[\u001b[38;5;241m0\u001b[39m]\n\u001b[1;32m    159\u001b[0m \u001b[38;5;28;01melif\u001b[39;00m reduce \u001b[38;5;241m==\u001b[39m \u001b[38;5;124m'\u001b[39m\u001b[38;5;124mmax\u001b[39m\u001b[38;5;124m'\u001b[39m:\n\u001b[0;32m--> 160\u001b[0m     \u001b[38;5;28;01mreturn\u001b[39;00m \u001b[43mscatter_max\u001b[49m\u001b[43m(\u001b[49m\u001b[43msrc\u001b[49m\u001b[43m,\u001b[49m\u001b[43m \u001b[49m\u001b[43mindex\u001b[49m\u001b[43m,\u001b[49m\u001b[43m \u001b[49m\u001b[43mdim\u001b[49m\u001b[43m,\u001b[49m\u001b[43m \u001b[49m\u001b[43mout\u001b[49m\u001b[43m,\u001b[49m\u001b[43m \u001b[49m\u001b[43mdim_size\u001b[49m\u001b[43m)\u001b[49m[\u001b[38;5;241m0\u001b[39m]\n\u001b[1;32m    161\u001b[0m \u001b[38;5;28;01melse\u001b[39;00m:\n\u001b[1;32m    162\u001b[0m     \u001b[38;5;28;01mraise\u001b[39;00m \u001b[38;5;167;01mValueError\u001b[39;00m\n",
      "File \u001b[0;32m~/.local/lib/python3.10/site-packages/torch_scatter/scatter.py:72\u001b[0m, in \u001b[0;36mscatter_max\u001b[0;34m(src, index, dim, out, dim_size)\u001b[0m\n\u001b[1;32m     68\u001b[0m \u001b[38;5;28;01mdef\u001b[39;00m\u001b[38;5;250m \u001b[39m\u001b[38;5;21mscatter_max\u001b[39m(\n\u001b[1;32m     69\u001b[0m         src: torch\u001b[38;5;241m.\u001b[39mTensor, index: torch\u001b[38;5;241m.\u001b[39mTensor, dim: \u001b[38;5;28mint\u001b[39m \u001b[38;5;241m=\u001b[39m \u001b[38;5;241m-\u001b[39m\u001b[38;5;241m1\u001b[39m,\n\u001b[1;32m     70\u001b[0m         out: Optional[torch\u001b[38;5;241m.\u001b[39mTensor] \u001b[38;5;241m=\u001b[39m \u001b[38;5;28;01mNone\u001b[39;00m,\n\u001b[1;32m     71\u001b[0m         dim_size: Optional[\u001b[38;5;28mint\u001b[39m] \u001b[38;5;241m=\u001b[39m \u001b[38;5;28;01mNone\u001b[39;00m) \u001b[38;5;241m-\u001b[39m\u001b[38;5;241m>\u001b[39m Tuple[torch\u001b[38;5;241m.\u001b[39mTensor, torch\u001b[38;5;241m.\u001b[39mTensor]:\n\u001b[0;32m---> 72\u001b[0m     \u001b[38;5;28;01mreturn\u001b[39;00m \u001b[43mtorch\u001b[49m\u001b[38;5;241;43m.\u001b[39;49m\u001b[43mops\u001b[49m\u001b[38;5;241;43m.\u001b[39;49m\u001b[43mtorch_scatter\u001b[49m\u001b[38;5;241;43m.\u001b[39;49m\u001b[43mscatter_max\u001b[49m\u001b[43m(\u001b[49m\u001b[43msrc\u001b[49m\u001b[43m,\u001b[49m\u001b[43m \u001b[49m\u001b[43mindex\u001b[49m\u001b[43m,\u001b[49m\u001b[43m \u001b[49m\u001b[43mdim\u001b[49m\u001b[43m,\u001b[49m\u001b[43m \u001b[49m\u001b[43mout\u001b[49m\u001b[43m,\u001b[49m\u001b[43m \u001b[49m\u001b[43mdim_size\u001b[49m\u001b[43m)\u001b[49m\n",
      "File \u001b[0;32m~/.local/lib/python3.10/site-packages/torch/_ops.py:1123\u001b[0m, in \u001b[0;36mOpOverloadPacket.__call__\u001b[0;34m(self, *args, **kwargs)\u001b[0m\n\u001b[1;32m   1121\u001b[0m \u001b[38;5;28;01mif\u001b[39;00m \u001b[38;5;28mself\u001b[39m\u001b[38;5;241m.\u001b[39m_has_torchbind_op_overload \u001b[38;5;129;01mand\u001b[39;00m _must_dispatch_in_python(args, kwargs):\n\u001b[1;32m   1122\u001b[0m     \u001b[38;5;28;01mreturn\u001b[39;00m _call_overload_packet_from_python(\u001b[38;5;28mself\u001b[39m, args, kwargs)\n\u001b[0;32m-> 1123\u001b[0m \u001b[38;5;28;01mreturn\u001b[39;00m \u001b[38;5;28;43mself\u001b[39;49m\u001b[38;5;241;43m.\u001b[39;49m\u001b[43m_op\u001b[49m\u001b[43m(\u001b[49m\u001b[38;5;241;43m*\u001b[39;49m\u001b[43margs\u001b[49m\u001b[43m,\u001b[49m\u001b[43m \u001b[49m\u001b[38;5;241;43m*\u001b[39;49m\u001b[38;5;241;43m*\u001b[39;49m\u001b[43m(\u001b[49m\u001b[43mkwargs\u001b[49m\u001b[43m \u001b[49m\u001b[38;5;129;43;01mor\u001b[39;49;00m\u001b[43m \u001b[49m\u001b[43m{\u001b[49m\u001b[43m}\u001b[49m\u001b[43m)\u001b[49m\u001b[43m)\u001b[49m\n",
      "\u001b[0;31mRuntimeError\u001b[0m: Not compiled with CUDA support"
     ]
    }
   ],
   "source": [
    "import torch, torch_scatter\n",
    "print(torch.__version__)          # должно быть 2.6.0+cu124\n",
    "print(torch.version.cuda)         # 12.4\n",
    "x = torch.randn(5, 3, device='cuda')\n",
    "idx = torch.tensor([0,1,0,1,0], device='cuda')\n",
    "from torch_scatter import scatter\n",
    "y = scatter(x, idx, dim=0, reduce='max')  # не должно падать\n",
    "print(y)\n"
   ]
  },
  {
   "cell_type": "code",
   "execution_count": 1,
   "id": "9d2d8771",
   "metadata": {},
   "outputs": [
    {
     "name": "stdout",
     "output_type": "stream",
     "text": [
      "tensor([1, 2, 3])\n",
      "tensor([1, 2, 3])\n",
      "SubgraphsData(x=[3, 13], edge_index=[2, 6], y=[1], weight=[6], rw_pos_enc=[3, 2], patch_pe=[4, 2], coarsen_adj=[1, 4, 4], subgraphs_batch=[9], subgraphs_nodes_mapper=[9], subgraphs_edges_mapper=[18], combined_subgraphs=[2, 18], mask=[1, 4], context_edges_mask=[18], target_edges_mask=[18], context_nodes_mapper=[3], target_nodes_mapper=[3], context_nodes_subgraph=[3], target_nodes_subgraph=[3], context_subgraph_idx=1, target_subgraph_idxs=[1], call_n_patches=[1])\n"
     ]
    }
   ],
   "source": [
    "\n",
    "\n",
    "\n",
    "import torch.nn.functional as F\n",
    "\n",
    "from get_data import create_dataset\n",
    "\n",
    "\n",
    "import hydra\n",
    "\n",
    "from omegaconf import DictConfig\n",
    "\n",
    "from omegaconf import OmegaConf\n",
    "\n",
    "cfg = OmegaConf.load(\"train/configs/zinc.yaml\")\n",
    "train,val,test = create_dataset(cfg)\n",
    "print(train[0])\n",
    "    \n",
    "\n",
    "\n"
   ]
  },
  {
   "cell_type": "code",
   "execution_count": 22,
   "id": "917d1e5e",
   "metadata": {},
   "outputs": [
    {
     "name": "stdout",
     "output_type": "stream",
     "text": [
      "tensor([1, 2, 3])\n",
      "tensor([0, 1, 3])\n",
      "SubgraphsData(x=[3, 13], edge_index=[2, 6], y=[1], weight=[6], rw_pos_enc=[3, 2], patch_pe=[4, 2], coarsen_adj=[1, 4, 4], subgraphs_batch=[9], subgraphs_nodes_mapper=[9], subgraphs_edges_mapper=[18], combined_subgraphs=[2, 18], mask=[1, 4], context_edges_mask=[18], target_edges_mask=[18], context_nodes_mapper=[3], target_nodes_mapper=[3], context_nodes_subgraph=[3], target_nodes_subgraph=[3], context_subgraph_idx=0, target_subgraph_idxs=[1], call_n_patches=[1])\n"
     ]
    }
   ],
   "source": [
    "print(train[0])"
   ]
  },
  {
   "cell_type": "code",
   "execution_count": 23,
   "id": "4b674c69",
   "metadata": {},
   "outputs": [
    {
     "name": "stdout",
     "output_type": "stream",
     "text": [
      "tensor([0, 2, 3])\n",
      "tensor([0, 2, 3])\n",
      "<class 'transform.SubgraphsData'>\n",
      "tensor([0, 2, 3])\n",
      "tensor([1, 2, 3])\n",
      "(<class 'transform.SubgraphsData'>, <class 'torch_geometric.data.data.Data'>, <class 'torch_geometric.data.data.BaseData'>, <class 'torch_geometric.data.feature_store.FeatureStore'>, <class 'torch_geometric.data.graph_store.GraphStore'>, <class 'abc.ABC'>, <class 'object'>)\n",
      "tensor([0, 2, 3])\n",
      "tensor([1, 2, 3])\n",
      "<bound method BaseData.keys of SubgraphsData(x=[3, 13], edge_index=[2, 6], y=[1], weight=[6], rw_pos_enc=[3, 2], patch_pe=[4, 2], coarsen_adj=[1, 4, 4], subgraphs_batch=[9], subgraphs_nodes_mapper=[9], subgraphs_edges_mapper=[18], combined_subgraphs=[2, 18], mask=[1, 4], context_edges_mask=[18], target_edges_mask=[18], context_nodes_mapper=[3], target_nodes_mapper=[3], context_nodes_subgraph=[3], target_nodes_subgraph=[3], context_subgraph_idx=1, target_subgraph_idxs=[1], call_n_patches=[1])>\n",
      "tensor([0, 2, 3])\n",
      "tensor([0, 1, 3])\n",
      "torch.Size([3, 13])\n",
      "tensor([1, 2, 3])\n",
      "tensor([0, 2, 3])\n",
      "torch.Size([2, 6])\n"
     ]
    }
   ],
   "source": [
    "print(type(train[0]))\n",
    "print(train[0].__class__.__mro__)   # покажет иерархию классов\n",
    "print(train[0].keys)               # список доступных полей\n",
    "print(train[0].x.shape)            # (3, 13)\n",
    "print(train[0].edge_index.shape)   # (2, 6)\n"
   ]
  },
  {
   "cell_type": "code",
   "execution_count": 26,
   "id": "9cf6cd41",
   "metadata": {},
   "outputs": [
    {
     "name": "stdout",
     "output_type": "stream",
     "text": [
      "tensor([1, 2, 3])\n",
      "tensor([0, 1, 3])\n"
     ]
    },
    {
     "data": {
      "text/plain": [
       "3"
      ]
     },
     "execution_count": 26,
     "metadata": {},
     "output_type": "execute_result"
    }
   ],
   "source": [
    "train[0].num_nodes"
   ]
  },
  {
   "cell_type": "code",
   "execution_count": null,
   "id": "1eed9438",
   "metadata": {},
   "outputs": [
    {
     "name": "stdout",
     "output_type": "stream",
     "text": [
      "tensor([0, 1, 3])\n",
      "tensor([1, 2, 3])\n",
      "SubgraphsData(x=[3, 13], edge_index=[2, 6], y=[1], weight=[6], rw_pos_enc=[3, 2], patch_pe=[4, 2], coarsen_adj=[1, 4, 4], subgraphs_batch=[9], subgraphs_nodes_mapper=[9], subgraphs_edges_mapper=[18], combined_subgraphs=[2, 18], mask=[1, 4], context_edges_mask=[18], target_edges_mask=[18], context_nodes_mapper=[3], target_nodes_mapper=[3], context_nodes_subgraph=[3], target_nodes_subgraph=[3], context_subgraph_idx=2, target_subgraph_idxs=[1], call_n_patches=[1])\n"
     ]
    }
   ],
   "source": [
    "print(train[3])"
   ]
  },
  {
   "cell_type": "code",
   "execution_count": 2,
   "id": "aadb22c7",
   "metadata": {},
   "outputs": [
    {
     "name": "stdout",
     "output_type": "stream",
     "text": [
      "tensor([0, 1, 3])\n",
      "tensor([0, 2, 3])\n"
     ]
    }
   ],
   "source": [
    "s= train[3]"
   ]
  },
  {
   "cell_type": "code",
   "execution_count": null,
   "id": "6ae4fc42",
   "metadata": {},
   "outputs": [
    {
     "data": {
      "text/plain": [
       "SubgraphsData(x=[3, 13], edge_index=[2, 6], y=[1], weight=[6], rw_pos_enc=[3, 2], patch_pe=[4, 2], coarsen_adj=[1, 4, 4], subgraphs_batch=[9], subgraphs_nodes_mapper=[9], subgraphs_edges_mapper=[18], combined_subgraphs=[2, 18], mask=[1, 4], context_edges_mask=[18], target_edges_mask=[18], context_nodes_mapper=[3], target_nodes_mapper=[3], context_nodes_subgraph=[3], target_nodes_subgraph=[3], context_subgraph_idx=0, target_subgraph_idxs=[1], call_n_patches=[1])"
      ]
     },
     "execution_count": 5,
     "metadata": {},
     "output_type": "execute_result"
    }
   ],
   "source": [
    "s."
   ]
  },
  {
   "cell_type": "code",
   "execution_count": 1,
   "id": "bfc33ffe",
   "metadata": {},
   "outputs": [],
   "source": [
    "from datasets.microns_spheric_dataset import WightlessDS,SpineGraphDataset\n",
    "ds = WightlessDS('/home/eugen/Desktop/CodeWork/Projects/Diplom/notebooks/NewFearuteModel/DataFT/knn_components')\n",
    "spineds = SpineGraphDataset(ds)"
   ]
  },
  {
   "cell_type": "code",
   "execution_count": null,
   "id": "d6868b7a",
   "metadata": {},
   "outputs": [
    {
     "data": {
      "text/plain": [
       "Data(x=[9, 25], edge_index=[2, 30])"
      ]
     },
     "execution_count": 3,
     "metadata": {},
     "output_type": "execute_result"
    }
   ],
   "source": []
  },
  {
   "cell_type": "code",
   "execution_count": 16,
   "id": "2d59a212",
   "metadata": {},
   "outputs": [
    {
     "name": "stderr",
     "output_type": "stream",
     "text": [
      "/tmp/ipykernel_65764/1054126513.py:3: DeprecationWarning: numpy.core.numeric is deprecated and has been renamed to numpy._core.numeric. The numpy._core namespace contains private NumPy internals and its use is discouraged, as NumPy internals can change without warning in any release. In practice, most real-world usage of numpy.core is to access functionality in the public NumPy API. If that is the case, use the public NumPy API. If not, you are using NumPy internals. If you would still like to access an internal attribute, use numpy._core.numeric._frombuffer.\n",
      "  G = pickle.load(f)\n"
     ]
    }
   ],
   "source": [
    "import pickle\n",
    "with open(ds[0], \"rb\") as f:\n",
    "    G = pickle.load(f)"
   ]
  },
  {
   "cell_type": "code",
   "execution_count": 11,
   "id": "9c800f58",
   "metadata": {},
   "outputs": [
    {
     "data": {
      "text/plain": [
       "{'type': 'spine',\n",
       " 'limb_index': 0,\n",
       " 'branch_index': 0,\n",
       " 'spine_index': 13,\n",
       " 'sph_harm_coeffs': [1054.877255980421,\n",
       "  253.83718874317847,\n",
       "  -395.26458968447594,\n",
       "  -57.38179883713909,\n",
       "  -52.76997988597038,\n",
       "  138.30911098427197,\n",
       "  -157.11072280916724,\n",
       "  -119.48063239130903,\n",
       "  107.23409320439923,\n",
       "  -45.2505379349313,\n",
       "  2.173540408157626,\n",
       "  -26.493003444442717,\n",
       "  -30.182065014309813,\n",
       "  -53.7959333934196,\n",
       "  8.078251472285217,\n",
       "  -61.9870083158867,\n",
       "  43.76982605610522,\n",
       "  -5.437086982796547,\n",
       "  -49.004940026922206,\n",
       "  -67.61911523246978,\n",
       "  7.023504937583567,\n",
       "  39.99324320435006,\n",
       "  -60.64148318357563,\n",
       "  18.41059889376547,\n",
       "  11.470108069456789],\n",
       " 'centroid': array([709734.09761068, 775615.45579846, 876340.76546869])}"
      ]
     },
     "execution_count": 11,
     "metadata": {},
     "output_type": "execute_result"
    }
   ],
   "source": [
    "G.nodes['S0_0_13']"
   ]
  },
  {
   "cell_type": "code",
   "execution_count": 25,
   "id": "03e0e8b9",
   "metadata": {},
   "outputs": [],
   "source": [
    "import torch\n",
    "import networkx as nx\n",
    "from torch_geometric.data import Data\n",
    "from typing import Dict, Tuple\n",
    "\n",
    "def nx_to_pyg(\n",
    "    G: nx.Graph,\n",
    "    feature_key: str = \"sph_harm_coeffs\",\n",
    "    undirected: bool = True,\n",
    "    dtype: torch.dtype = torch.float32,\n",
    ") -> Tuple[Data, Dict]:\n",
    "    \"\"\"\n",
    "    Convert a NetworkX graph to PyTorch Geometric Data.\n",
    "    Keeps only node features from `feature_key` (same length for all).\n",
    "    Returns (data, id_map) where id_map maps original node ids -> integer indices.\n",
    "    \"\"\"\n",
    "\n",
    "    # 1) Stable node order and id->index map\n",
    "    nodes = list(G.nodes())\n",
    "    id_map = {nid: i for i, nid in enumerate(nodes)}\n",
    "\n",
    "    # 2) Collect node features (and validate lengths)\n",
    "    feats = []\n",
    "    for nid in nodes:\n",
    "        attr = G.nodes[nid]\n",
    "        if feature_key not in attr:\n",
    "            raise ValueError(f\"Node {nid!r} missing '{feature_key}'\")\n",
    "        feats.append(attr[feature_key])\n",
    "\n",
    "    lengths = {len(v) for v in feats}\n",
    "    if len(lengths) != 1:\n",
    "        raise ValueError(f\"Inconsistent feature lengths: {sorted(lengths)}\")\n",
    "    x = torch.tensor(feats, dtype=dtype)\n",
    "\n",
    "    # 3) Build edge_index with remapped integer ids\n",
    "    edges = []\n",
    "    for u, v in G.edges():\n",
    "        ui, vi = id_map[u], id_map[v]\n",
    "        edges.append((ui, vi))\n",
    "        if undirected:\n",
    "            edges.append((vi, ui))\n",
    "\n",
    "    if edges:\n",
    "        edge_index = torch.tensor(edges, dtype=torch.long).t().contiguous()\n",
    "    else:\n",
    "        edge_index = torch.empty((2, 0), dtype=torch.long)\n",
    "\n",
    "    # 4) Create PyG Data\n",
    "    data = Data(x=x, edge_index=edge_index)\n",
    "    return data\n"
   ]
  },
  {
   "cell_type": "code",
   "execution_count": 26,
   "id": "5ea65d30",
   "metadata": {},
   "outputs": [],
   "source": [
    "data = nx_to_pyg(G)"
   ]
  },
  {
   "cell_type": "code",
   "execution_count": 29,
   "id": "44682861",
   "metadata": {},
   "outputs": [
    {
     "data": {
      "text/plain": [
       "tensor([[0, 6, 0, 2, 0, 4, 0, 1, 1, 2, 1, 6, 1, 7, 2, 6, 2, 4, 3, 8, 3, 5, 3, 7,\n",
       "         4, 6, 5, 8, 7, 8],\n",
       "        [6, 0, 2, 0, 4, 0, 1, 0, 2, 1, 6, 1, 7, 1, 6, 2, 4, 2, 8, 3, 5, 3, 7, 3,\n",
       "         6, 4, 8, 5, 8, 7]])"
      ]
     },
     "execution_count": 29,
     "metadata": {},
     "output_type": "execute_result"
    }
   ],
   "source": [
    "data.edge_index"
   ]
  },
  {
   "cell_type": "code",
   "execution_count": 24,
   "id": "28babdce",
   "metadata": {},
   "outputs": [
    {
     "data": {
      "text/plain": [
       "{'type': 'spine',\n",
       " 'limb_index': 0,\n",
       " 'branch_index': 0,\n",
       " 'spine_index': 13,\n",
       " 'sph_harm_coeffs': [1054.877255980421,\n",
       "  253.83718874317847,\n",
       "  -395.26458968447594,\n",
       "  -57.38179883713909,\n",
       "  -52.76997988597038,\n",
       "  138.30911098427197,\n",
       "  -157.11072280916724,\n",
       "  -119.48063239130903,\n",
       "  107.23409320439923,\n",
       "  -45.2505379349313,\n",
       "  2.173540408157626,\n",
       "  -26.493003444442717,\n",
       "  -30.182065014309813,\n",
       "  -53.7959333934196,\n",
       "  8.078251472285217,\n",
       "  -61.9870083158867,\n",
       "  43.76982605610522,\n",
       "  -5.437086982796547,\n",
       "  -49.004940026922206,\n",
       "  -67.61911523246978,\n",
       "  7.023504937583567,\n",
       "  39.99324320435006,\n",
       "  -60.64148318357563,\n",
       "  18.41059889376547,\n",
       "  11.470108069456789],\n",
       " 'centroid': array([709734.09761068, 775615.45579846, 876340.76546869])}"
      ]
     },
     "execution_count": 24,
     "metadata": {},
     "output_type": "execute_result"
    }
   ],
   "source": [
    "G.nodes['S0_0_13']"
   ]
  },
  {
   "cell_type": "code",
   "execution_count": 23,
   "id": "e03dce26",
   "metadata": {},
   "outputs": [
    {
     "data": {
      "text/plain": [
       "tensor([[ 1.0549e+03,  2.5384e+02, -3.9526e+02, -5.7382e+01, -5.2770e+01,\n",
       "          1.3831e+02, -1.5711e+02, -1.1948e+02,  1.0723e+02, -4.5251e+01,\n",
       "          2.1735e+00, -2.6493e+01, -3.0182e+01, -5.3796e+01,  8.0783e+00,\n",
       "         -6.1987e+01,  4.3770e+01, -5.4371e+00, -4.9005e+01, -6.7619e+01,\n",
       "          7.0235e+00,  3.9993e+01, -6.0641e+01,  1.8411e+01,  1.1470e+01],\n",
       "        [ 1.8668e+03, -4.1715e+01, -1.6108e+01,  5.4331e+01,  7.3614e+01,\n",
       "         -2.7897e+01,  4.0519e+01, -8.1172e+00,  1.6615e+01,  1.0326e+01,\n",
       "         -1.2554e+01,  4.7543e+01,  2.6327e+01, -3.5571e+01,  8.0502e+00,\n",
       "         -4.5979e+01, -3.1756e+01, -8.5521e+00, -3.5351e+01,  2.9980e+01,\n",
       "         -4.6657e+01,  5.0434e-01, -1.4959e+01,  2.1668e+01, -2.4666e+01],\n",
       "        [ 1.4794e+03,  4.3378e+02,  1.9799e+02, -5.3977e+02,  2.6203e+02,\n",
       "         -1.1239e+02,  1.0868e+02,  1.0035e+02, -7.6690e+01, -6.2778e+01,\n",
       "          3.1023e+00,  5.8710e+01,  7.0409e+01, -6.1818e+00, -8.9104e+00,\n",
       "         -4.2991e+01, -7.2171e+01,  3.3262e+01,  5.1149e+01, -1.1963e+02,\n",
       "          1.2995e+01,  7.6054e+01, -3.8244e+00,  4.6074e+01, -1.4023e+02],\n",
       "        [ 8.8448e+02, -1.3153e+02, -5.8706e+00,  3.5343e+02,  5.0440e+01,\n",
       "          6.6552e+00, -2.7013e+02,  6.8406e+01,  9.2859e+01, -1.2492e+01,\n",
       "          2.0983e+01,  5.9709e+01, -8.4903e+00, -4.3014e+01, -3.6068e-01,\n",
       "         -2.1302e+01,  5.0161e+01,  3.7220e+01, -3.2548e+01,  1.6370e+01,\n",
       "          2.7382e+01, -1.5771e+01,  9.0080e+00, -3.0617e+01, -6.3297e+01],\n",
       "        [ 7.8107e+02, -4.2188e+01,  4.0614e+01, -3.3184e+00, -6.7020e+01,\n",
       "          8.9866e+01, -6.9916e-01,  2.0955e+01, -5.7966e+00, -9.4475e+00,\n",
       "          1.9772e+01,  1.6056e+01, -4.1188e+01, -7.7080e+00,  4.3198e+01,\n",
       "          4.2364e+01,  1.3691e+01, -7.7151e+00, -8.3654e+00,  1.0116e+01,\n",
       "         -1.1935e+01,  1.3178e+01,  4.0903e+00, -8.0456e-01, -1.8682e+01],\n",
       "        [ 8.5167e+02,  1.1918e+02,  3.0239e+01, -1.4372e+02, -1.0394e+02,\n",
       "          1.4973e+02,  1.0673e+01, -4.4065e+01, -9.6408e+00,  1.2967e+01,\n",
       "          2.5527e+01, -2.9705e+01,  3.3563e+01,  6.9377e+01, -4.6214e+01,\n",
       "          1.6197e+01,  7.5226e+00,  4.9713e+00,  1.2828e+01,  8.1433e-01,\n",
       "         -3.9275e+00, -1.0605e+01, -2.9444e+01,  2.7338e+01, -3.8474e+01],\n",
       "        [ 6.7876e+02, -2.7478e+02, -2.2187e+02, -2.9872e+01,  1.8225e+00,\n",
       "          3.1664e+01,  1.4929e+02, -2.4761e+01, -1.0350e+02,  2.2740e+00,\n",
       "          1.0701e+02, -8.1889e+01, -6.5811e+01, -6.3663e+01,  4.2905e+00,\n",
       "          2.6874e+01, -1.1533e+01, -4.1530e+01,  1.6267e+01,  4.5756e+01,\n",
       "          1.0812e+01, -2.0205e+01,  1.0322e+01,  1.4235e+01, -4.1862e+01],\n",
       "        [ 1.0824e+03,  7.1270e+02, -3.9494e+01, -2.3814e+01,  7.6432e+01,\n",
       "         -7.3718e+00,  2.2690e+02,  1.3160e+02, -2.4790e+01,  2.0026e+02,\n",
       "         -8.2421e+01,  1.7650e+01,  6.0865e+01, -8.9197e+01, -3.9054e+01,\n",
       "         -3.7185e+01,  2.4499e+01, -2.6693e+01,  5.0588e+01,  4.6721e+01,\n",
       "          8.3720e+01,  3.2851e+01,  7.2831e+01,  1.0746e+02, -9.6520e+01],\n",
       "        [ 4.9631e+02, -2.2301e+02,  9.4276e+01,  1.2720e+02,  7.1386e+01,\n",
       "          4.5642e+01, -8.1938e+01,  6.7273e+01, -1.5486e+02,  7.8920e+01,\n",
       "          6.4915e+01,  7.7765e+01, -4.1911e+01,  1.8866e+01, -2.3014e+01,\n",
       "         -1.1614e+01, -4.3660e+01,  3.0179e+00,  1.8203e+01, -3.4109e+01,\n",
       "          1.4349e+01, -1.4343e+01,  3.6608e+01, -6.7478e+00,  2.4933e+01]])"
      ]
     },
     "execution_count": 23,
     "metadata": {},
     "output_type": "execute_result"
    }
   ],
   "source": [
    "data[0].x"
   ]
  },
  {
   "cell_type": "code",
   "execution_count": 5,
   "id": "94ae18b4",
   "metadata": {},
   "outputs": [
    {
     "data": {
      "text/plain": [
       "Data(edge_index=[2, 30], edge_attr=[30, 1])"
      ]
     },
     "execution_count": 5,
     "metadata": {},
     "output_type": "execute_result"
    }
   ],
   "source": [
    "spineds[0]"
   ]
  },
  {
   "cell_type": "code",
   "execution_count": 2,
   "id": "0bf69da1",
   "metadata": {},
   "outputs": [],
   "source": [
    "from get_data import create_dataset\n",
    "import hydra\n",
    "from omegaconf import DictConfig\n",
    "from omegaconf import OmegaConf\n",
    "cfg = OmegaConf.load(\"train/configs/zinc.yaml\")\n",
    "train_dataset, val_dataset, test_dataset = create_dataset(cfg)\n"
   ]
  },
  {
   "cell_type": "code",
   "execution_count": null,
   "id": "e720a0ca",
   "metadata": {},
   "outputs": [
    {
     "data": {
      "text/plain": [
       "SubgraphsData(x=[15, 25], edge_index=[2, 50], rw_pos_enc=[15, 2], patch_pe=[3, 2], coarsen_adj=[1, 3, 3], subgraphs_batch=[30], subgraphs_nodes_mapper=[30], subgraphs_edges_mapper=[96], combined_subgraphs=[2, 96], mask=[1, 3], context_edges_mask=[96], target_edges_mask=[96], context_nodes_mapper=[8], target_nodes_mapper=[8], context_nodes_subgraph=[8], target_nodes_subgraph=[8], context_subgraph_idx=1, target_subgraph_idxs=[1], call_n_patches=[1])"
      ]
     },
     "execution_count": 13,
     "metadata": {},
     "output_type": "execute_result"
    }
   ],
   "source": [
    "train_dataset[2]"
   ]
  },
  {
   "cell_type": "code",
   "execution_count": 1,
   "id": "9e40215c",
   "metadata": {},
   "outputs": [],
   "source": [
    "from datasets.microns_spheric_dataset import WightlessDS,SpineGraphDataset\n",
    "ds = WightlessDS('/home/eugen/Desktop/CodeWork/Projects/Diplom/notebooks/NewFearuteModel/DataFT/knn_components')\n",
    "spineds = SpineGraphDataset(ds)"
   ]
  },
  {
   "cell_type": "code",
   "execution_count": 5,
   "id": "174d518e",
   "metadata": {},
   "outputs": [
    {
     "data": {
      "text/plain": [
       "Data(x=[9, 25], edge_index=[2, 30])"
      ]
     },
     "execution_count": 5,
     "metadata": {},
     "output_type": "execute_result"
    }
   ],
   "source": [
    "spineds[0]"
   ]
  },
  {
   "cell_type": "code",
   "execution_count": 3,
   "id": "77ea3160",
   "metadata": {},
   "outputs": [],
   "source": [
    "from datasets.normalize_nodes import compute_node_feature_stats,NodeFeatureNormalizer,normalize_dataset_inplace\n",
    "import torch\n",
    "    # допустим, у вас есть train_ds / val_ds (torch_geometric.data.Dataset)\n",
    "    # 1) посчитать статистику по train\n",
    "mean, std = compute_node_feature_stats(spineds, attr=\"x\", device=\"cpu\")\n",
    "\n",
    "    # 2) создать нормализатор и сохранить на диск\n",
    "normalizer = NodeFeatureNormalizer(mean, std, attr=\"x\", eps=1e-6)\n",
    "torch.save(normalizer.state_dict(), \"node_norm_stats.pt\")\n",
    "\n",
    "    # 3) нормализовать train/val\n",
    "\n",
    "\n",
    "    # для val/test грузим те же статистики:\n"
   ]
  },
  {
   "cell_type": "code",
   "execution_count": null,
   "id": "11e78daa",
   "metadata": {},
   "outputs": [],
   "source": [
    "mean, std = compute_stats_from_paths(train_paths, feature_key=\"sph_harm_coeffs\")"
   ]
  },
  {
   "cell_type": "code",
   "execution_count": null,
   "id": "def4d9ea",
   "metadata": {},
   "outputs": [],
   "source": [
    "normalize_dataset_inplace(train_ds, normalizer)\n",
    "state = torch.load(\"node_norm_stats.pt\", map_location=\"cpu\")\n",
    "val_normalizer = NodeFeatureNormalizer.from_state_dict(state)\n",
    "normalize_dataset_inplace(val_ds, val_normalizer)"
   ]
  },
  {
   "cell_type": "code",
   "execution_count": 14,
   "id": "2f7ed4d3",
   "metadata": {},
   "outputs": [],
   "source": [
    "from transform import PositionalEncodingTransform, GraphJEPAPartitionTransform\n",
    "_transform_train = GraphJEPAPartitionTransform(n_patches=cfg.metis.n_patches,\n",
    "                                                metis=cfg.metis.enable,\n",
    "                                                drop_rate=cfg.metis.drop_rate,\n",
    "                                                num_hops=cfg.metis.num_hops,\n",
    "                                                is_directed=cfg.dataset == 'TreeDataset',\n",
    "                                                patch_rw_dim=cfg.pos_enc.patch_rw_dim,\n",
    "                                                patch_num_diff=cfg.pos_enc.patch_num_diff,\n",
    "                                                num_context=cfg.jepa.num_context, \n",
    "                                                num_targets=cfg.jepa.num_targets\n",
    "                                            )"
   ]
  }
 ],
 "metadata": {
  "kernelspec": {
   "display_name": "Python 3",
   "language": "python",
   "name": "python3"
  },
  "language_info": {
   "codemirror_mode": {
    "name": "ipython",
    "version": 3
   },
   "file_extension": ".py",
   "mimetype": "text/x-python",
   "name": "python",
   "nbconvert_exporter": "python",
   "pygments_lexer": "ipython3",
   "version": "3.10.12"
  }
 },
 "nbformat": 4,
 "nbformat_minor": 5
}
