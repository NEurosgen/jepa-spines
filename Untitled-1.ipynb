{
 "cells": [
  {
   "cell_type": "code",
   "execution_count": 1,
   "id": "aa33b899",
   "metadata": {},
   "outputs": [],
   "source": [
    "from omegaconf import DictConfig\n",
    "from graph import GetDatasetGrap\n",
    "from PathcesDataset import PatchGroupDataset\n",
    "from ExperimentalDataset import SpineGraphDataset\n"
   ]
  },
  {
   "cell_type": "code",
   "execution_count": 2,
   "id": "6d0472bb",
   "metadata": {},
   "outputs": [
    {
     "name": "stdout",
     "output_type": "stream",
     "text": [
      "Size dataset 41\n"
     ]
    }
   ],
   "source": [
    "base_ds = SpineGraphDataset(\n",
    "        root='data',\n",
    "        knn=5,\n",
    "        count_per_item=1,\n",
    "        mode='CopiedGraphs',\n",
    "        gamma=0.5\n",
    "    )\n",
    "print(\"Size dataset\", len(base_ds))"
   ]
  },
  {
   "cell_type": "code",
   "execution_count": 3,
   "id": "3ce9aef8",
   "metadata": {},
   "outputs": [],
   "source": [
    "train_patch_ds = PatchGroupDataset(\n",
    "        base_graphs=base_ds,\n",
    "        p= 3 ,\n",
    "        rwse_k=2,\n",
    "        khop=1,\n",
    "        targets_per_ctx=4,\n",
    "        min_patch_nodes=2,\n",
    "        use_metis=False,\n",
    "        context_mode=\"patch\"\n",
    "    )"
   ]
  },
  {
   "cell_type": "code",
   "execution_count": null,
   "id": "605237ba",
   "metadata": {},
   "outputs": [
    {
     "data": {
      "text/plain": [
       "(Data(edge_index=[2, 62], num_nodes=15, x=[15, 13]),\n",
       " [Data(edge_index=[2, 62], num_nodes=15, x=[15, 13]),\n",
       "  Data(edge_index=[2, 62], num_nodes=15, x=[15, 13]),\n",
       "  Data(edge_index=[2, 62], num_nodes=15, x=[15, 13])],\n",
       " [tensor([[0.0000, 0.2750]]),\n",
       "  tensor([[0.0000, 0.3167]]),\n",
       "  tensor([[0.0000, 0.3167]])])"
      ]
     },
     "execution_count": 16,
     "metadata": {},
     "output_type": "execute_result"
    }
   ],
   "source": [
    "train_patch_ds[2]"
   ]
  },
  {
   "cell_type": "code",
   "execution_count": 33,
   "id": "c1baf42e",
   "metadata": {},
   "outputs": [
    {
     "data": {
      "text/plain": [
       "tensor([0.0000e+00, 0.0000e+00, 0.0000e+00, 0.0000e+00, 0.0000e+00, 0.0000e+00,\n",
       "        0.0000e+00, 0.0000e+00, 1.8738e+00, 1.2117e-01, 1.4791e+00, 1.1947e-04,\n",
       "        1.0847e-01, 2.6048e+00, 9.2435e-02, 2.0599e+00, 2.6249e-06, 7.8119e-07,\n",
       "        5.7180e+00, 6.6143e-01, 3.4733e+00, 2.9796e-01, 5.5164e-01, 1.9059e+00,\n",
       "        1.5958e+00, 1.6180e+00, 4.4577e-03, 6.7553e-03, 4.2175e-01, 0.0000e+00,\n",
       "        0.0000e+00])"
      ]
     },
     "execution_count": 33,
     "metadata": {},
     "output_type": "execute_result"
    }
   ],
   "source": [
    "train_patch_ds[2][1][0].x[train_patch_ds[2][1][0].x != train_patch_ds[2][1][1].x]"
   ]
  },
  {
   "cell_type": "code",
   "execution_count": null,
   "id": "89e25b50",
   "metadata": {},
   "outputs": [],
   "source": []
  },
  {
   "cell_type": "code",
   "execution_count": null,
   "id": "6ed8583e",
   "metadata": {},
   "outputs": [],
   "source": [
    "train_patch_ds[2][0].x"
   ]
  },
  {
   "cell_type": "code",
   "execution_count": 4,
   "id": "a0873f6f",
   "metadata": {},
   "outputs": [
    {
     "name": "stdout",
     "output_type": "stream",
     "text": [
      "Size dataset 1000\n"
     ]
    }
   ],
   "source": [
    "base_ds = SpineGraphDataset(\n",
    "        root='data',\n",
    "        knn=5,\n",
    "        count_per_item=30,\n",
    "        mode='MarkovGraphs',\n",
    "        gamma=0.8\n",
    "    )\n",
    "print(\"Size dataset\", len(base_ds))"
   ]
  },
  {
   "cell_type": "code",
   "execution_count": 4,
   "id": "6b2f72b9",
   "metadata": {},
   "outputs": [
    {
     "data": {
      "text/plain": [
       "Data(edge_index=[2, 6], weight=[6], x=[3, 13], y=[1], group_id='data/Ab/ab18-1_graph.pkl')"
      ]
     },
     "execution_count": 4,
     "metadata": {},
     "output_type": "execute_result"
    }
   ],
   "source": [
    "base_ds[0]"
   ]
  },
  {
   "cell_type": "code",
   "execution_count": 4,
   "id": "eb323735",
   "metadata": {},
   "outputs": [],
   "source": [
    "from KkopPatchDataset import KHopPatchDataset\n",
    "ps = KHopPatchDataset(       base_graphs=base_ds,\n",
    "        p= 3 ,\n",
    "        rwse_k=2,\n",
    "        khop=1,\n",
    "        min_patch_nodes=2,\n",
    "        use_metis=False)\n"
   ]
  },
  {
   "cell_type": "code",
   "execution_count": 7,
   "id": "195d70b5",
   "metadata": {},
   "outputs": [
    {
     "data": {
      "text/plain": [
       "Data(edge_index=[2, 72], weight=[72], x=[17, 13], y=[1])"
      ]
     },
     "execution_count": 7,
     "metadata": {},
     "output_type": "execute_result"
    }
   ],
   "source": [
    "base_ds[10]"
   ]
  },
  {
   "cell_type": "code",
   "execution_count": 8,
   "id": "79cbfe36",
   "metadata": {},
   "outputs": [
    {
     "data": {
      "text/plain": [
       "(Data(edge_index=[2, 64], num_nodes=15, x=[15, 13]),\n",
       " [Data(edge_index=[2, 68], num_nodes=16, x=[16, 13]),\n",
       "  Data(edge_index=[2, 50], num_nodes=13, x=[13, 13])],\n",
       " [tensor([[0.0000, 0.2750]]), tensor([[0.0000, 0.3611]])],\n",
       " 0)"
      ]
     },
     "execution_count": 8,
     "metadata": {},
     "output_type": "execute_result"
    }
   ],
   "source": [
    "ps[10]"
   ]
  },
  {
   "cell_type": "code",
   "execution_count": null,
   "id": "c973f5e1",
   "metadata": {},
   "outputs": [],
   "source": [
    "\n",
    "def _load_base_graph(path: Path, knn: int) -> nx.Graph:\n",
    "    with open(path, \"rb\") as fh:\n",
    "        G = pickle.load(fh)\n",
    "    if knn and knn > 0:\n",
    "        G = knn_graph(G, k=knn, mutual=True)\n",
    "    return G"
   ]
  },
  {
   "cell_type": "code",
   "execution_count": null,
   "id": "fe1eb40e",
   "metadata": {},
   "outputs": [],
   "source": [
    "from pathlib import Path\n",
    "import pickle\n",
    "import networkx as nx\n",
    "import pickle, copy, itertools, heapq\n",
    "def graph_density(G: nx.Graph) -> float:\n",
    "    n = G.number_of_nodes()\n",
    "    if n <= 1: return 0.0\n",
    "    return 2.0 * G.number_of_edges() / (n * (n - 1))\n",
    "\n",
    "def knn_graph(G: nx.Graph, k: int, weight: str = \"weight\", mutual: bool = False) -> nx.Graph:\n",
    "    H = nx.DiGraph()\n",
    "    H.add_nodes_from(G.nodes(data=True))\n",
    "    for u in G.nodes:\n",
    "        # k лучших соседей по минимальному весу\n",
    "        k_best = heapq.nsmallest(\n",
    "            k, G[u].items(),\n",
    "            key=lambda item: item[1].get(weight, 1.0)\n",
    "        )\n",
    "        for v, edata in k_best:\n",
    "            H.add_edge(u, v, **edata)\n",
    "    if mutual:\n",
    "        to_remove = [(u, v) for u, v in H.edges if not H.has_edge(v, u)]\n",
    "        H.remove_edges_from(to_remove)\n",
    "        H = nx.Graph(H)\n",
    "    else:\n",
    "        # если нужен неориентированный kNN, раскомментируй:\n",
    "        # H = nx.Graph(H)\n",
    "        pass\n",
    "    return H\n",
    "def load_graphs(path,knn=0):\n",
    "    with open(path, 'rb') as fh:\n",
    "        G = pickle.load(fh)\n",
    "    if knn > 0:\n",
    "        G = knn_graph(G=G,k=knn)\n",
    "    return G\n",
    "\n",
    "def GetGraphs(root , knn = 0):\n",
    "    root = root\n",
    "    files = sorted(Path(root).glob(\"*.pkl\"))\n",
    "    all_graphs = []\n",
    "    for path in files:\n",
    "        all_graphs.append(load_graphs(path,knn = knn))\n",
    "    return all_graphs\n",
    "\n",
    "\n",
    "k = 3\n",
    "ab_graphs = GetGraphs(root = 'data/Ab',knn = k)\n",
    "wt_graphs = GetGraphs(root = 'data/Wt',knn = k)\n",
    "\n"
   ]
  },
  {
   "cell_type": "code",
   "execution_count": null,
   "id": "f8256e3d",
   "metadata": {},
   "outputs": [],
   "source": [
    "import pandas as pd\n",
    "\n",
    "dm_ab = pd.Series(ab_graphs).apply(lambda x: nx.diameter(x) if nx.is_strongly_connected(x) else 0)\n",
    "dm_wt = pd.Series(wt_graphs).apply(lambda x: nx.diameter(x) if nx.is_strongly_connected(x) else 0)"
   ]
  },
  {
   "cell_type": "code",
   "execution_count": 53,
   "id": "362ed1e4",
   "metadata": {},
   "outputs": [
    {
     "data": {
      "text/plain": [
       "<Axes: >"
      ]
     },
     "execution_count": 53,
     "metadata": {},
     "output_type": "execute_result"
    },
    {
     "data": {
      "image/png": "[encoded data removed]",
      "text/plain": [
       "<Figure size 640x480 with 1 Axes>"
      ]
     },
     "metadata": {},
     "output_type": "display_data"
    }
   ],
   "source": [
    "dm_ab.hist()"
   ]
  },
  {
   "cell_type": "code",
   "execution_count": 54,
   "id": "6a70aa2b",
   "metadata": {},
   "outputs": [
    {
     "data": {
      "text/plain": [
       "<Axes: >"
      ]
     },
     "execution_count": 54,
     "metadata": {},
     "output_type": "execute_result"
    },
    {
     "data": {
      "image/png": "[encoded data removed]",
      "text/plain": [
       "<Figure size 640x480 with 1 Axes>"
      ]
     },
     "metadata": {},
     "output_type": "display_data"
    }
   ],
   "source": [
    "dm_wt.hist()"
   ]
  },
  {
   "cell_type": "code",
   "execution_count": 60,
   "id": "9eb7c4fb",
   "metadata": {},
   "outputs": [
    {
     "data": {
      "text/plain": [
       "<Axes: >"
      ]
     },
     "execution_count": 60,
     "metadata": {},
     "output_type": "execute_result"
    },
    {
     "data": {
      "image/png": "[encoded data removed]",
      "text/plain": [
       "<Figure size 640x480 with 1 Axes>"
      ]
     },
     "metadata": {},
     "output_type": "display_data"
    }
   ],
   "source": [
    "pd.Series(ab_graphs).apply(lambda x: len(x.nodes)).hist()"
   ]
  },
  {
   "cell_type": "code",
   "execution_count": 61,
   "id": "39db43a3",
   "metadata": {},
   "outputs": [
    {
     "data": {
      "text/plain": [
       "<Axes: >"
      ]
     },
     "execution_count": 61,
     "metadata": {},
     "output_type": "execute_result"
    },
    {
     "data": {
      "image/png": "[encoded data removed]",
      "text/plain": [
       "<Figure size 640x480 with 1 Axes>"
      ]
     },
     "metadata": {},
     "output_type": "display_data"
    }
   ],
   "source": [
    "pd.Series(wt_graphs).apply(lambda x: len(x.nodes)).hist()"
   ]
  },
  {
   "cell_type": "code",
   "execution_count": 58,
   "id": "6cbee178",
   "metadata": {},
   "outputs": [
    {
     "data": {
      "text/plain": [
       "3"
      ]
     },
     "execution_count": 58,
     "metadata": {},
     "output_type": "execute_result"
    }
   ],
   "source": [
    "len(ab_graphs[0].nodes)"
   ]
  },
  {
   "cell_type": "code",
   "execution_count": 18,
   "id": "a1795b0a",
   "metadata": {},
   "outputs": [
    {
     "data": {
      "text/plain": [
       "True"
      ]
     },
     "execution_count": 18,
     "metadata": {},
     "output_type": "execute_result"
    }
   ],
   "source": [
    "nx.is_strongly_connected(all_graphs[1])"
   ]
  },
  {
   "cell_type": "code",
   "execution_count": 35,
   "id": "63eeaf96",
   "metadata": {},
   "outputs": [
    {
     "data": {
      "image/png": "[encoded data removed]",
      "text/plain": [
       "<Figure size 640x480 with 1 Axes>"
      ]
     },
     "metadata": {},
     "output_type": "display_data"
    }
   ],
   "source": [
    "nx.draw(all_graphs[1])"
   ]
  },
  {
   "cell_type": "code",
   "execution_count": null,
   "id": "54aa6b60",
   "metadata": {},
   "outputs": [],
   "source": [
    "\n",
    "\n"
   ]
  },
  {
   "cell_type": "code",
   "execution_count": 41,
   "id": "beeefbdf",
   "metadata": {},
   "outputs": [
    {
     "data": {
      "text/plain": [
       "<Axes: >"
      ]
     },
     "execution_count": 41,
     "metadata": {},
     "output_type": "execute_result"
    },
    {
     "data": {
      "image/png": "[encoded data removed]",
      "text/plain": [
       "<Figure size 640x480 with 1 Axes>"
      ]
     },
     "metadata": {},
     "output_type": "display_data"
    }
   ],
   "source": [
    "dm[dm > 0].hist()"
   ]
  },
  {
   "cell_type": "code",
   "execution_count": 86,
   "id": "ff10aac1",
   "metadata": {},
   "outputs": [
    {
     "data": {
      "text/plain": [
       "'sdsd,eferw,wrw'"
      ]
     },
     "execution_count": 86,
     "metadata": {},
     "output_type": "execute_result"
    }
   ],
   "source": [
    "stro = \"  sdsd eferw wrw  \"\n",
    "','.join(stro.split())\n"
   ]
  },
  {
   "cell_type": "code",
   "execution_count": 76,
   "id": "bc7aaee3",
   "metadata": {},
   "outputs": [
    {
     "data": {
      "text/plain": [
       "tensor([[0., -inf, -inf, -inf, -inf],\n",
       "        [0., 0., -inf, -inf, -inf],\n",
       "        [0., 0., 0., -inf, -inf],\n",
       "        [0., 0., 0., 0., -inf],\n",
       "        [0., 0., 0., 0., 0.]])"
      ]
     },
     "execution_count": 76,
     "metadata": {},
     "output_type": "execute_result"
    }
   ],
   "source": [
    "import torch\n",
    "def causal_mask(S: int, device=None):\n",
    "    m = torch.full((S, S), float('-inf'), device=device)\n",
    "    m = torch.triu(m, diagonal=1)\n",
    "    return m\n",
    "causal_mask(5)"
   ]
  },
  {
   "cell_type": "code",
   "execution_count": 83,
   "id": "ff059bbe",
   "metadata": {},
   "outputs": [
    {
     "data": {
      "text/plain": [
       "tensor([[-inf, -inf, -inf, -inf],\n",
       "        [0., -inf, -inf, -inf],\n",
       "        [0., 0., -inf, -inf],\n",
       "        [0., 0., 0., -inf]])"
      ]
     },
     "execution_count": 83,
     "metadata": {},
     "output_type": "execute_result"
    }
   ],
   "source": [
    "m = torch.full((4,4),float('-inf'))\n",
    "torch.triu(m , diagonal=0)"
   ]
  },
  {
   "cell_type": "code",
   "execution_count": 2,
   "id": "23c94b61",
   "metadata": {},
   "outputs": [],
   "source": [
    "from ExperimentalDataset import SpineGraphDataset\n",
    "from pathlib import Path\n",
    "from KkopPatchDataset import KHopPatchDataset\n",
    "def get_dataset(root: str | Path):\n",
    "    \"\"\"\n",
    "    Верни список torch_geometric.data.Data.\n",
    "    Здесь — просто заглушка. Подставь свою реализацию.\n",
    "    \"\"\"\n",
    "   \n",
    "    base_ds = SpineGraphDataset(\n",
    "        root= root,\n",
    "        knn=5,\n",
    "        count_per_item=1,\n",
    "        mode='MarkovGraphs',\n",
    "        gamma=1\n",
    "    )\n",
    "    return base_ds\n",
    "import hydra\n",
    "\n",
    "\n",
    "\n",
    "graph_set = get_dataset(root=\"data\")\n",
    "\n",
    "   \n",
    "\n"
   ]
  },
  {
   "cell_type": "code",
   "execution_count": 4,
   "id": "7cabe6ca",
   "metadata": {},
   "outputs": [],
   "source": [
    "# demo.py\n",
    "import torch\n",
    "from torch_geometric.data import Data\n",
    "from GraphCut.graphcutter import (\n",
    "    GraphCutter, KHop, BFSBudget, RandomWalk,\n",
    "    NodeBudget, EnsureConnected, Unique,\n",
    "    InduceEdges, Relabel, save_patch_npz\n",
    ")\n",
    "\n",
    "\n",
    "ctx_cutter = GraphCutter(\n",
    "    strategies=[\n",
    "        BFSBudget(2),                 \n",
    "\n",
    "    ],\n",
    "    constraints=[\n",
    "        NodeBudget(10),             # hard cap to avoid runaway growth\n",
    "        EnsureConnected(),   \n",
    "        Unique()        # keep only largest connected component\n",
    "      # drop duplicates by node set\n",
    "    ],\n",
    "    post=[\n",
    "        InduceEdges(),             # induce edges for the chosen node set\n",
    "        Relabel()                  # reindex nodes to 0..m-1 and slice x/y\n",
    "    ],\n",
    "    rng_seed=0\n",
    ")\n",
    "\n",
    "\n",
    "tgtx_cutter = GraphCutter(\n",
    "    strategies=[\n",
    "        KHop(1),                 \n",
    "\n",
    "    ],\n",
    "    constraints=[\n",
    "        NodeBudget(5),             # hard cap to avoid runaway growth\n",
    "        EnsureConnected(),         # keep only largest connected component\n",
    "        Unique()                   # drop duplicates by node set\n",
    "    ],\n",
    "    post=[\n",
    "        InduceEdges(),             # induce edges for the chosen node set\n",
    "        Relabel()                  # reindex nodes to 0..m-1 and slice x/y\n",
    "    ],\n",
    "    rng_seed=0\n",
    ")\n",
    "\n",
    "\n",
    "\n",
    "\n"
   ]
  },
  {
   "cell_type": "code",
   "execution_count": 5,
   "id": "1bcf980e",
   "metadata": {},
   "outputs": [],
   "source": [
    "from graph_cut_datset import CutPatchesDataset\n",
    "\n",
    "cut_ds = CutPatchesDataset(base_graphs=graph_set,context_cutter=ctx_cutter,targets_cutter=tgtx_cutter,rwse_k=3,max_targets=4)"
   ]
  },
  {
   "cell_type": "code",
   "execution_count": 8,
   "id": "f5631f21",
   "metadata": {},
   "outputs": [
    {
     "data": {
      "text/plain": [
       "{'context': Data(edge_index=[2, 1], num_nodes=2, x=[2, 13], y=[1]),\n",
       " 'target_graphs': [Data(edge_index=[2, 3], num_nodes=3, x=[3, 13], y=[1])],\n",
       " 'encoded': [tensor([[0.0000, 0.5000, 0.2500]])],\n",
       " 'index': 0}"
      ]
     },
     "execution_count": 8,
     "metadata": {},
     "output_type": "execute_result"
    }
   ],
   "source": [
    "cut_ds[0]"
   ]
  },
  {
   "cell_type": "code",
   "execution_count": 8,
   "id": "3651c1c7",
   "metadata": {},
   "outputs": [],
   "source": [
    "from graph_cut_datset import make_loader\n",
    "loader = make_loader(cut_ds, batch_size=4, shuffle=False)"
   ]
  },
  {
   "cell_type": "code",
   "execution_count": 31,
   "id": "f5e12921",
   "metadata": {},
   "outputs": [
    {
     "name": "stdout",
     "output_type": "stream",
     "text": [
      "torch.Size([8, 3])\n",
      "tensor([1, 1, 3, 3])\n",
      "tensor([0, 1, 2, 5, 8])\n"
     ]
    }
   ],
   "source": [
    "batch = next(iter(loader))\n",
    "print(batch[\"encoded\"].shape)  # -> [sum_T, k]\n",
    "print(batch[\"sizes\"])          # -> [B]\n",
    "print(batch[\"ptr\"]) "
   ]
  },
  {
   "cell_type": "code",
   "execution_count": 32,
   "id": "29bdbbdf",
   "metadata": {},
   "outputs": [
    {
     "data": {
      "text/plain": [
       "{'context_batch': DataBatch(edge_index=[2, 4], num_nodes=8, x=[8, 13], y=[4], batch=[8], ptr=[5]),\n",
       " 'target_batch': DataBatch(edge_index=[2, 60], num_nodes=36, x=[36, 13], y=[8], batch=[36], ptr=[9]),\n",
       " 'encoded': tensor([[0.0000, 0.5000, 0.2500],\n",
       "         [0.0000, 0.5000, 0.2500],\n",
       "         [0.0000, 0.2500, 0.1875],\n",
       "         [0.0000, 0.2917, 0.1979],\n",
       "         [0.0000, 0.3542, 0.2014],\n",
       "         [0.0000, 0.2917, 0.1979],\n",
       "         [0.0000, 0.3542, 0.2014],\n",
       "         [0.0000, 0.2500, 0.1875]]),\n",
       " 'ptr': tensor([0, 1, 2, 5, 8]),\n",
       " 'sizes': tensor([1, 1, 3, 3]),\n",
       " 'indices': tensor([0, 1, 2, 3])}"
      ]
     },
     "execution_count": 32,
     "metadata": {},
     "output_type": "execute_result"
    }
   ],
   "source": [
    "batch"
   ]
  },
  {
   "cell_type": "code",
   "execution_count": 7,
   "id": "836df334",
   "metadata": {},
   "outputs": [
    {
     "data": {
      "text/plain": [
       "Data(edge_index=[2, 6], weight=[6], x=[3, 13], y=[1])"
      ]
     },
     "execution_count": 7,
     "metadata": {},
     "output_type": "execute_result"
    }
   ],
   "source": [
    "graph_set[0]"
   ]
  },
  {
   "cell_type": "code",
   "execution_count": 15,
   "id": "92a2e0a9",
   "metadata": {},
   "outputs": [
    {
     "data": {
      "text/plain": [
       "[Patch(nodes_orig=tensor([0, 1]), edge_index=tensor([[0],\n",
       "         [1]]), num_nodes=2, x=tensor([[ 3.1845e+00,  2.2320e+00,  2.2942e+00,  2.4900e-01,  3.7397e-01,\n",
       "           3.1439e+00,  1.2770e+00,  1.6471e+00,  2.7254e+00, -9.8474e-01,\n",
       "           3.6416e+00,  1.0607e-01,  1.7635e-01],\n",
       "         [ 8.8524e-01, -1.2926e-02,  1.4422e+00,  0.0000e+00,  0.0000e+00,\n",
       "           9.7630e-01,  2.6770e-01,  6.5610e-01,  1.3064e+00,  9.2118e-02,\n",
       "           1.4317e+00,  2.3049e-04,  2.0952e-04]]), y=tensor([0.]), node_mapping={0: 0, 1: 1})]"
      ]
     },
     "execution_count": 15,
     "metadata": {},
     "output_type": "execute_result"
    }
   ],
   "source": [
    "ctx_cutter.cut(graph_set[0],[0])"
   ]
  },
  {
   "cell_type": "code",
   "execution_count": 33,
   "id": "ca767bbe",
   "metadata": {},
   "outputs": [
    {
     "data": {
      "image/png": "[encoded data removed]",
      "text/plain": [
       "<Figure size 500x500 with 1 Axes>"
      ]
     },
     "metadata": {},
     "output_type": "display_data"
    }
   ],
   "source": [
    "visualize_graph(graph_set[1])"
   ]
  },
  {
   "cell_type": "code",
   "execution_count": 15,
   "id": "4a9e95a9",
   "metadata": {},
   "outputs": [
    {
     "ename": "IndexError",
     "evalue": "list index out of range",
     "output_type": "error",
     "traceback": [
      "\u001b[0;31m---------------------------------------------------------------------------\u001b[0m",
      "\u001b[0;31mIndexError\u001b[0m                                Traceback (most recent call last)",
      "Cell \u001b[0;32mIn[15], line 1\u001b[0m\n\u001b[0;32m----> 1\u001b[0m \u001b[43mcut_ds\u001b[49m\u001b[43m[\u001b[49m\u001b[38;5;241;43m1\u001b[39;49m\u001b[43m]\u001b[49m\n",
      "File \u001b[0;32m~/Desktop/CodeWork/Projects/Diplom/notebooks/JepaAE/graph_cut_datset.py:121\u001b[0m, in \u001b[0;36mCutPatchesDataset.__getitem__\u001b[0;34m(self, idx)\u001b[0m\n\u001b[1;32m    119\u001b[0m \u001b[38;5;28;01mdef\u001b[39;00m\u001b[38;5;250m \u001b[39m\u001b[38;5;21m__getitem__\u001b[39m(\u001b[38;5;28mself\u001b[39m, idx: \u001b[38;5;28mint\u001b[39m) \u001b[38;5;241m-\u001b[39m\u001b[38;5;241m>\u001b[39m Dict[\u001b[38;5;28mstr\u001b[39m, Any]:\n\u001b[1;32m    120\u001b[0m     ctx_seed,tgts_seed \u001b[38;5;241m=\u001b[39m \u001b[38;5;28mself\u001b[39m\u001b[38;5;241m.\u001b[39mget_node_seed(idx,\u001b[38;5;28mself\u001b[39m\u001b[38;5;241m.\u001b[39mmax_targets)\n\u001b[0;32m--> 121\u001b[0m     \u001b[38;5;28;01mreturn\u001b[39;00m \u001b[38;5;28;43mself\u001b[39;49m\u001b[38;5;241;43m.\u001b[39;49m\u001b[43m_prepare\u001b[49m\u001b[43m(\u001b[49m\u001b[43midx\u001b[49m\u001b[43m,\u001b[49m\u001b[43mctx_seed\u001b[49m\u001b[43m,\u001b[49m\u001b[43mtgts_seed\u001b[49m\u001b[43m)\u001b[49m\n",
      "File \u001b[0;32m~/Desktop/CodeWork/Projects/Diplom/notebooks/JepaAE/graph_cut_datset.py:88\u001b[0m, in \u001b[0;36mCutPatchesDataset._prepare\u001b[0;34m(self, idx, ctx_seed, tgts_seed)\u001b[0m\n\u001b[1;32m     83\u001b[0m g \u001b[38;5;241m=\u001b[39m \u001b[38;5;28mself\u001b[39m\u001b[38;5;241m.\u001b[39mbase_graphs[idx]\n\u001b[1;32m     84\u001b[0m \u001b[38;5;66;03m# (опционально) фиксируем сид здесь, если режете стохастически\u001b[39;00m\n\u001b[1;32m     85\u001b[0m \u001b[38;5;66;03m# random.seed(self.seed + idx)\u001b[39;00m\n\u001b[1;32m     86\u001b[0m \u001b[38;5;66;03m# torch.manual_seed(self.seed + idx)\u001b[39;00m\n\u001b[0;32m---> 88\u001b[0m ctx_graph: Data \u001b[38;5;241m=\u001b[39m \u001b[38;5;28;43mself\u001b[39;49m\u001b[38;5;241;43m.\u001b[39;49m\u001b[43mcontext_cutter\u001b[49m\u001b[38;5;241;43m.\u001b[39;49m\u001b[43mcut\u001b[49m\u001b[43m(\u001b[49m\u001b[43mg\u001b[49m\u001b[43m,\u001b[49m\u001b[43m[\u001b[49m\u001b[43mctx_seed\u001b[49m\u001b[43m]\u001b[49m\u001b[43m)\u001b[49m\u001b[43m[\u001b[49m\u001b[38;5;241;43m0\u001b[39;49m\u001b[43m]\u001b[49m\u001b[38;5;241m.\u001b[39mto_data()\n\u001b[1;32m     89\u001b[0m tgt_graphs: List[Data] \u001b[38;5;241m=\u001b[39m [patch\u001b[38;5;241m.\u001b[39mto_data() \u001b[38;5;28;01mfor\u001b[39;00m patch \u001b[38;5;129;01min\u001b[39;00m \u001b[38;5;28mself\u001b[39m\u001b[38;5;241m.\u001b[39mtargets_cutter\u001b[38;5;241m.\u001b[39mcut(g,tgts_seed)]\n\u001b[1;32m     91\u001b[0m \u001b[38;5;28;01mif\u001b[39;00m \u001b[38;5;129;01mnot\u001b[39;00m \u001b[38;5;28misinstance\u001b[39m(tgt_graphs, \u001b[38;5;28mlist\u001b[39m):\n",
      "\u001b[0;31mIndexError\u001b[0m: list index out of range"
     ]
    }
   ],
   "source": [
    "cut_ds[1]"
   ]
  },
  {
   "cell_type": "code",
   "execution_count": 10,
   "id": "af0b2161",
   "metadata": {},
   "outputs": [
    {
     "data": {
      "text/plain": [
       "3"
      ]
     },
     "execution_count": 10,
     "metadata": {},
     "output_type": "execute_result"
    }
   ],
   "source": [
    "graph_set[1].num_nodes"
   ]
  },
  {
   "cell_type": "code",
   "execution_count": 19,
   "id": "c160c3b9",
   "metadata": {},
   "outputs": [
    {
     "data": {
      "text/plain": [
       "[Data(edge_index=[2, 36], num_nodes=11, x=[11, 13], y=[1]),\n",
       " Data(edge_index=[2, 4], num_nodes=5, x=[5, 13], y=[1])]"
      ]
     },
     "execution_count": 19,
     "metadata": {},
     "output_type": "execute_result"
    }
   ],
   "source": [
    "patches_set[2][1]"
   ]
  },
  {
   "cell_type": "code",
   "execution_count": 2,
   "id": "60000888",
   "metadata": {},
   "outputs": [
    {
     "data": {
      "text/plain": [
       "Data(edge_index=[2, 54], weight=[54], x=[15, 13], y=[1])"
      ]
     },
     "execution_count": 2,
     "metadata": {},
     "output_type": "execute_result"
    }
   ],
   "source": [
    "graph_set[2]"
   ]
  },
  {
   "cell_type": "code",
   "execution_count": 19,
   "id": "73d63310",
   "metadata": {},
   "outputs": [],
   "source": [
    "import matplotlib.pyplot as plt\n",
    "import networkx as nx\n",
    "from torch_geometric.utils.convert import to_networkx\n",
    "from torch_geometric.data import Data\n",
    "\n",
    "def visualize_graph(data: Data, title: str = \"Graph\", with_labels: bool = True):\n",
    "    \"\"\"\n",
    "    Простая визуализация графа PyG Data:\n",
    "    - узлы: кружки\n",
    "    - рёбра: линии\n",
    "    - подписи: индексы узлов (опционально)\n",
    "    \"\"\"\n",
    "    # Переводим в networkx-граф\n",
    "    G = to_networkx(data, to_undirected=True, remove_self_loops=True)\n",
    "    pos = nx.spring_layout(G, seed=42)  # расположение узлов\n",
    "\n",
    "    plt.figure(figsize=(5, 5))\n",
    "    nx.draw_networkx_edges(G, pos, alpha=0.8, width=1.5)\n",
    "    nx.draw_networkx_nodes(G, pos, node_size=300, edgecolors=\"black\", linewidths=1.0)\n",
    "    if with_labels:\n",
    "        nx.draw_networkx_labels(G, pos, font_size=8)\n",
    "    plt.title(title)\n",
    "    plt.axis(\"off\")\n",
    "    plt.show()\n"
   ]
  },
  {
   "cell_type": "code",
   "execution_count": 86,
   "id": "27bc02b4",
   "metadata": {},
   "outputs": [
    {
     "data": {
      "image/png": "[encoded data removed]",
      "text/plain": [
       "<Figure size 500x500 with 1 Axes>"
      ]
     },
     "metadata": {},
     "output_type": "display_data"
    }
   ],
   "source": [
    "visualize_graph(graph_set[2])"
   ]
  },
  {
   "cell_type": "code",
   "execution_count": null,
   "id": "586d8008",
   "metadata": {},
   "outputs": [
    {
     "data": {
      "text/plain": [
       "[Data(edge_index=[2, 36], num_nodes=11, x=[11, 13], y=[1]),\n",
       " Data(edge_index=[2, 4], num_nodes=5, x=[5, 13], y=[1]),\n",
       " Data(edge_index=[2, 38], num_nodes=11, x=[11, 13], y=[1])]"
      ]
     },
     "execution_count": 119,
     "metadata": {},
     "output_type": "execute_result"
    }
   ],
   "source": [
    "def get_list_patches(element):\n",
    "    gl =[]\n",
    "    gl.append(element[0])\n",
    "    gl.extend(element[1])\n",
    "    return gl\n",
    "\n",
    "\n",
    "\n",
    "\n"
   ]
  },
  {
   "cell_type": "code",
   "execution_count": 123,
   "id": "cf08e126",
   "metadata": {},
   "outputs": [
    {
     "data": {
      "image/png": "[encoded data removed]",
      "text/plain": [
       "<Figure size 500x500 with 1 Axes>"
      ]
     },
     "metadata": {},
     "output_type": "display_data"
    },
    {
     "data": {
      "image/png": "[encoded data removed]",
      "text/plain": [
       "<Figure size 500x500 with 1 Axes>"
      ]
     },
     "metadata": {},
     "output_type": "display_data"
    },
    {
     "data": {
      "image/png": "[encoded data removed]",
      "text/plain": [
       "<Figure size 500x500 with 1 Axes>"
      ]
     },
     "metadata": {},
     "output_type": "display_data"
    }
   ],
   "source": [
    "for graph in get_list_patches(patches_set[4]):\n",
    "    visualize_graph(graph)"
   ]
  },
  {
   "cell_type": "code",
   "execution_count": null,
   "id": "0607de82",
   "metadata": {},
   "outputs": [],
   "source": [
    "# demo.py\n",
    "import torch\n",
    "from torch_geometric.data import Data\n",
    "from GraphCut.graphcutter import (\n",
    "    GraphCutter, KHop, BFSBudget, RandomWalk,\n",
    "    NodeBudget, EnsureConnected, Unique,\n",
    "    InduceEdges, Relabel, save_patch_npz\n",
    ")\n",
    "\n",
    "# 1) Make a small toy graph (two chains connected by a bridge)\n",
    "# 0-1-2-3-4-5-6 , and \n",
    "\n",
    "# 2) Configure a cutter: three strategies + constraints + post-processing\n",
    "cutter = GraphCutter(\n",
    "    strategies=[\n",
    "        BFSBudget(4),                 # k-hop neighborhood around each seed\n",
    "       # BFS until we collect up to 5 nodes\n",
    " # walk-induced subgraph\n",
    "    ],\n",
    "    constraints=[\n",
    "        NodeBudget(5),             # hard cap to avoid runaway growth\n",
    "        EnsureConnected(),         # keep only largest connected component\n",
    "        Unique()                   # drop duplicates by node set\n",
    "    ],\n",
    "    post=[\n",
    "        InduceEdges(),             # induce edges for the chosen node set\n",
    "        Relabel()                  # reindex nodes to 0..m-1 and slice x/y\n",
    "    ],\n",
    "    rng_seed=0\n",
    ")\n",
    "\n",
    "# 3) Run cutting from a few seeds\n",
    "seeds = [0, 3]\n",
    "patches = cutter.cut(graph_set[4], seeds=seeds)\n",
    "\n",
    "\n"
   ]
  },
  {
   "cell_type": "code",
   "execution_count": 5,
   "id": "4c5ea15d",
   "metadata": {},
   "outputs": [
    {
     "data": {
      "text/plain": [
       "Patch(nodes_orig=tensor([ 0,  1,  4,  5,  6,  7, 11, 12]), edge_index=tensor([[0, 0, 0, 0, 1, 1, 2, 2, 2, 3, 3, 3, 4, 4, 4, 4, 5, 5, 6, 6, 6, 6, 7, 7,\n",
       "         7, 7],\n",
       "        [3, 4, 6, 7, 3, 5, 4, 6, 7, 0, 1, 5, 0, 2, 6, 7, 1, 3, 0, 2, 4, 7, 0, 2,\n",
       "         4, 6]]), num_nodes=8, x=tensor([[ 3.4601e+00,  3.6341e-01,  1.8770e+00,  7.7478e-02,  1.7022e-01,\n",
       "          1.4036e+00,  5.0960e-01,  1.1861e+00,  0.0000e+00,  0.0000e+00,\n",
       "          1.5908e-01,  0.0000e+00,  0.0000e+00],\n",
       "        [ 0.0000e+00,  0.0000e+00,  0.0000e+00,  0.0000e+00,  0.0000e+00,\n",
       "          0.0000e+00,  0.0000e+00,  0.0000e+00,  7.4276e-01,  1.6617e-02,\n",
       "          9.5360e-01,  0.0000e+00,  0.0000e+00],\n",
       "        [ 4.0371e+00,  2.9056e-01,  2.5313e+00,  2.4293e-01,  5.9707e-01,\n",
       "          1.4983e+00,  1.2706e+00,  1.3015e+00,  4.2126e-01,  1.1818e-01,\n",
       "          1.6037e+00,  0.0000e+00,  0.0000e+00],\n",
       "        [ 7.0750e+00,  1.0829e+00,  2.8753e+00,  1.7938e-01,  4.0967e-01,\n",
       "          1.8721e+00,  1.2186e+00,  1.5617e+00,  0.0000e+00,  0.0000e+00,\n",
       "          1.7280e-01,  0.0000e+00,  0.0000e+00],\n",
       "        [ 1.8447e+00,  2.0309e-01,  1.4356e+00,  0.0000e+00,  0.0000e+00,\n",
       "          1.0227e+00,  7.3810e-01,  7.6030e-01,  1.0302e+00,  8.5017e-02,\n",
       "          1.0564e+00,  9.3886e-06,  1.5640e-05],\n",
       "        [ 3.1426e+00,  3.2475e-01,  1.9393e+00,  8.5764e-02,  1.8290e-01,\n",
       "          1.3941e+00,  6.0200e-01,  1.1453e+00,  0.0000e+00,  0.0000e+00,\n",
       "          4.4665e-01,  0.0000e+00,  0.0000e+00],\n",
       "        [ 3.4038e+00,  6.0860e-01,  1.6388e+00,  1.1416e-01,  1.6568e-01,\n",
       "          1.6333e+00,  7.6060e-01,  1.0873e+00,  5.1941e-01, -9.1855e-02,\n",
       "          9.6250e-01,  1.9194e-19,  2.8009e-05],\n",
       "        [ 2.2906e+00, -1.8328e-02,  1.9282e+00,  9.5552e-02,  1.2483e-01,\n",
       "          1.2924e+00,  6.9760e-01,  9.6500e-01,  1.0729e+00,  3.4437e-01,\n",
       "          1.9700e+00,  6.3939e-02,  1.1060e-01]]), y=tensor([0.]), node_mapping={0: 0, 1: 1, 4: 2, 5: 3, 6: 4, 7: 5, 11: 6, 12: 7})"
      ]
     },
     "execution_count": 5,
     "metadata": {},
     "output_type": "execute_result"
    }
   ],
   "source": [
    "patches[0]"
   ]
  },
  {
   "cell_type": "code",
   "execution_count": 8,
   "id": "98d506d5",
   "metadata": {},
   "outputs": [
    {
     "name": "stdout",
     "output_type": "stream",
     "text": [
      "Patch 0: |V|=4, |E|=4\n",
      "  nodes_orig: [0, 3, 4, 5]\n",
      "  mapping: {0: 0, 3: 1, 4: 2, 5: 3}\n",
      "\n",
      "Patch 1: |V|=4, |E|=6\n",
      "  nodes_orig: [0, 3, 4, 9]\n",
      "  mapping: {0: 0, 3: 1, 4: 2, 9: 3}\n",
      "\n"
     ]
    }
   ],
   "source": [
    "for i, p in enumerate(patches):\n",
    "    print(f\"Patch {i}: |V|={p.num_nodes}, |E|={p.edge_index.size(1)}\")\n",
    "    print(\"  nodes_orig:\", p.nodes_orig.tolist())\n",
    "    if p.node_mapping is not None:\n",
    "        print(\"  mapping:\", p.node_mapping)\n",
    "    print()\n"
   ]
  },
  {
   "cell_type": "code",
   "execution_count": 9,
   "id": "617880df",
   "metadata": {},
   "outputs": [
    {
     "data": {
      "image/png": "[encoded data removed]",
      "text/plain": [
       "<Figure size 640x480 with 1 Axes>"
      ]
     },
     "metadata": {},
     "output_type": "display_data"
    },
    {
     "data": {
      "image/png": "[encoded data removed]",
      "text/plain": [
       "<Figure size 640x480 with 1 Axes>"
      ]
     },
     "metadata": {},
     "output_type": "display_data"
    }
   ],
   "source": [
    "import networkx as nx\n",
    "import matplotlib.pyplot as plt\n",
    "\n",
    "for i, p in enumerate(patches):  # первые 3 патча\n",
    "    G = nx.Graph()\n",
    "    G.add_nodes_from(range(p.num_nodes))\n",
    "    G.add_edges_from(p.edge_index.t().tolist())\n",
    "\n",
    "    plt.figure()\n",
    "    nx.draw(G, with_labels=True, node_color=\"lightblue\", edge_color=\"gray\")\n",
    "    plt.title(f\"Patch {i} (|V|={p.num_nodes}, |E|={p.edge_index.size(1)})\")\n",
    "plt.show()\n"
   ]
  },
  {
   "cell_type": "code",
   "execution_count": 17,
   "id": "05dc64f0",
   "metadata": {},
   "outputs": [
    {
     "data": {
      "image/png": "[encoded data removed]",
      "text/plain": [
       "<Figure size 500x500 with 1 Axes>"
      ]
     },
     "metadata": {},
     "output_type": "display_data"
    }
   ],
   "source": [
    "visualize_graph(graph_set[4])"
   ]
  },
  {
   "cell_type": "code",
   "execution_count": 1,
   "id": "e5e16557",
   "metadata": {},
   "outputs": [],
   "source": [
    "from typing import Iterable, Literal, Optional, Tuple, Dict, Any, Union\n",
    "import math\n",
    "import torch\n",
    "from torch import Tensor\n",
    "from torch_geometric.data import Data, InMemoryDataset\n",
    "\n",
    "NormMethod = Literal[\"zscore\", \"minmax\", \"robust\", \"l2\"]\n",
    "\n",
    "@torch.no_grad()\n",
    "def _stack_all_features(\n",
    "    dataset: Iterable[Data],\n",
    "    attr: str = \"x\",\n",
    ") -> Tensor:\n",
    "    xs = []\n",
    "    for data in dataset:\n",
    "        if not hasattr(data, attr):\n",
    "            continue\n",
    "        x = getattr(data, attr)\n",
    "        if x is None or x.numel() == 0:\n",
    "            continue\n",
    "        xs.append(x.detach().float().reshape(-1, x.size(-1)))\n",
    "    return torch.cat(xs, dim=0) if xs else torch.empty(0)\n",
    "\n",
    "def _finite_mask(t: Tensor) -> Tensor:\n",
    "    return torch.isfinite(t).all(dim=-1) if t.ndim == 2 else torch.isfinite(t)\n",
    "\n",
    "@torch.no_grad()\n",
    "def compute_feature_stats(\n",
    "    dataset: Iterable[Data],\n",
    "    method: NormMethod = \"zscore\",\n",
    "    attr: str = \"x\",\n",
    "    eps: float = 1e-8,\n",
    ") -> Dict[str, Tensor]:\n",
    "    \"\"\"\n",
    "    Считает по-столбцово статистику на всем датасете для выбранного метода.\n",
    "    Возвращает словарь параметров нормализации.\n",
    "    \"\"\"\n",
    "    X = _stack_all_features(dataset, attr=attr)\n",
    "    if X.numel() == 0:\n",
    "        return {}\n",
    "\n",
    "    mask = _finite_mask(X)\n",
    "    X = X[mask]\n",
    "\n",
    "    if X.numel() == 0:\n",
    "        return {}\n",
    "\n",
    "    if method == \"zscore\":\n",
    "        mean = X.mean(dim=0)\n",
    "        std = X.std(dim=0, unbiased=False).clamp_min(eps)\n",
    "        return {\"mean\": mean, \"std\": std}\n",
    "    elif method == \"minmax\":\n",
    "        xmin = X.min(dim=0).values\n",
    "        xmax = X.max(dim=0).values\n",
    "        scale = (xmax - xmin).clamp_min(eps)\n",
    "        return {\"min\": xmin, \"scale\": scale}\n",
    "    elif method == \"robust\":\n",
    "        q1 = X.quantile(0.25, dim=0)\n",
    "        q3 = X.quantile(0.75, dim=0)\n",
    "        med = X.median(dim=0).values\n",
    "        iqr = (q3 - q1).clamp_min(eps)\n",
    "        return {\"median\": med, \"iqr\": iqr}\n",
    "    elif method == \"l2\":\n",
    "        # для l2 глобальные параметры не нужны\n",
    "        return {}\n",
    "    else:\n",
    "        raise ValueError(f\"Unknown method: {method}\")\n",
    "\n",
    "@torch.no_grad()\n",
    "def _apply_norm(\n",
    "    x: Tensor,\n",
    "    method: NormMethod,\n",
    "    params: Dict[str, Tensor],\n",
    "    eps: float,\n",
    "    per_graph: bool,\n",
    "    clip: Optional[Tuple[float, float]],\n",
    ") -> Tensor:\n",
    "    x = x.float()\n",
    "    mask = torch.isfinite(x)\n",
    "    # временно заменим нечисла на нули, вернем после\n",
    "    x_safe = x.clone()\n",
    "    x_safe[~mask] = 0.0\n",
    "\n",
    "    if method == \"zscore\":\n",
    "        mean = params[\"mean\"]\n",
    "        std = params[\"std\"]\n",
    "        out = (x_safe - mean) / std\n",
    "    elif method == \"minmax\":\n",
    "        xmin = params[\"min\"]\n",
    "        scale = params[\"scale\"]\n",
    "        out = (x_safe - xmin) / scale\n",
    "    elif method == \"robust\":\n",
    "        med = params[\"median\"]\n",
    "        iqr = params[\"iqr\"]\n",
    "        out = (x_safe - med) / iqr\n",
    "    elif method == \"l2\":\n",
    "        # по-строчно: ||x_i||_2 = 1 (если строка не нулевая)\n",
    "        norms = x_safe.norm(dim=-1, keepdim=True).clamp_min(eps)\n",
    "        out = x_safe / norms\n",
    "    else:\n",
    "        raise ValueError(method)\n",
    "\n",
    "    # Вернём NaN/Inf туда, где исходно были нечисла\n",
    "    out[~mask] = float(\"nan\")\n",
    "\n",
    "    if clip is not None:\n",
    "        lo, hi = clip\n",
    "        out = out.clamp(min=lo, max=hi)\n",
    "\n",
    "    return out.to(x.dtype)\n",
    "\n",
    "@torch.no_grad()\n",
    "def normalize_dataset_node_features(\n",
    "    dataset: Union[InMemoryDataset, Iterable[Data]],\n",
    "    method: NormMethod = \"zscore\",\n",
    "    *,\n",
    "    attr: str = \"x\",\n",
    "    per_graph: bool = False,\n",
    "    eps: float = 1e-8,\n",
    "    clip: Optional[Tuple[float, float]] = None,\n",
    "    inplace: bool = True,\n",
    "    return_stats: bool = False,\n",
    ") -> Union[None, Tuple[Union[InMemoryDataset, Iterable[Data]], Dict[str, Any]]]:\n",
    "    \"\"\"\n",
    "    Нормализует признаки узлов в датасете PyG.\n",
    "\n",
    "    Параметры:\n",
    "      - dataset: InMemoryDataset или любой итерируемый набор Data\n",
    "      - method: \"zscore\" | \"minmax\" | \"robust\" | \"l2\"\n",
    "      - attr: имя атрибута с признаками (по умолчанию \"x\")\n",
    "      - per_graph: если True — считать статистику отдельно для каждого графа\n",
    "      - eps: числ. стабилизация\n",
    "      - clip: (low, high) — опциональное обрезание\n",
    "      - inplace: менять объекты на месте или вернуть копии\n",
    "      - return_stats: вернуть использованные параметры нормировки\n",
    "\n",
    "    Возвращает:\n",
    "      - если not inplace: (нормализованный_набор, stats_or_list)\n",
    "      - если inplace: None (и опционально stats)\n",
    "    \"\"\"\n",
    "    # Приведём к простому списку для одноразового прохода при not inplace\n",
    "    is_inmemory = isinstance(dataset, InMemoryDataset)\n",
    "    data_iter = dataset if not is_inmemory else list(dataset)\n",
    "\n",
    "    # Глобальные параметры (если нужны)\n",
    "    global_params = None if per_graph else compute_feature_stats(\n",
    "        data_iter, method=method, attr=attr, eps=eps\n",
    "    )\n",
    "\n",
    "    if not inplace:\n",
    "        new_list = []\n",
    "\n",
    "    collected_stats = [] if (per_graph and return_stats) else None\n",
    "\n",
    "    for data in (dataset if not is_inmemory else data_iter):\n",
    "        if not hasattr(data, attr) or getattr(data, attr) is None:\n",
    "            if not inplace:\n",
    "                new_list.append(data)\n",
    "            continue\n",
    "\n",
    "        x: Tensor = getattr(data, attr)\n",
    "        if x.numel() == 0:\n",
    "            if not inplace:\n",
    "                new_list.append(data)\n",
    "            continue\n",
    "\n",
    "        if per_graph:\n",
    "            params = compute_feature_stats([data], method=method, attr=attr, eps=eps)\n",
    "            if collected_stats is not None:\n",
    "                collected_stats.append(params)\n",
    "        else:\n",
    "            params = global_params or {}\n",
    "\n",
    "        x_norm = _apply_norm(x, method=method, params=params, eps=eps, per_graph=per_graph, clip=clip)\n",
    "\n",
    "        if inplace:\n",
    "            setattr(data, attr, x_norm)\n",
    "        else:\n",
    "            d = data.clone()\n",
    "            setattr(d, attr, x_norm)\n",
    "            new_list.append(d)\n",
    "\n",
    "    if inplace:\n",
    "        if return_stats:\n",
    "            return None if not per_graph else (None, collected_stats)  # тип-совместимость\n",
    "        return None\n",
    "\n",
    "    # Если dataset был InMemoryDataset, вернём просто список Data\n",
    "    stats_out: Any\n",
    "    if return_stats:\n",
    "        stats_out = collected_stats if per_graph else global_params\n",
    "        return new_list, stats_out\n",
    "    else:\n",
    "        return new_list, {}\n",
    "\n",
    "# -------- Пример использования --------\n",
    "# 1) По всему датасету (z-score), меняем на месте:\n",
    "# normalize_dataset_node_features(train_dataset, method=\"zscore\", inplace=True)\n",
    "\n",
    "# 2) Пер-графово (min-max), получить новый список + статистики на каждый граф:\n",
    "# new_graphs, per_graph_stats = normalize_dataset_node_features(\n",
    "#     train_dataset, method=\"minmax\", per_graph=True, inplace=False, return_stats=True\n",
    "# )\n",
    "\n",
    "# 3) Робастная нормализация с обрезанием экстремумов:\n",
    "# normalize_dataset_node_features(train_dataset, method=\"robust\", clip=(-5, 5))\n",
    "\n",
    "# 4) L2-нормализация строк (каждый узел -> единичная норма), обычно как последний шаг:\n",
    "# normalize_dataset_node_features(train_dataset, method=\"l2\", inplace=True)\n"
   ]
  },
  {
   "cell_type": "code",
   "execution_count": 4,
   "id": "47a91c2b",
   "metadata": {},
   "outputs": [
    {
     "data": {
      "text/plain": [
       "{'mean': tensor([3.4424, 0.3511, 1.7538, 0.1228, 0.2347, 1.3439, 0.6985, 0.9165, 1.1810,\n",
       "         0.2316, 1.3504, 0.0615, 0.1001]),\n",
       " 'std': tensor([2.8253, 2.2827, 1.1627, 0.1197, 0.2143, 0.8918, 0.4781, 0.6102, 1.2121,\n",
       "         2.2510, 0.8750, 0.1436, 0.2027])}"
      ]
     },
     "execution_count": 4,
     "metadata": {},
     "output_type": "execute_result"
    }
   ],
   "source": [
    "compute_feature_stats(graph_set)"
   ]
  },
  {
   "cell_type": "code",
   "execution_count": 7,
   "id": "3da06bea",
   "metadata": {},
   "outputs": [
    {
     "data": {
      "text/html": [
       "<div>\n",
       "<style scoped>\n",
       "    .dataframe tbody tr th:only-of-type {\n",
       "        vertical-align: middle;\n",
       "    }\n",
       "\n",
       "    .dataframe tbody tr th {\n",
       "        vertical-align: top;\n",
       "    }\n",
       "\n",
       "    .dataframe thead th {\n",
       "        text-align: right;\n",
       "    }\n",
       "</style>\n",
       "<table border=\"1\" class=\"dataframe\">\n",
       "  <thead>\n",
       "    <tr style=\"text-align: right;\">\n",
       "      <th></th>\n",
       "      <th>exp_id</th>\n",
       "      <th>overrides</th>\n",
       "      <th>metrics</th>\n",
       "      <th>hparams</th>\n",
       "      <th>best_ckpt</th>\n",
       "      <th>notes</th>\n",
       "    </tr>\n",
       "  </thead>\n",
       "  <tbody>\n",
       "    <tr>\n",
       "      <th>0</th>\n",
       "      <td>0</td>\n",
       "      <td>{'model.predictor_hidden_dim': 6, 'data.mode':...</td>\n",
       "      <td>{'lr/acc_mean': 0.7665967435820591, 'lr/acc_st...</td>\n",
       "      <td>{'seed': 42, 'data': {'root': '/home/eugen/Des...</td>\n",
       "      <td>/home/eugen/Desktop/CodeWork/Projects/Diplom/n...</td>\n",
       "      <td>{'latent_rule': 'linear2x', 'predictor_hidden_...</td>\n",
       "    </tr>\n",
       "    <tr>\n",
       "      <th>1</th>\n",
       "      <td>1</td>\n",
       "      <td>{'model.predictor_hidden_dim': 6, 'data.mode':...</td>\n",
       "      <td>{'lr/acc_mean': 0.835950454500049, 'lr/acc_std...</td>\n",
       "      <td>{'seed': 42, 'data': {'root': '/home/eugen/Des...</td>\n",
       "      <td>/home/eugen/Desktop/CodeWork/Projects/Diplom/n...</td>\n",
       "      <td>{'latent_rule': 'pow2', 'predictor_hidden_dim'...</td>\n",
       "    </tr>\n",
       "    <tr>\n",
       "      <th>2</th>\n",
       "      <td>2</td>\n",
       "      <td>{'model.predictor_hidden_dim': 6, 'data.mode':...</td>\n",
       "      <td>{'lr/acc_mean': 0.7665967435820591, 'lr/acc_st...</td>\n",
       "      <td>{'seed': 42, 'data': {'root': '/home/eugen/Des...</td>\n",
       "      <td>/home/eugen/Desktop/CodeWork/Projects/Diplom/n...</td>\n",
       "      <td>{'latent_rule': 'sqrtx', 'predictor_hidden_dim...</td>\n",
       "    </tr>\n",
       "    <tr>\n",
       "      <th>3</th>\n",
       "      <td>3</td>\n",
       "      <td>{'model.predictor_hidden_dim': 6, 'data.mode':...</td>\n",
       "      <td>{'lr/acc_mean': 0.707321681624941, 'lr/acc_std...</td>\n",
       "      <td>{'seed': 42, 'data': {'root': '/home/eugen/Des...</td>\n",
       "      <td>/home/eugen/Desktop/CodeWork/Projects/Diplom/n...</td>\n",
       "      <td>{'latent_rule': 'linear2x', 'predictor_hidden_...</td>\n",
       "    </tr>\n",
       "    <tr>\n",
       "      <th>4</th>\n",
       "      <td>4</td>\n",
       "      <td>{'model.predictor_hidden_dim': 6, 'data.mode':...</td>\n",
       "      <td>{'lr/acc_mean': 0.7705810108644301, 'lr/acc_st...</td>\n",
       "      <td>{'seed': 42, 'data': {'root': '/home/eugen/Des...</td>\n",
       "      <td>/home/eugen/Desktop/CodeWork/Projects/Diplom/n...</td>\n",
       "      <td>{'latent_rule': 'pow2', 'predictor_hidden_dim'...</td>\n",
       "    </tr>\n",
       "  </tbody>\n",
       "</table>\n",
       "</div>"
      ],
      "text/plain": [
       "   exp_id                                          overrides  \\\n",
       "0       0  {'model.predictor_hidden_dim': 6, 'data.mode':...   \n",
       "1       1  {'model.predictor_hidden_dim': 6, 'data.mode':...   \n",
       "2       2  {'model.predictor_hidden_dim': 6, 'data.mode':...   \n",
       "3       3  {'model.predictor_hidden_dim': 6, 'data.mode':...   \n",
       "4       4  {'model.predictor_hidden_dim': 6, 'data.mode':...   \n",
       "\n",
       "                                             metrics  \\\n",
       "0  {'lr/acc_mean': 0.7665967435820591, 'lr/acc_st...   \n",
       "1  {'lr/acc_mean': 0.835950454500049, 'lr/acc_std...   \n",
       "2  {'lr/acc_mean': 0.7665967435820591, 'lr/acc_st...   \n",
       "3  {'lr/acc_mean': 0.707321681624941, 'lr/acc_std...   \n",
       "4  {'lr/acc_mean': 0.7705810108644301, 'lr/acc_st...   \n",
       "\n",
       "                                             hparams  \\\n",
       "0  {'seed': 42, 'data': {'root': '/home/eugen/Des...   \n",
       "1  {'seed': 42, 'data': {'root': '/home/eugen/Des...   \n",
       "2  {'seed': 42, 'data': {'root': '/home/eugen/Des...   \n",
       "3  {'seed': 42, 'data': {'root': '/home/eugen/Des...   \n",
       "4  {'seed': 42, 'data': {'root': '/home/eugen/Des...   \n",
       "\n",
       "                                           best_ckpt  \\\n",
       "0  /home/eugen/Desktop/CodeWork/Projects/Diplom/n...   \n",
       "1  /home/eugen/Desktop/CodeWork/Projects/Diplom/n...   \n",
       "2  /home/eugen/Desktop/CodeWork/Projects/Diplom/n...   \n",
       "3  /home/eugen/Desktop/CodeWork/Projects/Diplom/n...   \n",
       "4  /home/eugen/Desktop/CodeWork/Projects/Diplom/n...   \n",
       "\n",
       "                                               notes  \n",
       "0  {'latent_rule': 'linear2x', 'predictor_hidden_...  \n",
       "1  {'latent_rule': 'pow2', 'predictor_hidden_dim'...  \n",
       "2  {'latent_rule': 'sqrtx', 'predictor_hidden_dim...  \n",
       "3  {'latent_rule': 'linear2x', 'predictor_hidden_...  \n",
       "4  {'latent_rule': 'pow2', 'predictor_hidden_dim'...  "
      ]
     },
     "execution_count": 7,
     "metadata": {},
     "output_type": "execute_result"
    }
   ],
   "source": [
    "import pandas as pd\n",
    "\n",
    "# JSON Lines -> ставим lines=True\n",
    "df = pd.read_json(\"experiments/results.jsonl\", lines=True)\n",
    "\n",
    "df.head()    # весь файл\n"
   ]
  },
  {
   "cell_type": "code",
   "execution_count": 10,
   "id": "141af2aa",
   "metadata": {},
   "outputs": [],
   "source": [
    "notes   = pd.json_normalize(df[\"notes\"])\n",
    "metrics = pd.json_normalize(df[\"metrics\"])\n",
    "over     = pd.json_normalize(df[\"overrides\"])  # осторожно: очень много колонок\n",
    "hp      = pd.json_normalize(df[\"hparams\"]) \n",
    "out = pd.concat(\n",
    "    [\n",
    "        df.drop(columns=[\"notes\", \"metrics\", \"overrides\", \"best_ckpt\",\"hparams\"], errors=\"ignore\"),\n",
    "        notes.add_prefix(\"note.\"),\n",
    "        metrics.add_prefix(\"metric.\"),\n",
    "        hp.add_prefix(\"hp.\")  # если нужно\n",
    "    ],\n",
    "    axis=1\n",
    ")"
   ]
  },
  {
   "cell_type": "code",
   "execution_count": null,
   "id": "30d43a81",
   "metadata": {},
   "outputs": [
    {
     "data": {
      "text/plain": [
       "Index(['exp_id', 'note.latent_rule', 'note.predictor_hidden_dim',\n",
       "       'note.latent_dim', 'metric.lr/acc_mean', 'metric.lr/acc_std',\n",
       "       'metric.lr/f1_macro_mean', 'metric.lr/f1_macro_std',\n",
       "       'metric.lr/bacc_mean', 'metric.lr/bacc_std', 'metric.lr/auc_ovr_mean',\n",
       "       'metric.lr/auc_ovr_std', 'metric.knn/neigh_purity',\n",
       "       'metric.dist/intra_mean', 'metric.dist/inter_mean',\n",
       "       'metric.dist/margin', 'metric.clust/silhouette', 'metric.clust/ari',\n",
       "       'metric.clust/nmi', 'metric.clust/homogeneity',\n",
       "       'metric.clust/completeness', 'hp.seed', 'hp.data.root', 'hp.data.knn',\n",
       "       'hp.data.count_per_item', 'hp.data.mode', 'hp.data.gamma',\n",
       "       'hp.data.val_ratio', 'hp.data.max_patches', 'hp.data.norm.method',\n",
       "       'hp.data.norm.attr', 'hp.model.num_features', 'hp.model.latent_dim',\n",
       "       'hp.model.predictor_hidden_dim', 'hp.model.pred_layers',\n",
       "       'hp.model.dropout', 'hp.model.pe_dim', 'hp.model.use_metis',\n",
       "       'hp.model.per_graph', 'hp.model.include_context_in_pool',\n",
       "       'hp.model.use_encoder', 'hp.model.lr', 'hp.cutter.strategy.ctx_mode',\n",
       "       'hp.cutter.strategy.ctx_param', 'hp.cutter.strategy.tgt_mode',\n",
       "       'hp.cutter.strategy.tgt_param', 'hp.trainer.batch_size',\n",
       "       'hp.trainer.max_epochs', 'hp.trainer.precision',\n",
       "       'hp.trainer.gradient_clip_val', 'hp.trainer.log_every_n_steps',\n",
       "       'hp.trainer.num_workers', 'hp.trainer.pin_memory',\n",
       "       'hp.trainer.detect_anomaly', 'hp.trainer.monitor_metric',\n",
       "       'hp.trainer.monitor_mode', 'hp.trainer.early_stopping.enabled',\n",
       "       'hp.trainer.early_stopping.patience',\n",
       "       'hp.trainer.early_stopping.min_delta',\n",
       "       'hp.experiments.grid.model.predictor_hidden_dim',\n",
       "       'hp.experiments.grid.data.mode', 'hp.experiments.latent_rules'],\n",
       "      dtype='object')"
      ]
     },
     "execution_count": 13,
     "metadata": {},
     "output_type": "execute_result"
    }
   ],
   "source": [
    "out.columns"
   ]
  },
  {
   "cell_type": "code",
   "execution_count": 19,
   "id": "abba9ae8",
   "metadata": {},
   "outputs": [],
   "source": [
    "data_exp = out[['exp_id','note.predictor_hidden_dim','note.latent_dim','metric.lr/acc_mean','metric.lr/acc_std','hp.data.mode']]"
   ]
  },
  {
   "cell_type": "code",
   "execution_count": 20,
   "id": "b65547fb",
   "metadata": {},
   "outputs": [
    {
     "data": {
      "text/html": [
       "<div>\n",
       "<style scoped>\n",
       "    .dataframe tbody tr th:only-of-type {\n",
       "        vertical-align: middle;\n",
       "    }\n",
       "\n",
       "    .dataframe tbody tr th {\n",
       "        vertical-align: top;\n",
       "    }\n",
       "\n",
       "    .dataframe thead th {\n",
       "        text-align: right;\n",
       "    }\n",
       "</style>\n",
       "<table border=\"1\" class=\"dataframe\">\n",
       "  <thead>\n",
       "    <tr style=\"text-align: right;\">\n",
       "      <th></th>\n",
       "      <th>exp_id</th>\n",
       "      <th>note.predictor_hidden_dim</th>\n",
       "      <th>note.latent_dim</th>\n",
       "      <th>metric.lr/acc_mean</th>\n",
       "      <th>metric.lr/acc_std</th>\n",
       "      <th>hp.data.mode</th>\n",
       "    </tr>\n",
       "  </thead>\n",
       "  <tbody>\n",
       "    <tr>\n",
       "      <th>0</th>\n",
       "      <td>0</td>\n",
       "      <td>6</td>\n",
       "      <td>12</td>\n",
       "      <td>0.766597</td>\n",
       "      <td>0.042383</td>\n",
       "      <td>MarkovGraphs</td>\n",
       "    </tr>\n",
       "    <tr>\n",
       "      <th>1</th>\n",
       "      <td>1</td>\n",
       "      <td>6</td>\n",
       "      <td>36</td>\n",
       "      <td>0.835950</td>\n",
       "      <td>0.035772</td>\n",
       "      <td>MarkovGraphs</td>\n",
       "    </tr>\n",
       "    <tr>\n",
       "      <th>2</th>\n",
       "      <td>2</td>\n",
       "      <td>6</td>\n",
       "      <td>12</td>\n",
       "      <td>0.766597</td>\n",
       "      <td>0.042383</td>\n",
       "      <td>MarkovGraphs</td>\n",
       "    </tr>\n",
       "    <tr>\n",
       "      <th>3</th>\n",
       "      <td>3</td>\n",
       "      <td>6</td>\n",
       "      <td>12</td>\n",
       "      <td>0.707322</td>\n",
       "      <td>0.034884</td>\n",
       "      <td>RandomPermutate</td>\n",
       "    </tr>\n",
       "    <tr>\n",
       "      <th>4</th>\n",
       "      <td>4</td>\n",
       "      <td>6</td>\n",
       "      <td>36</td>\n",
       "      <td>0.770581</td>\n",
       "      <td>0.022366</td>\n",
       "      <td>RandomPermutate</td>\n",
       "    </tr>\n",
       "    <tr>\n",
       "      <th>...</th>\n",
       "      <td>...</td>\n",
       "      <td>...</td>\n",
       "      <td>...</td>\n",
       "      <td>...</td>\n",
       "      <td>...</td>\n",
       "      <td>...</td>\n",
       "    </tr>\n",
       "    <tr>\n",
       "      <th>76</th>\n",
       "      <td>76</td>\n",
       "      <td>14</td>\n",
       "      <td>196</td>\n",
       "      <td>0.947803</td>\n",
       "      <td>0.003735</td>\n",
       "      <td>RandomPermutate</td>\n",
       "    </tr>\n",
       "    <tr>\n",
       "      <th>77</th>\n",
       "      <td>77</td>\n",
       "      <td>14</td>\n",
       "      <td>42</td>\n",
       "      <td>0.837893</td>\n",
       "      <td>0.034702</td>\n",
       "      <td>RandomPermutate</td>\n",
       "    </tr>\n",
       "    <tr>\n",
       "      <th>78</th>\n",
       "      <td>78</td>\n",
       "      <td>14</td>\n",
       "      <td>28</td>\n",
       "      <td>0.796228</td>\n",
       "      <td>0.027540</td>\n",
       "      <td>CopiedGraphs</td>\n",
       "    </tr>\n",
       "    <tr>\n",
       "      <th>79</th>\n",
       "      <td>79</td>\n",
       "      <td>14</td>\n",
       "      <td>196</td>\n",
       "      <td>0.974173</td>\n",
       "      <td>0.010913</td>\n",
       "      <td>CopiedGraphs</td>\n",
       "    </tr>\n",
       "    <tr>\n",
       "      <th>80</th>\n",
       "      <td>80</td>\n",
       "      <td>14</td>\n",
       "      <td>42</td>\n",
       "      <td>0.860812</td>\n",
       "      <td>0.027281</td>\n",
       "      <td>CopiedGraphs</td>\n",
       "    </tr>\n",
       "  </tbody>\n",
       "</table>\n",
       "<p>81 rows × 6 columns</p>\n",
       "</div>"
      ],
      "text/plain": [
       "    exp_id  note.predictor_hidden_dim  note.latent_dim  metric.lr/acc_mean  \\\n",
       "0        0                          6               12            0.766597   \n",
       "1        1                          6               36            0.835950   \n",
       "2        2                          6               12            0.766597   \n",
       "3        3                          6               12            0.707322   \n",
       "4        4                          6               36            0.770581   \n",
       "..     ...                        ...              ...                 ...   \n",
       "76      76                         14              196            0.947803   \n",
       "77      77                         14               42            0.837893   \n",
       "78      78                         14               28            0.796228   \n",
       "79      79                         14              196            0.974173   \n",
       "80      80                         14               42            0.860812   \n",
       "\n",
       "    metric.lr/acc_std     hp.data.mode  \n",
       "0            0.042383     MarkovGraphs  \n",
       "1            0.035772     MarkovGraphs  \n",
       "2            0.042383     MarkovGraphs  \n",
       "3            0.034884  RandomPermutate  \n",
       "4            0.022366  RandomPermutate  \n",
       "..                ...              ...  \n",
       "76           0.003735  RandomPermutate  \n",
       "77           0.034702  RandomPermutate  \n",
       "78           0.027540     CopiedGraphs  \n",
       "79           0.010913     CopiedGraphs  \n",
       "80           0.027281     CopiedGraphs  \n",
       "\n",
       "[81 rows x 6 columns]"
      ]
     },
     "execution_count": 20,
     "metadata": {},
     "output_type": "execute_result"
    }
   ],
   "source": [
    "data_exp"
   ]
  },
  {
   "cell_type": "code",
   "execution_count": 21,
   "id": "bc4b5780",
   "metadata": {},
   "outputs": [
    {
     "data": {
      "text/html": [
       "<div>\n",
       "<style scoped>\n",
       "    .dataframe tbody tr th:only-of-type {\n",
       "        vertical-align: middle;\n",
       "    }\n",
       "\n",
       "    .dataframe tbody tr th {\n",
       "        vertical-align: top;\n",
       "    }\n",
       "\n",
       "    .dataframe thead th {\n",
       "        text-align: right;\n",
       "    }\n",
       "</style>\n",
       "<table border=\"1\" class=\"dataframe\">\n",
       "  <thead>\n",
       "    <tr style=\"text-align: right;\">\n",
       "      <th></th>\n",
       "      <th>exp_id</th>\n",
       "      <th>note.predictor_hidden_dim</th>\n",
       "      <th>note.latent_dim</th>\n",
       "      <th>metric.lr/acc_mean</th>\n",
       "      <th>metric.lr/acc_std</th>\n",
       "      <th>hp.data.mode</th>\n",
       "    </tr>\n",
       "  </thead>\n",
       "  <tbody>\n",
       "    <tr>\n",
       "      <th>6</th>\n",
       "      <td>6</td>\n",
       "      <td>6</td>\n",
       "      <td>12</td>\n",
       "      <td>0.705817</td>\n",
       "      <td>0.038513</td>\n",
       "      <td>CopiedGraphs</td>\n",
       "    </tr>\n",
       "    <tr>\n",
       "      <th>7</th>\n",
       "      <td>7</td>\n",
       "      <td>6</td>\n",
       "      <td>36</td>\n",
       "      <td>0.820627</td>\n",
       "      <td>0.011949</td>\n",
       "      <td>CopiedGraphs</td>\n",
       "    </tr>\n",
       "    <tr>\n",
       "      <th>8</th>\n",
       "      <td>8</td>\n",
       "      <td>6</td>\n",
       "      <td>12</td>\n",
       "      <td>0.705817</td>\n",
       "      <td>0.038513</td>\n",
       "      <td>CopiedGraphs</td>\n",
       "    </tr>\n",
       "    <tr>\n",
       "      <th>15</th>\n",
       "      <td>15</td>\n",
       "      <td>7</td>\n",
       "      <td>14</td>\n",
       "      <td>0.718756</td>\n",
       "      <td>0.030635</td>\n",
       "      <td>CopiedGraphs</td>\n",
       "    </tr>\n",
       "    <tr>\n",
       "      <th>16</th>\n",
       "      <td>16</td>\n",
       "      <td>7</td>\n",
       "      <td>49</td>\n",
       "      <td>0.865067</td>\n",
       "      <td>0.034553</td>\n",
       "      <td>CopiedGraphs</td>\n",
       "    </tr>\n",
       "    <tr>\n",
       "      <th>17</th>\n",
       "      <td>17</td>\n",
       "      <td>7</td>\n",
       "      <td>14</td>\n",
       "      <td>0.718756</td>\n",
       "      <td>0.030635</td>\n",
       "      <td>CopiedGraphs</td>\n",
       "    </tr>\n",
       "    <tr>\n",
       "      <th>24</th>\n",
       "      <td>24</td>\n",
       "      <td>8</td>\n",
       "      <td>16</td>\n",
       "      <td>0.744584</td>\n",
       "      <td>0.031792</td>\n",
       "      <td>CopiedGraphs</td>\n",
       "    </tr>\n",
       "    <tr>\n",
       "      <th>25</th>\n",
       "      <td>25</td>\n",
       "      <td>8</td>\n",
       "      <td>64</td>\n",
       "      <td>0.905262</td>\n",
       "      <td>0.020179</td>\n",
       "      <td>CopiedGraphs</td>\n",
       "    </tr>\n",
       "    <tr>\n",
       "      <th>26</th>\n",
       "      <td>26</td>\n",
       "      <td>8</td>\n",
       "      <td>16</td>\n",
       "      <td>0.744584</td>\n",
       "      <td>0.031792</td>\n",
       "      <td>CopiedGraphs</td>\n",
       "    </tr>\n",
       "    <tr>\n",
       "      <th>33</th>\n",
       "      <td>33</td>\n",
       "      <td>9</td>\n",
       "      <td>18</td>\n",
       "      <td>0.741716</td>\n",
       "      <td>0.032845</td>\n",
       "      <td>CopiedGraphs</td>\n",
       "    </tr>\n",
       "    <tr>\n",
       "      <th>34</th>\n",
       "      <td>34</td>\n",
       "      <td>9</td>\n",
       "      <td>81</td>\n",
       "      <td>0.908171</td>\n",
       "      <td>0.012896</td>\n",
       "      <td>CopiedGraphs</td>\n",
       "    </tr>\n",
       "    <tr>\n",
       "      <th>35</th>\n",
       "      <td>35</td>\n",
       "      <td>9</td>\n",
       "      <td>27</td>\n",
       "      <td>0.787605</td>\n",
       "      <td>0.026221</td>\n",
       "      <td>CopiedGraphs</td>\n",
       "    </tr>\n",
       "    <tr>\n",
       "      <th>42</th>\n",
       "      <td>42</td>\n",
       "      <td>10</td>\n",
       "      <td>20</td>\n",
       "      <td>0.793371</td>\n",
       "      <td>0.016031</td>\n",
       "      <td>CopiedGraphs</td>\n",
       "    </tr>\n",
       "    <tr>\n",
       "      <th>43</th>\n",
       "      <td>43</td>\n",
       "      <td>10</td>\n",
       "      <td>100</td>\n",
       "      <td>0.918201</td>\n",
       "      <td>0.023117</td>\n",
       "      <td>CopiedGraphs</td>\n",
       "    </tr>\n",
       "    <tr>\n",
       "      <th>44</th>\n",
       "      <td>44</td>\n",
       "      <td>10</td>\n",
       "      <td>30</td>\n",
       "      <td>0.804830</td>\n",
       "      <td>0.024961</td>\n",
       "      <td>CopiedGraphs</td>\n",
       "    </tr>\n",
       "    <tr>\n",
       "      <th>51</th>\n",
       "      <td>51</td>\n",
       "      <td>11</td>\n",
       "      <td>22</td>\n",
       "      <td>0.810576</td>\n",
       "      <td>0.024545</td>\n",
       "      <td>CopiedGraphs</td>\n",
       "    </tr>\n",
       "    <tr>\n",
       "      <th>52</th>\n",
       "      <td>52</td>\n",
       "      <td>11</td>\n",
       "      <td>121</td>\n",
       "      <td>0.943988</td>\n",
       "      <td>0.024154</td>\n",
       "      <td>CopiedGraphs</td>\n",
       "    </tr>\n",
       "    <tr>\n",
       "      <th>53</th>\n",
       "      <td>53</td>\n",
       "      <td>11</td>\n",
       "      <td>33</td>\n",
       "      <td>0.813464</td>\n",
       "      <td>0.019250</td>\n",
       "      <td>CopiedGraphs</td>\n",
       "    </tr>\n",
       "    <tr>\n",
       "      <th>60</th>\n",
       "      <td>60</td>\n",
       "      <td>12</td>\n",
       "      <td>24</td>\n",
       "      <td>0.751747</td>\n",
       "      <td>0.028585</td>\n",
       "      <td>CopiedGraphs</td>\n",
       "    </tr>\n",
       "    <tr>\n",
       "      <th>61</th>\n",
       "      <td>61</td>\n",
       "      <td>12</td>\n",
       "      <td>144</td>\n",
       "      <td>0.971274</td>\n",
       "      <td>0.016910</td>\n",
       "      <td>CopiedGraphs</td>\n",
       "    </tr>\n",
       "    <tr>\n",
       "      <th>62</th>\n",
       "      <td>62</td>\n",
       "      <td>12</td>\n",
       "      <td>36</td>\n",
       "      <td>0.814872</td>\n",
       "      <td>0.026032</td>\n",
       "      <td>CopiedGraphs</td>\n",
       "    </tr>\n",
       "    <tr>\n",
       "      <th>69</th>\n",
       "      <td>69</td>\n",
       "      <td>13</td>\n",
       "      <td>26</td>\n",
       "      <td>0.756043</td>\n",
       "      <td>0.032566</td>\n",
       "      <td>CopiedGraphs</td>\n",
       "    </tr>\n",
       "    <tr>\n",
       "      <th>70</th>\n",
       "      <td>70</td>\n",
       "      <td>13</td>\n",
       "      <td>169</td>\n",
       "      <td>0.975612</td>\n",
       "      <td>0.012029</td>\n",
       "      <td>CopiedGraphs</td>\n",
       "    </tr>\n",
       "    <tr>\n",
       "      <th>71</th>\n",
       "      <td>71</td>\n",
       "      <td>13</td>\n",
       "      <td>39</td>\n",
       "      <td>0.869435</td>\n",
       "      <td>0.025131</td>\n",
       "      <td>CopiedGraphs</td>\n",
       "    </tr>\n",
       "    <tr>\n",
       "      <th>78</th>\n",
       "      <td>78</td>\n",
       "      <td>14</td>\n",
       "      <td>28</td>\n",
       "      <td>0.796228</td>\n",
       "      <td>0.027540</td>\n",
       "      <td>CopiedGraphs</td>\n",
       "    </tr>\n",
       "    <tr>\n",
       "      <th>79</th>\n",
       "      <td>79</td>\n",
       "      <td>14</td>\n",
       "      <td>196</td>\n",
       "      <td>0.974173</td>\n",
       "      <td>0.010913</td>\n",
       "      <td>CopiedGraphs</td>\n",
       "    </tr>\n",
       "    <tr>\n",
       "      <th>80</th>\n",
       "      <td>80</td>\n",
       "      <td>14</td>\n",
       "      <td>42</td>\n",
       "      <td>0.860812</td>\n",
       "      <td>0.027281</td>\n",
       "      <td>CopiedGraphs</td>\n",
       "    </tr>\n",
       "  </tbody>\n",
       "</table>\n",
       "</div>"
      ],
      "text/plain": [
       "    exp_id  note.predictor_hidden_dim  note.latent_dim  metric.lr/acc_mean  \\\n",
       "6        6                          6               12            0.705817   \n",
       "7        7                          6               36            0.820627   \n",
       "8        8                          6               12            0.705817   \n",
       "15      15                          7               14            0.718756   \n",
       "16      16                          7               49            0.865067   \n",
       "17      17                          7               14            0.718756   \n",
       "24      24                          8               16            0.744584   \n",
       "25      25                          8               64            0.905262   \n",
       "26      26                          8               16            0.744584   \n",
       "33      33                          9               18            0.741716   \n",
       "34      34                          9               81            0.908171   \n",
       "35      35                          9               27            0.787605   \n",
       "42      42                         10               20            0.793371   \n",
       "43      43                         10              100            0.918201   \n",
       "44      44                         10               30            0.804830   \n",
       "51      51                         11               22            0.810576   \n",
       "52      52                         11              121            0.943988   \n",
       "53      53                         11               33            0.813464   \n",
       "60      60                         12               24            0.751747   \n",
       "61      61                         12              144            0.971274   \n",
       "62      62                         12               36            0.814872   \n",
       "69      69                         13               26            0.756043   \n",
       "70      70                         13              169            0.975612   \n",
       "71      71                         13               39            0.869435   \n",
       "78      78                         14               28            0.796228   \n",
       "79      79                         14              196            0.974173   \n",
       "80      80                         14               42            0.860812   \n",
       "\n",
       "    metric.lr/acc_std  hp.data.mode  \n",
       "6            0.038513  CopiedGraphs  \n",
       "7            0.011949  CopiedGraphs  \n",
       "8            0.038513  CopiedGraphs  \n",
       "15           0.030635  CopiedGraphs  \n",
       "16           0.034553  CopiedGraphs  \n",
       "17           0.030635  CopiedGraphs  \n",
       "24           0.031792  CopiedGraphs  \n",
       "25           0.020179  CopiedGraphs  \n",
       "26           0.031792  CopiedGraphs  \n",
       "33           0.032845  CopiedGraphs  \n",
       "34           0.012896  CopiedGraphs  \n",
       "35           0.026221  CopiedGraphs  \n",
       "42           0.016031  CopiedGraphs  \n",
       "43           0.023117  CopiedGraphs  \n",
       "44           0.024961  CopiedGraphs  \n",
       "51           0.024545  CopiedGraphs  \n",
       "52           0.024154  CopiedGraphs  \n",
       "53           0.019250  CopiedGraphs  \n",
       "60           0.028585  CopiedGraphs  \n",
       "61           0.016910  CopiedGraphs  \n",
       "62           0.026032  CopiedGraphs  \n",
       "69           0.032566  CopiedGraphs  \n",
       "70           0.012029  CopiedGraphs  \n",
       "71           0.025131  CopiedGraphs  \n",
       "78           0.027540  CopiedGraphs  \n",
       "79           0.010913  CopiedGraphs  \n",
       "80           0.027281  CopiedGraphs  "
      ]
     },
     "execution_count": 21,
     "metadata": {},
     "output_type": "execute_result"
    }
   ],
   "source": [
    "data_exp[data_exp['hp.data.mode'] == 'CopiedGraphs']"
   ]
  },
  {
   "cell_type": "code",
   "execution_count": 25,
   "id": "208d199f",
   "metadata": {},
   "outputs": [
    {
     "data": {
      "image/png": "[encoded data removed]",
      "text/plain": [
       "<Figure size 800x500 with 1 Axes>"
      ]
     },
     "metadata": {},
     "output_type": "display_data"
    }
   ],
   "source": [
    "plt.figure(figsize=(8,5))\n",
    "for mode, g in data_exp.groupby(\"hp.data.mode\"):\n",
    "    g = (g[[\"note.latent_dim\",\"metric.lr/acc_mean\",\"metric.lr/acc_std\"]]\n",
    "         .dropna()\n",
    "         .groupby(\"note.latent_dim\", as_index=False).mean()\n",
    "         .sort_values(\"note.latent_dim\"))\n",
    "    plt.errorbar(g[\"note.latent_dim\"], g[\"metric.lr/acc_mean\"],\n",
    "                 yerr=g[\"metric.lr/acc_std\"], fmt='-o', capsize=3, label=mode)\n",
    "plt.xlabel(\"latent_dim\"); plt.ylabel(\"acc_mean\"); plt.legend(); plt.grid(True); plt.tight_layout(); plt.show()\n"
   ]
  }
 ],
 "metadata": {
  "kernelspec": {
   "display_name": "Python 3",
   "language": "python",
   "name": "python3"
  },
  "language_info": {
   "codemirror_mode": {
    "name": "ipython",
    "version": 3
   },
   "file_extension": ".py",
   "mimetype": "text/x-python",
   "name": "python",
   "nbconvert_exporter": "python",
   "pygments_lexer": "ipython3",
   "version": "3.10.12"
  }
 },
 "nbformat": 4,
 "nbformat_minor": 5
}
